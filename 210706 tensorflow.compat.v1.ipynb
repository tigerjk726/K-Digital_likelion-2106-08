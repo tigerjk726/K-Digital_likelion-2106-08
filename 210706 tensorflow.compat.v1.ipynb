{
 "cells": [
  {
   "cell_type": "code",
   "execution_count": 48,
   "id": "7453787e",
   "metadata": {},
   "outputs": [
    {
     "name": "stdout",
     "output_type": "stream",
     "text": [
      "Epoch:0, RMSE = 3.3303, 기울기a = 0.7776, y절편 = 16.1225\n",
      "Epoch:100, RMSE = 3.1283, 기울기a = -0.2779, y절편 = 15.6790\n",
      "Epoch:200, RMSE = 3.1274, 기울기a = -0.3505, y절편 = 15.6691\n",
      "Epoch:300, RMSE = 3.1274, 기울기a = -0.3555, y절편 = 15.6693\n",
      "Epoch:400, RMSE = 3.1274, 기울기a = -0.3558, y절편 = 15.6693\n",
      "Epoch:500, RMSE = 3.1274, 기울기a = -0.3558, y절편 = 15.6693\n",
      "Epoch:600, RMSE = 3.1274, 기울기a = -0.3558, y절편 = 15.6693\n",
      "Epoch:700, RMSE = 3.1274, 기울기a = -0.3558, y절편 = 15.6693\n",
      "Epoch:800, RMSE = 3.1274, 기울기a = -0.3558, y절편 = 15.6693\n",
      "Epoch:900, RMSE = 3.1274, 기울기a = -0.3558, y절편 = 15.6693\n",
      "Epoch:1000, RMSE = 3.1274, 기울기a = -0.3558, y절편 = 15.6693\n",
      "Epoch:1100, RMSE = 3.1274, 기울기a = -0.3558, y절편 = 15.6693\n",
      "Epoch:1200, RMSE = 3.1274, 기울기a = -0.3558, y절편 = 15.6693\n",
      "Epoch:1300, RMSE = 3.1274, 기울기a = -0.3558, y절편 = 15.6693\n",
      "Epoch:1400, RMSE = 3.1274, 기울기a = -0.3558, y절편 = 15.6693\n",
      "Epoch:1500, RMSE = 3.1274, 기울기a = -0.3558, y절편 = 15.6693\n",
      "Epoch:1600, RMSE = 3.1274, 기울기a = -0.3558, y절편 = 15.6693\n",
      "Epoch:1700, RMSE = 3.1274, 기울기a = -0.3558, y절편 = 15.6693\n",
      "Epoch:1800, RMSE = 3.1274, 기울기a = -0.3558, y절편 = 15.6693\n",
      "Epoch:1900, RMSE = 3.1274, 기울기a = -0.3558, y절편 = 15.6693\n"
     ]
    },
    {
     "data": {
      "image/png": "[encoded data removed]",
      "text/plain": [
       "<Figure size 432x288 with 1 Axes>"
      ]
     },
     "metadata": {
      "needs_background": "light"
     },
     "output_type": "display_data"
    }
   ],
   "source": [
    "import numpy as np\n",
    "import matplotlib.pyplot as plt\n",
    "import matplotlib as mpl\n",
    "import tensorflow.compat.v1 as tf\n",
    "tf.disable_v2_behavior()\n",
    "\n",
    "\n",
    "%matplotlib inline\n",
    "mpl.rc('font', family='NanumGothicCoding')\n",
    "mpl.rc('axes', unicode_minus=False)\n",
    "\n",
    "data = [[0.3,12.27],[-0.78,14.44],[1.26,11.87],[0.03,18.75],[1.11,17.52],[15.17,9.29],[0.24,16.37],[-0.24,19.78],[-0.77,12.65],\n",
    "       [-0.47,19.51],[-0.37,14.74],[-0.85,10.72],[-0.41,21.94],[-0.27,12.83],[0.02,15.51],[-0.76,17.14],[2.66,14.42]]\n",
    "\n",
    "del data[5]\n",
    "\n",
    "x_data = [i[0] for i in data]\n",
    "y_data = [i[1] for i in data]\n",
    "\n",
    "\n",
    "a = tf.Variable(tf.random_uniform([1], 0, 1, dtype = tf.float64, seed = 0))\n",
    "b = tf.Variable(tf.random_uniform([1], 0, 20, dtype = tf.float64, seed = 0))\n",
    "\n",
    "y = a * x_data + b\n",
    "\n",
    "rmse = tf.sqrt(tf.reduce_mean(tf.square(y-y_data)))\n",
    "\n",
    "lr = 0.1\n",
    "\n",
    "gradient_decent = tf.train.GradientDescentOptimizer(lr).minimize(rmse)\n",
    "\n",
    "with tf.Session() as sess:\n",
    "    sess.run(tf.global_variables_initializer())\n",
    "    for step in range(2000):\n",
    "        sess.run(gradient_decent)\n",
    "        if step % 100 ==0:\n",
    "            print(\"Epoch:%.f, RMSE = %.04f, 기울기a = %.4f, y절편 = %.4f\"%(step, sess.run(rmse),sess.run(a),sess.run(b)))\n",
    "\n",
    "    a_data = sess.run(a)\n",
    "    b_data = sess.run(b)\n",
    "    \n",
    "line_x = np.arange(min(x_data), max(x_data),0.1)\n",
    "line_y = a_data * line_x + b_data\n",
    "#print(line_x)\n",
    "#print(line_y)\n",
    "\n",
    "plt.yticks(np.arange(50))\n",
    "plt.title(\"지역별 인구증가율과 고령인구비율\")\n",
    "plt.xlabel(\"Population Growth Rate(%)\")\n",
    "plt.ylabel(\"Elderly Growth Rage(%)\")\n",
    "plt.plot(line_x, line_y)\n",
    "plt.plot(x_data, y_data, 'bo')\n",
    "plt.show()"
   ]
  },
  {
   "cell_type": "code",
   "execution_count": 57,
   "id": "c1ff8ad7",
   "metadata": {},
   "outputs": [
    {
     "name": "stdout",
     "output_type": "stream",
     "text": [
      "Epoch:0, RMSE = 30.2139, 기울기a = 7.5235, y절편 = 80.5984\n",
      "Epoch:1000, RMSE = 2.8810, 기울기a = 2.2996, y절편 = 79.0026\n",
      "Epoch:2000, RMSE = 2.8810, 기울기a = 2.3000, y절편 = 79.0000\n"
     ]
    },
    {
     "data": {
      "image/png": "[encoded data removed]",
      "text/plain": [
       "<Figure size 432x288 with 1 Axes>"
      ]
     },
     "metadata": {
      "needs_background": "light"
     },
     "output_type": "display_data"
    }
   ],
   "source": [
    "data = [[2,81], [4,93], [6,91], [8,97]]\n",
    "\n",
    "x_data = [i[0] for i in data]\n",
    "y_data = [i[1] for i in data]\n",
    "\n",
    "\n",
    "a = tf.Variable(tf.random_uniform([1], 0, 10, dtype = tf.float64, seed = 0))\n",
    "b = tf.Variable(tf.random_uniform([1], 0, 100, dtype = tf.float64, seed = 0))\n",
    "\n",
    "y = a * x_data + b\n",
    "\n",
    "rmse = tf.sqrt(tf.reduce_mean(tf.square(y-y_data)))\n",
    "\n",
    "lr = 0.1\n",
    "\n",
    "gradient_decent = tf.train.GradientDescentOptimizer(lr).minimize(rmse)\n",
    "\n",
    "with tf.Session() as sess:\n",
    "    sess.run(tf.global_variables_initializer())\n",
    "    for step in range(2001):\n",
    "        sess.run(gradient_decent)\n",
    "        if step % 1000 ==0:\n",
    "            print(\"Epoch:%.f, RMSE = %.04f, 기울기a = %.4f, y절편 = %.4f\"%(step, sess.run(rmse),sess.run(a),sess.run(b)))\n",
    "    a_data = sess.run(a)\n",
    "    b_data = sess.run(b)\n",
    "    \n",
    "line_x = np.arange(min(x_data), max(x_data),0.1)\n",
    "line_y = a_data * line_x + b_data\n",
    "\n",
    "plt.yticks(np.arange(-30,120,1))\n",
    "plt.plot(line_x, line_y)\n",
    "plt.plot(x_data, y_data, 'bo')\n",
    "plt.show()"
   ]
  },
  {
   "cell_type": "code",
   "execution_count": 83,
   "id": "531b7b78",
   "metadata": {},
   "outputs": [
    {
     "name": "stdout",
     "output_type": "stream",
     "text": [
      "Epoch:0, RMSE = 49.1842, 기울기a1 = 7.5270, 기울기a1 = 7.8160, y절편 = 80.5980\n",
      "[ 95.65205187 141.9701668  141.392196   164.26226807]\n",
      "R1 =95..R2=141.. R3=141.. R4=164\n",
      "Epoch:100, RMSE = 1.8368, 기울기a1 = 1.1306, 기울기a1 = 2.1316, y절편 = 78.5119\n",
      "[80.7730054  91.56070432 89.55853302 93.95129683]\n",
      "R1 =80..R2=91.. R3=89.. R4=93\n",
      "Epoch:200, RMSE = 1.8370, 기울기a1 = 1.1879, 기울기a1 = 2.1487, y절편 = 78.1057\n",
      "[80.48144245 91.45217982 89.53042097 94.05491023]\n",
      "R1 =80..R2=91.. R3=89.. R4=94\n",
      "Epoch:300, RMSE = 1.8370, 기울기a1 = 1.2122, 기울기a1 = 2.1571, y절편 = 77.9352\n",
      "[80.35961055 91.41246226 89.5226924  94.10423333]\n",
      "R1 =80..R2=91.. R3=89.. R4=94\n",
      "Epoch:400, RMSE = 1.8370, 기울기a1 = 1.2226, 기울기a1 = 2.1607, y절편 = 77.8636\n",
      "[80.30868066 91.39647337 89.52026791 94.12606154]\n",
      "R1 =80..R2=91.. R3=89.. R4=94\n",
      "Epoch:500, RMSE = 1.8370, 기울기a1 = 1.2269, 기울기a1 = 2.1622, y절편 = 77.8335\n",
      "[80.2873292  91.38987892 89.5193943  94.13542684]\n",
      "R1 =80..R2=91.. R3=89.. R4=94\n",
      "Epoch:600, RMSE = 1.8370, 기울기a1 = 1.2288, 기울기a1 = 2.1628, y절편 = 77.8208\n",
      "[80.27836718 91.38713018 89.51905286 94.13939569]\n",
      "R1 =80..R2=91.. R3=89.. R4=94\n",
      "Epoch:700, RMSE = 1.8370, 기울기a1 = 1.2295, 기울기a1 = 2.1631, y절편 = 77.8155\n",
      "[80.27460357 91.38597923 89.51891393 94.14106911]\n",
      "R1 =80..R2=91.. R3=89.. R4=94\n",
      "Epoch:800, RMSE = 1.8370, 기울기a1 = 1.2299, 기울기a1 = 2.1632, y절편 = 77.8133\n",
      "[80.2730227  91.38549639 89.51885636 94.14177319]\n",
      "R1 =80..R2=91.. R3=89.. R4=94\n",
      "Epoch:900, RMSE = 1.8370, 기울기a1 = 1.2300, 기울기a1 = 2.1632, y절편 = 77.8124\n",
      "[80.27235861 91.38529366 89.51883232 94.14206917]\n",
      "R1 =80..R2=91.. R3=89.. R4=94\n",
      "Epoch:1000, RMSE = 1.8370, 기울기a1 = 1.2301, 기울기a1 = 2.1633, y절편 = 77.8120\n",
      "[80.27207964 91.38520851 89.51882224 94.14219354]\n",
      "R1 =80..R2=91.. R3=89.. R4=94\n",
      "Epoch:1100, RMSE = 1.8370, 기울기a1 = 1.2301, 기울기a1 = 2.1633, y절편 = 77.8118\n",
      "[80.27196244 91.38517275 89.51881801 94.1422458 ]\n",
      "R1 =80..R2=91.. R3=89.. R4=94\n",
      "Epoch:1200, RMSE = 1.8370, 기울기a1 = 1.2301, 기울기a1 = 2.1633, y절편 = 77.8117\n",
      "[80.2719132  91.38515772 89.51881624 94.14226775]\n",
      "R1 =80..R2=91.. R3=89.. R4=94\n",
      "Epoch:1300, RMSE = 1.8370, 기울기a1 = 1.2301, 기울기a1 = 2.1633, y절편 = 77.8117\n",
      "[80.27189252 91.38515141 89.51881549 94.14227698]\n",
      "R1 =80..R2=91.. R3=89.. R4=94\n",
      "Epoch:1400, RMSE = 1.8370, 기울기a1 = 1.2301, 기울기a1 = 2.1633, y절편 = 77.8117\n",
      "[80.27188383 91.38514876 89.51881518 94.14228085]\n",
      "R1 =80..R2=91.. R3=89.. R4=94\n",
      "Epoch:1500, RMSE = 1.8370, 기울기a1 = 1.2301, 기울기a1 = 2.1633, y절편 = 77.8117\n",
      "[80.27188018 91.38514765 89.51881504 94.14228248]\n",
      "R1 =80..R2=91.. R3=89.. R4=94\n",
      "Epoch:1600, RMSE = 1.8370, 기울기a1 = 1.2301, 기울기a1 = 2.1633, y절편 = 77.8117\n",
      "[80.27187864 91.38514718 89.51881499 94.14228316]\n",
      "R1 =80..R2=91.. R3=89.. R4=94\n",
      "Epoch:1700, RMSE = 1.8370, 기울기a1 = 1.2301, 기울기a1 = 2.1633, y절편 = 77.8117\n",
      "[80.271878   91.38514698 89.51881497 94.14228345]\n",
      "R1 =80..R2=91.. R3=89.. R4=94\n",
      "Epoch:1800, RMSE = 1.8370, 기울기a1 = 1.2301, 기울기a1 = 2.1633, y절편 = 77.8117\n",
      "[80.27187773 91.3851469  89.51881496 94.14228357]\n",
      "R1 =80..R2=91.. R3=89.. R4=94\n",
      "Epoch:1900, RMSE = 1.8370, 기울기a1 = 1.2301, 기울기a1 = 2.1633, y절편 = 77.8117\n",
      "[80.27187761 91.38514686 89.51881495 94.14228362]\n",
      "R1 =80..R2=91.. R3=89.. R4=94\n"
     ]
    }
   ],
   "source": [
    "import numpy as np\n",
    "import matplotlib.pyplot as plt\n",
    "import matplotlib as mpl\n",
    "import tensorflow.compat.v1 as tf\n",
    "tf.disable_v2_behavior()\n",
    "\n",
    "# x1, x2, y 데이터값\n",
    "data = [[2,0,81],[4,4,93],[6,2,91],[8,3,97]]\n",
    "x1 = [i[0] for i in data]\n",
    "x2 = [i[1] for i in data]\n",
    "y = [i[2] for i in data]\n",
    "#기울기 a와 y절편 b의 값을 임의로 정하고 a2는 새로 추가되는 값\n",
    "a1 = tf.Variable(tf.random_uniform([1], 0, 10, dtype = tf.float64, seed = 0))\n",
    "b = tf.Variable(tf.random_uniform([1], 0, 100, dtype = tf.float64, seed = 0))\n",
    "a2 = tf.Variable(tf.random_uniform([1], 0, 10, dtype = tf.float64, seed = 0))\n",
    "\n",
    "y = a1 * x1 + a2 * x2 + b\n",
    "\n",
    "rmse = tf.sqrt(tf.reduce_mean(tf.square(y-y_data)))\n",
    "\n",
    "lr = 0.1\n",
    "\n",
    "gradient_decent = tf.train.GradientDescentOptimizer(lr).minimize(rmse)\n",
    "\n",
    "with tf.Session() as sess:\n",
    "    sess.run(tf.global_variables_initializer())\n",
    "    for step in range(2000):\n",
    "        sess.run(gradient_decent)\n",
    "        if step % 100 ==0:\n",
    "            print(\"Epoch:%.f, RMSE = %.04f, 기울기a1 = %.4f, 기울기a1 = %.4f, y절편 = %.4f\"\n",
    "                  %(step, sess.run(rmse),sess.run(a1),sess.run(a2),sess.run(b)))\n",
    "            z = sess.run(y)\n",
    "            print(z)\n",
    "            print(\"R1 =%d..R2=%d.. R3=%d.. R4=%d\"%(z[0],z[1],z[2],z[3]))\n",
    "            "
   ]
  },
  {
   "cell_type": "code",
   "execution_count": 82,
   "id": "9081a2e5",
   "metadata": {},
   "outputs": [
    {
     "name": "stdout",
     "output_type": "stream",
     "text": [
      "[80.2719, 91.3853, 89.5189, 94.14240000000001]\n",
      "점수평균 :  88.82962500000001\n",
      "오차평균 :  1.6703749999999928\n"
     ]
    }
   ],
   "source": [
    "data = [[2,0,81],[4,4,93],[6,2,91],[8,3,97]]\n",
    "x1 = [i[0] for i in data]\n",
    "x2 = [i[1] for i in data]\n",
    "y = [i[2] for i in data]\n",
    "\n",
    "ab = [1.2301,2.1633,77.8117]\n",
    "a1b1 = [2.3,79]\n",
    "\n",
    "def predict(x1,x2): # y = ax + b에 a와 b의 값을 대입하여 결과를 출력하는 함수\n",
    "    return ab[0] * x1 + ab[1] * x2 + ab[2]\n",
    "\n",
    "def rmse(p, a): # RMSE함수는 평균제곱근 오차함수, # sqrt는 제곱근, mean은 평균값, p 는 실제값, a 는 예측값\n",
    "    return np.sqrt(((p-a)**2).mean()) \n",
    "\n",
    "predict_result = []\n",
    "\n",
    "for i in range(len(data)):\n",
    "    predict_result.append(predict(x1[i],x2[i]))\n",
    "\n",
    "print(predict_result)\n",
    "print(\"점수평균 : \", np.mean(predict_result))\n",
    "print(\"오차평균 : \", abs(np.mean(predict_result) - np.mean(y)))"
   ]
  },
  {
   "cell_type": "code",
   "execution_count": null,
   "id": "1b9b8f3e",
   "metadata": {},
   "outputs": [],
   "source": [
    "\n",
    "def predict2(x): # y = ax + b에 a와 b의 값을 대입하여 결과를 출력하는 함수\n",
    "    return a1b1[0] * x + a1b1[1]\n",
    "\n",
    "def rmse2(p, a): # RMSE함수는 평균제곱근 오차함수, # sqrt는 제곱근, mean은 평균값, p 는 실제값, a 는 예측값\n",
    "    return np.sqrt(((p-a)**2).mean()) \n",
    "\n",
    "def rmse_val2(predict_result, y):\n",
    "    return rmse(np.array(predict_result), np.array(y))\n"
   ]
  }
 ],
 "metadata": {
  "kernelspec": {
   "display_name": "Python 3",
   "language": "python",
   "name": "python3"
  },
  "language_info": {
   "codemirror_mode": {
    "name": "ipython",
    "version": 3
   },
   "file_extension": ".py",
   "mimetype": "text/x-python",
   "name": "python",
   "nbconvert_exporter": "python",
   "pygments_lexer": "ipython3",
   "version": "3.8.8"
  }
 },
 "nbformat": 4,
 "nbformat_minor": 5
}
