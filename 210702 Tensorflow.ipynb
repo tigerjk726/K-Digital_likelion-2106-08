{
 "cells": [
  {
   "cell_type": "code",
   "execution_count": null,
   "id": "3c4ba770",
   "metadata": {},
   "outputs": [],
   "source": [
    "import tensorflow.compat.v1 as tf  # 텐서플로우 버전1 사용, 버전2는 제외\n",
    "tf.disable_v2_behavior()\n",
    "\n",
    "a = tf.constant(7.0, name = 'data1')\n",
    "b = tf.constant(3.0, name = 'data2')\n",
    "c = tf.constant(2.0, name = 'data3')\n",
    "\n",
    "v = a * b / c\n",
    "print(v)\n",
    "with tf.Session() as sess:\n",
    "    sess.run(tf.global_variables_initializer())\n",
    "    print(sess.run(v))"
   ]
  },
  {
   "cell_type": "code",
   "execution_count": null,
   "id": "fb0dc17a",
   "metadata": {},
   "outputs": [],
   "source": [
    "import tensorflow.compat.v1 as tf\n",
    "tf.disable_v2_behavior()\n",
    "\n",
    "a = tf.constant(5.0, name = 'a')\n",
    "b = tf.constant(3.0, name = 'b')\n",
    "c = tf.multiply(a,b, name = 'c')\n",
    "d = tf.add(a,b, name = 'd')\n",
    "e = tf.add(c,d, name = 'e')\n",
    "\n",
    "sess = tf.Session()\n",
    "print(sess.run(e))"
   ]
  },
  {
   "cell_type": "code",
   "execution_count": null,
   "id": "005b383e",
   "metadata": {},
   "outputs": [],
   "source": [
    "import tensorflow.compat.v1 as tf\n",
    "tf.disable_v2_behavior()\n",
    "\n",
    "tf.get_default_graph().get_operations()"
   ]
  },
  {
   "cell_type": "code",
   "execution_count": null,
   "id": "fe10e7b2",
   "metadata": {},
   "outputs": [],
   "source": [
    "import tensorflow.compat.v1 as tf\n",
    "tf.disable_v2_behavior()\n",
    "\n",
    "a = tf.constant(7.0, name = 'data1')\n",
    "b = tf.constant(3.0, name = 'data2')\n",
    "c = tf.constant(2.0, name = 'data3')\n",
    "\n",
    "tf.get_default_graph().get_operations()"
   ]
  },
  {
   "cell_type": "code",
   "execution_count": null,
   "id": "e5a56d97",
   "metadata": {},
   "outputs": [],
   "source": [
    "print(a)"
   ]
  },
  {
   "cell_type": "code",
   "execution_count": null,
   "id": "3c5d3ef5",
   "metadata": {},
   "outputs": [],
   "source": [
    "print(a.op) # a의 오퍼레이션"
   ]
  },
  {
   "cell_type": "code",
   "execution_count": null,
   "id": "2c14273d",
   "metadata": {},
   "outputs": [],
   "source": [
    "print(a.op.outputs) #a의 출력에 접근하여 a의 입력값 확인"
   ]
  },
  {
   "cell_type": "code",
   "execution_count": null,
   "id": "4c141646",
   "metadata": {},
   "outputs": [],
   "source": [
    "print(a is a.op.outputs[0])"
   ]
  },
  {
   "cell_type": "code",
   "execution_count": null,
   "id": "83e1301f",
   "metadata": {},
   "outputs": [],
   "source": [
    "print(a.op.node_def.attr['value'].tensor.float_val[0]) #a의 오퍼레이션 프로토콜 버퍼에서 출력값을 확인해볼수있음"
   ]
  },
  {
   "cell_type": "code",
   "execution_count": null,
   "id": "c6168758",
   "metadata": {},
   "outputs": [],
   "source": [
    "v = a * b / c\n",
    "tf.get_default_graph().get_operations()"
   ]
  },
  {
   "cell_type": "code",
   "execution_count": null,
   "id": "4e1ec9bf",
   "metadata": {},
   "outputs": [],
   "source": [
    "print('v.op.outputs=', v.op.outputs)"
   ]
  },
  {
   "cell_type": "code",
   "execution_count": null,
   "id": "3b2430ac",
   "metadata": {},
   "outputs": [],
   "source": [
    "print(v.op)"
   ]
  },
  {
   "cell_type": "code",
   "execution_count": null,
   "id": "49e94471",
   "metadata": {},
   "outputs": [],
   "source": [
    "print(v.op.inputs[0])\n",
    "print(v.op.inputs[1])"
   ]
  },
  {
   "cell_type": "code",
   "execution_count": null,
   "id": "67567139",
   "metadata": {},
   "outputs": [],
   "source": [
    "import tensorflow.compat.v1 as tf\n",
    "tf.disable_v2_behavior()\n",
    "\n",
    "a = tf.constant(5.0, name = 'a')\n",
    "b = tf.constant(3.0, name = 'b')\n",
    "c = tf.multiply(a,b, name = 'c')\n",
    "d = tf.add(a,b, name = 'd')\n",
    "e = tf.add(c,d, name = 'e')\n",
    "    \n",
    "sess = tf.Session()\n",
    "outs = sess.run(e)\n",
    "sess.close()\n",
    "print(\"outs =\", outs)\n"
   ]
  },
  {
   "cell_type": "code",
   "execution_count": null,
   "id": "d970c2f6",
   "metadata": {},
   "outputs": [],
   "source": [
    "import tensorflow.compat.v1 as tf\n",
    "tf.disable_v2_behavior()\n",
    "\n",
    "hello = tf.constant(\"Hello, Tensorflow!\")\n",
    "sess = tf.Session()\n",
    "\n",
    "print(sess.run(hello))\n",
    "\n",
    "sess.close()"
   ]
  },
  {
   "cell_type": "code",
   "execution_count": null,
   "id": "cb9606d5",
   "metadata": {},
   "outputs": [],
   "source": [
    "import tensorflow.compat.v1 as tf\n",
    "tf.disable_v2_behavior()\n",
    "\n",
    "input_Data = [1,2,3,4,5]\n",
    "\n",
    "x = tf.placeholder(dtype=tf.float32)\n",
    "y = x * 2\n",
    "\n",
    "sess = tf.Session()\n",
    "result = sess.run(y, feed_dict={x:input_Data})\n",
    "print(result)"
   ]
  },
  {
   "cell_type": "code",
   "execution_count": null,
   "id": "63ce2776",
   "metadata": {},
   "outputs": [],
   "source": [
    "import tensorflow.compat.v1 as tf\n",
    "tf.disable_v2_behavior()\n",
    "\n",
    "p_holder1 = tf.placeholder(dtype=tf.float32)\n",
    "p_holder2 = tf.placeholder(dtype=tf.float32)\n",
    "p_holder3 = tf.placeholder(dtype=tf.float32)\n",
    "val1 = 5\n",
    "val2 = 10\n",
    "val3 = 3\n",
    "\n",
    "ret_val = p_holder1 * p_holder2 + p_holder3\n",
    "\n",
    "sess = tf.Session()\n",
    "feed_dict_data = {p_holder1 : val1, p_holder2 : val2, p_holder3 : val3,}\n",
    "result = sess.run(ret_val, feed_dict=feed_dict_data)\n",
    "sess.close()\n",
    "print(result)"
   ]
  },
  {
   "cell_type": "code",
   "execution_count": null,
   "id": "419fe1a7",
   "metadata": {},
   "outputs": [],
   "source": [
    "import tensorflow.compat.v1 as tf\n",
    "tf.disable_v2_behavior()\n",
    "\n",
    "I = tf.placeholder(tf.float32, [2,4])\n",
    "i = [[1,2,3,4],[5,6,7,8]]\n",
    "\n",
    "W = tf.placeholder(tf.float32, [4,2])\n",
    "w= [[1,1],[2,2],[3,3],[4,4]]\n",
    "\n",
    "m_cal = tf.matmul(I,W)\n",
    "\n",
    "sess = tf.Session()\n",
    "result = sess.run(m_cal, feed_dict={I:i, W:w})\n",
    "sess.close()\n",
    "\n",
    "print(result)\n"
   ]
  },
  {
   "cell_type": "code",
   "execution_count": null,
   "id": "76cfbfa9",
   "metadata": {},
   "outputs": [],
   "source": [
    "import tensorflow.compat.v1 as tf\n",
    "tf.disable_v2_behavior()\n",
    "\n",
    "I = tf.Variable([[1,2,3,4],[5,6,7,8]], tf.float32)\n",
    "W = tf.Variable([[1,1],[2,2],[3,3],[4,4]], tf.float32)\n",
    "\n",
    "m_cal = tf.matmul(I,W)\n",
    "\n",
    "sess = tf.Session()\n",
    "sess.run(tf.global_variables_initializer())\n",
    "\n",
    "print(sess.run(m_cal))\n",
    "sess.close()"
   ]
  },
  {
   "cell_type": "code",
   "execution_count": null,
   "id": "ffabec5a",
   "metadata": {},
   "outputs": [],
   "source": [
    "import tensorflow.compat.v1 as tf\n",
    "tf.disable_v2_behavior()\n",
    "\n",
    "input_Data = [1,2,3,4,5]\n",
    "x = tf.placeholder(dtype=tf.float32)\n",
    "W = tf.Variable([2], dtype=tf.float32)\n",
    "y = W * x\n",
    "\n",
    "sess = tf.Session()\n",
    "\n",
    "init = tf.global_variables_initializer()\n",
    "sess.run(init)\n",
    "\n",
    "result = sess.run(y, feed_dict={x:input_Data})\n",
    "print(result)"
   ]
  },
  {
   "cell_type": "code",
   "execution_count": null,
   "id": "2581e36c",
   "metadata": {},
   "outputs": [],
   "source": [
    "import tensorflow.compat.v1 as tf\n",
    "tf.disable_v2_behavior()\n",
    "\n",
    "x = tf.Variable(5, dtype=tf.int32)\n",
    "print(x)\n",
    "\n",
    "z = tf.assign(x, 7) # tf.global_variables_initializer() 과 같음\n",
    "\n",
    "sess = tf.Session()\n",
    "sess.run(z)\n",
    "y = sess.run(x)\n",
    "print(y)\n",
    "sess.close()"
   ]
  },
  {
   "cell_type": "code",
   "execution_count": null,
   "id": "abce99f7",
   "metadata": {},
   "outputs": [],
   "source": [
    "import tensorflow.compat.v1 as tf\n",
    "tf.disable_v2_behavior()\n",
    "\n",
    "x = tf.Variable(tf.zeros((2,2)), dtype=tf.float32)\n",
    "\n",
    "y = tf.Variable([[1,2], [3,4]], dtype=tf.float32)\n",
    "x = tf.assign(x, y) # y값을 x로 넣어주고 이니셜라이징해줘도\n",
    "\n",
    "sess = tf.Session()\n",
    "\n",
    "z = tf.global_variables_initializer() # y를 또 이니셜라이징해줘야 실행됨\n",
    "\n",
    "sess.run(z)\n",
    "k = sess.run(x)\n",
    "print(k)\n",
    "sess.close()"
   ]
  },
  {
   "cell_type": "code",
   "execution_count": 3,
   "id": "4e0126af",
   "metadata": {},
   "outputs": [
    {
     "name": "stdout",
     "output_type": "stream",
     "text": [
      "[11. 22. 33. 44. 55.]\n"
     ]
    }
   ],
   "source": [
    "import tensorflow.compat.v1 as tf\n",
    "tf.disable_v2_behavior()\n",
    "\n",
    "mat_mg = [1,2,3,4,5]\n",
    "label = [10,20,30,40,50]\n",
    "ph_img = tf.placeholder(dtype=tf.float32)\n",
    "ph_lb = tf.placeholder(dtype=tf.float32)\n",
    "\n",
    "ret_tensor = ph_img + ph_lb\n",
    "\n",
    "sess = tf.Session()\n",
    "feed_dict_data = {ph_img : mat_mg, ph_lb : label}\n",
    "result = sess.run(ret_tensor, feed_dict=feed_dict_data)\n",
    "sess.close()\n",
    "print(result)"
   ]
  },
  {
   "cell_type": "code",
   "execution_count": 4,
   "id": "57af0de6",
   "metadata": {},
   "outputs": [
    {
     "name": "stdout",
     "output_type": "stream",
     "text": [
      "[[12.]\n",
      " [12.]\n",
      " [18.]]\n"
     ]
    }
   ],
   "source": [
    "import tensorflow.compat.v1 as tf\n",
    "tf.disable_v2_behavior()\n",
    "\n",
    "input_data = [[1.,2.,3.],[1.,2.,3.],[2.,3.,4.]]\n",
    "x = tf.placeholder(dtype=tf.float32, shape=[None,3])\n",
    "w = tf.Variable([[2.,], [2.,], [2.,]], dtype=tf.float32)\n",
    "y = tf.matmul(x,w)\n",
    "sess = tf.Session()\n",
    "\n",
    "init = tf.global_variables_initializer()\n",
    "sess.run(init)\n",
    "\n",
    "result = sess.run(y, feed_dict={x:input_data})\n",
    "print(result)"
   ]
  },
  {
   "cell_type": "code",
   "execution_count": 5,
   "id": "f5d47fec",
   "metadata": {},
   "outputs": [
    {
     "name": "stdout",
     "output_type": "stream",
     "text": [
      "(2, 3)\n",
      "[[10.]\n",
      " [16.]]\n"
     ]
    }
   ],
   "source": [
    "import tensorflow.compat.v1 as tf\n",
    "tf.disable_v2_behavior()\n",
    "\n",
    "input_data = [[1,1,1],[2,2,2]]\n",
    "x = tf.placeholder(dtype=tf.float32, shape=[2,3])\n",
    "w = tf.Variable([[2], [2], [2]], dtype=tf.float32)\n",
    "b = tf.Variable([4],dtype=tf.float32)\n",
    "\n",
    "y = tf.matmul(x,w) + b # 브로드캐스팅으로 1*1행렬을 더하는 대상에 맞게 2*1행렬로 자동으로 stretch한다. 줄이는건 불가능\n",
    "print(x.get_shape())\n",
    "\n",
    "sess = tf.Session()\n",
    "\n",
    "init = tf.global_variables_initializer()\n",
    "sess.run(init)\n",
    "\n",
    "result = sess.run(y, feed_dict={x:input_data})\n",
    "print(result)"
   ]
  },
  {
   "cell_type": "code",
   "execution_count": 6,
   "id": "91c8b094",
   "metadata": {},
   "outputs": [
    {
     "name": "stdout",
     "output_type": "stream",
     "text": [
      "(1, 3)\n",
      "(3, 1)\n",
      "(1, 1)\n",
      "Tensor(\"MatMul_2:0\", shape=(1, 1), dtype=float32)\n",
      "[[12.]]\n"
     ]
    }
   ],
   "source": [
    "import tensorflow.compat.v1 as tf\n",
    "tf.disable_v2_behavior()\n",
    "a = tf.constant([[1.,2.,3.]])\n",
    "b = tf.constant([[2.0],[2.0],[2.0]])\n",
    "y = tf.matmul(a,b)\n",
    "print(a.get_shape())\n",
    "print(b.get_shape())\n",
    "print(y.get_shape())\n",
    "print(y)\n",
    "\n",
    "sess = tf.Session()\n",
    "\n",
    "init = tf.global_variables_initializer()\n",
    "sess.run(init)\n",
    "\n",
    "result = sess.run(y)\n",
    "print(result)"
   ]
  },
  {
   "cell_type": "code",
   "execution_count": null,
   "id": "baf75708",
   "metadata": {},
   "outputs": [],
   "source": []
  }
 ],
 "metadata": {
  "kernelspec": {
   "display_name": "Python 3",
   "language": "python",
   "name": "python3"
  },
  "language_info": {
   "codemirror_mode": {
    "name": "ipython",
    "version": 3
   },
   "file_extension": ".py",
   "mimetype": "text/x-python",
   "name": "python",
   "nbconvert_exporter": "python",
   "pygments_lexer": "ipython3",
   "version": "3.8.8"
  }
 },
 "nbformat": 4,
 "nbformat_minor": 5
}
