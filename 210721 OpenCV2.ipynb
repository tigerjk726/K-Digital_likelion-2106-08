{
 "cells": [
  {
   "cell_type": "code",
   "execution_count": 6,
   "id": "53b0012c",
   "metadata": {},
   "outputs": [
    {
     "name": "stdout",
     "output_type": "stream",
     "text": [
      "16/32비트 영상행렬 좌표(10,10) 화소값\n",
      "16bit unchanged 원소 자료형 <class 'numpy.uint16'>\n",
      "16bit unchanged 화소값(3원소) [48573 34438 23387]\n",
      "32bit unchanged 원소 자료형 <class 'numpy.uint16'>\n",
      "32bit unchanged 화소값(3원소) [59367 48830 35980]\n",
      "\n",
      "16bit unchanged: depth(uint16), channels(3) -> mat_type(CV_16UC3)\n",
      "32bit unchanged: depth(uint16), channels(3) -> mat_type(CV_16UC3)\n"
     ]
    },
    {
     "data": {
      "text/plain": [
       "-1"
      ]
     },
     "execution_count": 6,
     "metadata": {},
     "output_type": "execute_result"
    }
   ],
   "source": [
    "###############################\n",
    "# 영상 파일 16비트 32비트 읽기\n",
    "\n",
    "import cv2\n",
    "from Common.utils import print_matInfo\n",
    "\n",
    "title1, title2 = '16bit unchanged','32bit unchanged'\n",
    "color2unchanged1 = cv2.imread('images/read_16.tif', cv2.IMREAD_UNCHANGED)\n",
    "color2unchanged2 = cv2.imread('images/read_32.tif', cv2.IMREAD_UNCHANGED)\n",
    "\n",
    "if color2unchanged1 is None or color2unchanged2 is None :\n",
    "    raise Exception(\"영상 읽기에러\")\n",
    "    \n",
    "print('16/32비트 영상행렬 좌표(10,10) 화소값')\n",
    "\n",
    "print(title1, \"원소 자료형\", type(color2unchanged1[10][10][0]))\n",
    "print(title1, \"화소값(3원소)\", color2unchanged1[10, 10])\n",
    "print(title2, \"원소 자료형\", type(color2unchanged2[10][10][0]))\n",
    "print(title2, \"화소값(3원소)\", color2unchanged2[10, 10])\n",
    "print()\n",
    "\n",
    "print_matInfo(title1, color2unchanged1)\n",
    "print_matInfo(title2, color2unchanged2)\n",
    "cv2.imshow(title1, color2unchanged1)\n",
    "cv2.imshow(title2, (color2unchanged2*255).astype(\"uint8\"))\n",
    "cv2.waitKey(0)  "
   ]
  },
  {
   "cell_type": "code",
   "execution_count": 10,
   "id": "e6105443",
   "metadata": {},
   "outputs": [
    {
     "name": "stdout",
     "output_type": "stream",
     "text": [
      "저장완료\n"
     ]
    }
   ],
   "source": [
    "###############################\n",
    "#  행렬을 영상파일로 저장\n",
    "\n",
    "import cv2\n",
    "from Common.utils import print_matInfo\n",
    "\n",
    "image = cv2.imread('images/read_color.jpg', cv2.IMREAD_UNCHANGED)\n",
    "if image is None : raise Exception(\"영상 읽기에러\")\n",
    "    \n",
    "params_jpg = (cv2.IMWRITE_JPEG_QUALITY, 10)\n",
    "params_png = (cv2.IMWRITE_PNG_COMPRESSION, 9)\n",
    "\n",
    "cv2.imwrite('images/write_test1.jpg', image)\n",
    "cv2.imwrite('images/write_test2.jpg', image, params_jpg)\n",
    "cv2.imwrite('images/write_test3.jpg', image, params_png)\n",
    "cv2.imwrite('images/write_test4.jpg', image)\n",
    "print(\"저장완료\")"
   ]
  },
  {
   "cell_type": "code",
   "execution_count": 17,
   "id": "1bea2a97",
   "metadata": {},
   "outputs": [
    {
     "data": {
      "text/plain": [
       "-1"
      ]
     },
     "execution_count": 17,
     "metadata": {},
     "output_type": "execute_result"
    }
   ],
   "source": [
    "###############################\n",
    "#  기본 배열 처리 함수\n",
    "\n",
    "import cv2\n",
    "\n",
    "image = cv2.imread('images/flip_test.jpg', cv2.IMREAD_COLOR)\n",
    "if image is None : raise Exception(\"영상 읽기에러\")\n",
    "\n",
    "x_axis = cv2.flip(image, 0)\n",
    "y_axis = cv2.flip(image, 1)\n",
    "xy_axis = cv2.flip(image, -1)\n",
    "rep_image = cv2.repeat(image, 1, 2)\n",
    "trans_image = cv2.transpose(image)\n",
    "trans_image2 = cv2.transpose(image, 0)\n",
    "\n",
    "titles = ['image', 'x_axis', 'y_axis', 'rep_image', 'trans_image', 'trans_image2']\n",
    "for title in titles :\n",
    "    cv2.imshow(title, eval(title))   # 문자열을 명령어로 만듬\n",
    "cv2.waitKey(0)"
   ]
  },
  {
   "cell_type": "code",
   "execution_count": 19,
   "id": "ac004e12",
   "metadata": {},
   "outputs": [
    {
     "name": "stdout",
     "output_type": "stream",
     "text": [
      "split_bgr 행렬형태 (3, 2, 4)\n",
      "merge_bgr 행렬형태 (2, 4, 3)\n",
      "[ch0] = \n",
      "[[10 10 10 10]\n",
      " [10 10 10 10]]\n",
      "[ch1] = \n",
      "[[20 20 20 20]\n",
      " [20 20 20 20]]\n",
      "[ch2] = \n",
      "[[30 30 30 30]\n",
      " [30 30 30 30]]\n",
      "[merge_bgr] = \n",
      "[[[10 20 30]\n",
      "  [10 20 30]\n",
      "  [10 20 30]\n",
      "  [10 20 30]]\n",
      "\n",
      " [[10 20 30]\n",
      "  [10 20 30]\n",
      "  [10 20 30]\n",
      "  [10 20 30]]]\n",
      "[split_bgr[0]] = \n",
      "[[10 10 10 10]\n",
      " [10 10 10 10]]\n",
      "[split_bgr[1]] = \n",
      "[[20 20 20 20]\n",
      " [20 20 20 20]]\n",
      "[split_bgr[2]] = \n",
      "[[30 30 30 30]\n",
      " [30 30 30 30]]\n"
     ]
    }
   ],
   "source": [
    "###############################\n",
    "#  채널 처리 함수\n",
    "import numpy as np\n",
    "import cv2\n",
    "\n",
    "# 배열로 단일채널 3개 생성\n",
    "ch0 = np.zeros((2,4), np.uint8) + 10 # 0원소 선언 후 10더하기\n",
    "ch1 = np.ones((2,4), np.uint8) * 20 # 1원소 선언 후 20 곱하기\n",
    "ch2 = np.zeros((2,4), np.uint8); ch2[:] = 30 # 0원소 선언 후 행렬원소 값 30지정\n",
    "\n",
    "list_bgr = [ch0, ch1, ch2] # 단일 채널 모아서 리스트구성\n",
    "merge_bgr = cv2.merge(list_bgr) # 채널 합성\n",
    "split_bgr = cv2.split(merge_bgr) # 채널 분리 : 컬러영상 \n",
    "\n",
    "print('split_bgr 행렬형태', np.array(split_bgr).shape)\n",
    "print('merge_bgr 행렬형태', merge_bgr.shape)\n",
    "\n",
    "print(\"[ch0] = \\n%s\" % ch0)\n",
    "print(\"[ch1] = \\n%s\" % ch1)\n",
    "print(\"[ch2] = \\n%s\" % ch2)\n",
    "print(\"[merge_bgr] = \\n%s\" % merge_bgr)\n",
    "\n",
    "print(\"[split_bgr[0]] = \\n%s\" %split_bgr[0])\n",
    "print(\"[split_bgr[1]] = \\n%s\" %split_bgr[1])\n",
    "print(\"[split_bgr[2]] = \\n%s\" %split_bgr[2])"
   ]
  },
  {
   "cell_type": "code",
   "execution_count": 22,
   "id": "d4d9a5a4",
   "metadata": {},
   "outputs": [
    {
     "name": "stdout",
     "output_type": "stream",
     "text": [
      "bgr 자료형 <class 'list'> <class 'numpy.ndarray'> <class 'numpy.uint8'>\n",
      "bgr 원소개수 3\n"
     ]
    }
   ],
   "source": [
    "###############################\n",
    "#  영상 채널 분리\n",
    "\n",
    "import numpy as np\n",
    "import cv2\n",
    "\n",
    "image = cv2.imread('images/color.jpg', cv2.IMREAD_COLOR)\n",
    "if image is None : raise Exception(\"영상 읽기 에러\")\n",
    "if image.ndim != 3 : raise Exception(\"컬러 영상 아님\")\n",
    "    \n",
    "bgr = cv2.split(image)\n",
    "print(\"bgr 자료형\", type(bgr), type(bgr[0]), type(bgr[0][0][0]))\n",
    "print(\"bgr 원소개수\", len(bgr))\n",
    "\n",
    "cv2.imshow('image', image)\n",
    "cv2.imshow('Blue channel', bgr[0])\n",
    "cv2.imshow('Green channel', bgr[1])\n",
    "cv2.imshow('Red channel', bgr[2])\n",
    "cv2.waitKey()\n",
    "cv2.destroyAllWindows()"
   ]
  },
  {
   "cell_type": "code",
   "execution_count": 26,
   "id": "7611c834",
   "metadata": {},
   "outputs": [
    {
     "name": "stdout",
     "output_type": "stream",
     "text": [
      "[m1] = \n",
      "[[10. 10. 10. 10. 10. 10.]\n",
      " [10. 10. 10. 10. 10. 10.]\n",
      " [10. 10. 10. 10. 10. 10.]] \n",
      "\n",
      "[m2] = \n",
      "[[50. 50. 50. 50. 50. 50.]\n",
      " [50. 50. 50. 50. 50. 50.]\n",
      " [50. 50. 50. 50. 50. 50.]] \n",
      "\n",
      "[m_mask] = \n",
      "[[0 0 0 1 1 1]\n",
      " [0 0 0 1 1 1]\n",
      " [0 0 0 1 1 1]] \n",
      "\n",
      "[m_add1] = \n",
      "[[60 60 60 60 60 60]\n",
      " [60 60 60 60 60 60]\n",
      " [60 60 60 60 60 60]] \n",
      "\n",
      "[m_add2] = \n",
      "[[ 0  0  0 60 60 60]\n",
      " [ 0  0  0 60 60 60]\n",
      " [ 0  0  0 60 60 60]] \n",
      "\n",
      "[m_div1] = \n",
      "[[0 0 0 0 0 0]\n",
      " [0 0 0 0 0 0]\n",
      " [0 0 0 0 0 0]] \n",
      "\n",
      "[m_div2] = \n",
      "[[0.2 0.2 0.2 0.2 0.2 0.2]\n",
      " [0.2 0.2 0.2 0.2 0.2 0.2]\n",
      " [0.2 0.2 0.2 0.2 0.2 0.2]] \n",
      "\n"
     ]
    }
   ],
   "source": [
    "###############################\n",
    "#  사칙연산\n",
    "\n",
    "import numpy as np,cv2\n",
    "\n",
    "m1 = np.full((3,6), 10, np.uint8)\n",
    "m2 = np.full((3,6), 50, np.uint8)\n",
    "m_mask = np.zeros(m1.shape, np.uint8)\n",
    "m_mask[:, 3:] = 1\n",
    "\n",
    "m_add1 = cv2.add(m1, m2)\n",
    "m_add2 = cv2.add(m1, m2, mask=m_mask)\n",
    "\n",
    "m_div1 = cv2.divide(m1,m2)\n",
    "m1 = m1.astype(np.float32)\n",
    "m2 = np.float32(m2)\n",
    "m_div2 = cv2.divide(m1,m2)\n",
    "\n",
    "titles = ['m1','m2','m_mask','m_add1','m_add2','m_div1','m_div2']\n",
    "for title in titles:\n",
    "    print(\"[%s] = \\n%s \\n\"%(title, eval(title))) # eval은 안의 문자나 변수를 바로 실행한다.\n"
   ]
  },
  {
   "cell_type": "code",
   "execution_count": 1,
   "id": "c633f86d",
   "metadata": {},
   "outputs": [
    {
     "data": {
      "text/plain": [
       "-1"
      ]
     },
     "execution_count": 1,
     "metadata": {},
     "output_type": "execute_result"
    }
   ],
   "source": [
    "###############################\n",
    "#  연산 함수2\n",
    "\n",
    "import numpy as np,cv2\n",
    "\n",
    "image1 = np.zeros((300,300), np.uint8)\n",
    "image2 = image1.copy()\n",
    "\n",
    "h, w = image1.shape[:2]\n",
    "cx, cy = w//2, h//2\n",
    "cv2.circle(image1, (cx, cy), 100, 255, -1) # -1은 내부채움\n",
    "cv2.rectangle(image2, (0,0,cx, h), 255, -1)\n",
    "\n",
    "image3 = cv2.bitwise_or(image1, image2)\n",
    "image4 = cv2.bitwise_and(image1, image2)\n",
    "image5 = cv2.bitwise_xor(image1, image2)\n",
    "image6 = cv2.bitwise_not(image1)\n",
    "\n",
    "cv2.imshow('image1', image1)\n",
    "cv2.imshow('image2', image2)\n",
    "cv2.imshow('bitwise_or', image3)\n",
    "cv2.imshow('bitwise_and', image4)\n",
    "cv2.imshow('bitwise_xor', image5)\n",
    "cv2.imshow('bitwise_not', image6)\n",
    "cv2.waitKey()\n"
   ]
  },
  {
   "cell_type": "code",
   "execution_count": null,
   "id": "bd93bb60",
   "metadata": {},
   "outputs": [],
   "source": []
  }
 ],
 "metadata": {
  "kernelspec": {
   "display_name": "Python 3",
   "language": "python",
   "name": "python3"
  },
  "language_info": {
   "codemirror_mode": {
    "name": "ipython",
    "version": 3
   },
   "file_extension": ".py",
   "mimetype": "text/x-python",
   "name": "python",
   "nbconvert_exporter": "python",
   "pygments_lexer": "ipython3",
   "version": "3.8.8"
  }
 },
 "nbformat": 4,
 "nbformat_minor": 5
}
