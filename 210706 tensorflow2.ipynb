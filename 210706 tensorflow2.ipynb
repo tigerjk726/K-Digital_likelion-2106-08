{
 "cells": [
  {
   "cell_type": "code",
   "execution_count": 18,
   "id": "9376938e",
   "metadata": {},
   "outputs": [
    {
     "name": "stdout",
     "output_type": "stream",
     "text": [
      "0 22.099517481141493, [9.03543993], [61.23687955]\n",
      "1000 2.8822524153583036, [2.33525691], [78.78960186]\n",
      "2000 2.880972074227748, [2.30012482], [78.99925515]\n",
      "3000 2.8809720581777873, [2.30000044], [78.99999736]\n",
      "4000 2.8809720581775893, [2.3], [78.99999999]\n",
      "5000 2.8809720581775866, [2.3], [79.]\n"
     ]
    },
    {
     "data": {
      "image/png": "[encoded data removed]",
      "text/plain": [
       "<Figure size 432x288 with 1 Axes>"
      ]
     },
     "metadata": {
      "needs_background": "light"
     },
     "output_type": "display_data"
    }
   ],
   "source": [
    "##################################\n",
    "# sqrt = 루트\n",
    "# mean = 평균\n",
    "# square = 제곱\n",
    "\n",
    "##################################\n",
    "import tensorflow as tf\n",
    "import numpy as np\n",
    "import matplotlib.pyplot as plt\n",
    "\n",
    "data = [[2,81], [4,93], [6,91], [8,97]]\n",
    "x = [i[0] for i in data]\n",
    "y = [i[1] for i in data]\n",
    "\n",
    "a = tf.Variable(tf.random.uniform([1], 0, 10, dtype = tf.float64, seed = 0))\n",
    "b = tf.Variable(tf.random.uniform([1], 0, 100, dtype = tf.float64, seed = 0))\n",
    "\n",
    "def hypothesis(a,b): # 가설\n",
    "    return a * x + b\n",
    "\n",
    "def costFunc(): #minimize 사용손실 함수 \n",
    "    return tf.sqrt(tf.reduce_mean(tf.square(hypothesis(a,b) - y))) \n",
    "\n",
    "def cost(a,b):  #손실계산 함수\n",
    "    return tf.sqrt(tf.reduce_mean(tf.square(hypothesis(a,b) - y))) \n",
    "\n",
    "opt = tf.keras.optimizers.SGD(learning_rate= 0.1)\n",
    "\n",
    "for i in range(5001):\n",
    "    opt.minimize(costFunc, var_list=[a,b])\n",
    "    if i % 1000 == 0:\n",
    "        print(i, f'{cost(a,b)}, {a.numpy()}, {b.numpy()}')\n",
    "\n",
    "line_x = np.arange(min(x), max(x),0.1)\n",
    "line_y = a.numpy() * line_x + b.numpy()\n",
    "plt.plot(line_x, line_y)\n",
    "plt.plot(x, y, 'bo')\n",
    "plt.show()"
   ]
  },
  {
   "cell_type": "code",
   "execution_count": 26,
   "id": "d3dbd985",
   "metadata": {},
   "outputs": [
    {
     "name": "stdout",
     "output_type": "stream",
     "text": [
      "0 36.04250338660649, [1.31976364], [48.04092897]\n",
      "1000 2.9208394035601972, [2.49739509], [77.82203054]\n",
      "2000 2.8809725681541347, [2.30070357], [78.99580141]\n",
      "3000 2.880972058183979, [2.30000249], [78.99998514]\n",
      "4000 2.880972058177586, [2.30000001], [78.99999995]\n",
      "5000 2.880972058177584, [2.3], [79.]\n"
     ]
    },
    {
     "data": {
      "image/png": "[encoded data removed]",
      "text/plain": [
       "<Figure size 432x288 with 1 Axes>"
      ]
     },
     "metadata": {
      "needs_background": "light"
     },
     "output_type": "display_data"
    }
   ],
   "source": [
    "import tensorflow as tf\n",
    "######################################\n",
    "#tenserboard로 추가\n",
    "from datetime import datetime\n",
    "#######################################\n",
    "import numpy as np\n",
    "import matplotlib.pyplot as plt\n",
    "\n",
    "data = [[2,81], [4,93], [6,91], [8,97]]\n",
    "x = [i[0] for i in data]\n",
    "y = [i[1] for i in data]\n",
    "\n",
    "a = tf.Variable(tf.random.uniform([1], 0, 10, dtype = tf.float64, seed = 0))\n",
    "b = tf.Variable(tf.random.uniform([1], 0, 100, dtype = tf.float64, seed = 0))\n",
    "\n",
    "def hypothesis(a,b): # 가설\n",
    "    return a * x + b\n",
    "#################################\n",
    "#tenserboard로 추가\n",
    "@tf.function\n",
    "##############################\n",
    "def costFunc(): #minimize 사용손실 함수\n",
    "    return tf.sqrt(tf.reduce_mean(tf.square(hypothesis(a,b) - y))) \n",
    "\n",
    "def cost(a,b):  #손실계산 함수\n",
    "    return tf.sqrt(tf.reduce_mean(tf.square(hypothesis(a,b) - y))) \n",
    "#######################################\n",
    "#tenserboard로 추가\n",
    "stamp = datetime.now().strftime(\"%Y%m%d-%H%M%S\")\n",
    "logdir = 'logs/mylogs/%s'%stamp\n",
    "writer = tf.summary.create_file_writer(logdir)\n",
    "tf.summary.trace_on(graph=True, profiler=True)\n",
    "costFunc()\n",
    "with writer.as_default() :\n",
    "    tf.summary.trace_export(name='graph_t1', step=0, profiler_outdir=logdir)\n",
    "###################################3\n",
    "opt = tf.keras.optimizers.SGD(learning_rate= 0.1)\n",
    "\n",
    "for i in range(5001):\n",
    "    opt.minimize(costFunc, var_list=[a,b])\n",
    "    if i % 1000 == 0:\n",
    "        print(i, f'{cost(a,b)}, {a.numpy()}, {b.numpy()}')\n",
    "\n",
    "line_x = np.arange(min(x), max(x),0.1)\n",
    "line_y = a.numpy() * line_x + b.numpy()\n",
    "plt.plot(line_x, line_y)\n",
    "plt.plot(x, y, 'bo')\n",
    "plt.show()"
   ]
  },
  {
   "cell_type": "code",
   "execution_count": 25,
   "id": "ff7f13ae",
   "metadata": {},
   "outputs": [
    {
     "name": "stdout",
     "output_type": "stream",
     "text": [
      "다중선형 점수평균 :  88.82962\n",
      "다중선형 평균오차 :  1.6703777\n",
      "다중선형 점수평균 :  90.49999\n",
      "다중선형 평균오차 :  2.4000015\n"
     ]
    }
   ],
   "source": [
    "data = [[2,0,81],[4,4,93],[6,2,91],[8,3,97]]\n",
    "x1 = np.array([i[0] for i in data], dtype='f')\n",
    "x2 = np.array([i[1] for i in data], dtype='f')\n",
    "y = np.array([i[2] for i in data], dtype='f')\n",
    "\n",
    "ab = [1.2301,2.1633,77.8117]\n",
    "a1b1 = [2.3,79]\n",
    "y2 = ab[0] * x1 + ab[1] * x2 + ab[2]\n",
    "print('다중선형 점수평균 : ', y2.mean())\n",
    "diff_y2 = abs(y - y2)\n",
    "print('다중선형 평균오차 : ', diff_y2.mean())\n",
    "\n",
    "y3 = a1b1[0] * x1 + a1b1[1] \n",
    "print('다중선형 점수평균 : ', y3.mean())\n",
    "diff_y3 = abs(y - y3)\n",
    "print('다중선형 평균오차 : ', diff_y3.mean())"
   ]
  },
  {
   "cell_type": "code",
   "execution_count": 34,
   "id": "16b87cd1",
   "metadata": {},
   "outputs": [
    {
     "name": "stdout",
     "output_type": "stream",
     "text": [
      "0 76.75723539055376, [2.96113953], [47.41673242], [3.56976143]\n",
      "1000 16.356652368659322, [7.31995787], [4.52629998], [37.27499856]\n",
      "2000 1.835495732446918, [2.00893369], [2.48824766], [76.10258793]\n",
      "3000 1.8370060496498515, [1.76994386], [2.40817717], [77.90230257]\n",
      "4000 1.83700604968686, [1.76989909], [2.40816171], [77.90260997]\n",
      "5000 1.837006049686874, [1.76989908], [2.40816171], [77.90261003]\n",
      "6000 1.8370060496868776, [1.76989908], [2.40816171], [77.90261003]\n",
      "7000 1.8370060496868776, [1.76989908], [2.40816171], [77.90261003]\n",
      "8000 1.8370060496868776, [1.76989908], [2.40816171], [77.90261003]\n"
     ]
    }
   ],
   "source": [
    "#tenserboard로 추가\n",
    "from datetime import datetime\n",
    "\n",
    "data = [[2,0,81],[4,4,93],[6,2,91],[8,3,97]]\n",
    "x1 = [i[0] for i in data]\n",
    "x2 = [i[1] for i in data]\n",
    "y = [i[2] for i in data]\n",
    "\n",
    "a1 = tf.Variable(tf.random.uniform([1], 0, 10, dtype = tf.float64, seed = 0))\n",
    "b = tf.Variable(tf.random.uniform([1], 0, 10, dtype = tf.float64, seed = 0))\n",
    "a2 = tf.Variable(tf.random.uniform([1], 0, 100, dtype = tf.float64, seed = 0))\n",
    "\n",
    "def hypothesis(a1,a2,b): # 가설\n",
    "    return a1 * x1 + a2 * x2 + b\n",
    "\n",
    "#tenserboard로 추가\n",
    "@tf.function\n",
    "\n",
    "def costFunc(): #minimize 사용손실 함수\n",
    "    return tf.sqrt(tf.reduce_mean(tf.square(hypothesis(a1,a2,b) - y))) \n",
    "\n",
    "def cost(a1,a2,b):  #손실계산 함수\n",
    "    return tf.sqrt(tf.reduce_mean(tf.square(hypothesis(a1,a2,b) - y))) \n",
    "\n",
    "#tenserboard로 추가\n",
    "stamp = datetime.now().strftime(\"%Y%m%d-%H%M%S\")\n",
    "logdir = 'logs/mylogs/%s'%stamp\n",
    "writer = tf.summary.create_file_writer(logdir)\n",
    "tf.summary.trace_on(graph=True, profiler=True)\n",
    "costFunc()\n",
    "with writer.as_default() :\n",
    "    tf.summary.trace_export(name='graph_t2', step=0, profiler_outdir=logdir)\n",
    "    \n",
    "opt = tf.keras.optimizers.SGD(learning_rate= 0.1)\n",
    "\n",
    "for i in range(8001):\n",
    "    opt.minimize(costFunc, var_list=[a1,a2,b])\n",
    "    if i % 1000 == 0:\n",
    "        print(i, f'{cost(a1,a2,b)}, {a1.numpy()}, {a2.numpy()}, {b.numpy()}')\n",
    "  "
   ]
  },
  {
   "cell_type": "code",
   "execution_count": null,
   "id": "46f3549c",
   "metadata": {},
   "outputs": [],
   "source": []
  }
 ],
 "metadata": {
  "kernelspec": {
   "display_name": "Python 3",
   "language": "python",
   "name": "python3"
  },
  "language_info": {
   "codemirror_mode": {
    "name": "ipython",
    "version": 3
   },
   "file_extension": ".py",
   "mimetype": "text/x-python",
   "name": "python",
   "nbconvert_exporter": "python",
   "pygments_lexer": "ipython3",
   "version": "3.8.8"
  }
 },
 "nbformat": 4,
 "nbformat_minor": 5
}
