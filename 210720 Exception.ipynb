{
 "cells": [
  {
   "cell_type": "code",
   "execution_count": null,
   "id": "bf254c6e",
   "metadata": {},
   "outputs": [],
   "source": [
    "import socket\n",
    "from _thread import *\n",
    "from pynput import keyboard\n",
    "import time\n",
    "import os\n",
    "import threading\n",
    "import sys\n",
    "\n",
    "end = False\n",
    "\n",
    "def mainloop(key):\n",
    "    print(\"program start\")\n",
    "        \n",
    "def on_press(key):\n",
    "    try:\n",
    "        print('Alphanumeric key pressed: {0} '.format(key.char))\n",
    "    except AttributeError:\n",
    "        print('special key pressed: {0}'.format(key))\n",
    "\n",
    "def on_release(key):\n",
    "    global end # 전역변수 종료 처리용\n",
    "    #print('Key released: {0}'.format(key)) : 눌린키 확인용\n",
    "    if key == keyboard.Key.esc:\n",
    "        print(\"Stop\")\n",
    "        end = True;\n",
    "        return False\n",
    "\n",
    "def threaded():\n",
    "    global start_time\n",
    "    global end_time\n",
    "    global calc_time\n",
    "    global nt_count\n",
    "    \n",
    "    start_time = time.time()\n",
    "    while True :\n",
    "        if end == True:\n",
    "            print(\"program end\")\n",
    "            sys.exit()\n",
    "            break\n",
    "        else:\n",
    "            end_time = time.time()\n",
    "            calc_time = end_time - start_time\n",
    "            if calc_time > 1:\n",
    "                start_time = time.time()\n",
    "                nt_count += 1\n",
    "                print(\"thread count : \", nt_count)\n",
    "nt_count = 0            \n",
    "start_new_thread(threaded,())\n",
    "with keyboard.Listener(on_press=on_press, on_release=on_release) as listener:\n",
    "    print(\"event 등록\")\n",
    "    listener.join()\n",
    "    \n",
    "mainloop()"
   ]
  },
  {
   "cell_type": "code",
   "execution_count": null,
   "id": "51520397",
   "metadata": {},
   "outputs": [],
   "source": [
    "def ten_div(x):\n",
    "    try :\n",
    "        return 10 /x\n",
    "    except:\n",
    "        print(\"예외가 발생했습니다.\")\n",
    "ten_div(int(input(\"숫자를 넣으세요 : \")))"
   ]
  },
  {
   "cell_type": "code",
   "execution_count": 3,
   "id": "4aed9fe2",
   "metadata": {},
   "outputs": [
    {
     "name": "stdout",
     "output_type": "stream",
     "text": [
      "숫자를 넣으세요 : 0 2\n",
      "0.0\n",
      "숫자를 넣으세요 : 2 0\n",
      "숫자를 0으로 나눌수 없습니다. division by zero\n",
      "None\n",
      "숫자를 넣으세요 : 3 5\n",
      "0.6\n",
      "숫자를 넣으세요 : 5 5\n",
      "1.0\n",
      "숫자를 넣으세요 : 12 2\n",
      "6.0\n",
      "숫자를 넣으세요 : d 1\n"
     ]
    },
    {
     "ename": "ValueError",
     "evalue": "invalid literal for int() with base 10: 'd'",
     "output_type": "error",
     "traceback": [
      "\u001b[1;31m---------------------------------------------------------------------------\u001b[0m",
      "\u001b[1;31mValueError\u001b[0m                                Traceback (most recent call last)",
      "\u001b[1;32m<ipython-input-3-909ad98db011>\u001b[0m in \u001b[0;36m<module>\u001b[1;34m\u001b[0m\n\u001b[0;32m      8\u001b[0m \u001b[1;33m\u001b[0m\u001b[0m\n\u001b[0;32m      9\u001b[0m \u001b[1;32mwhile\u001b[0m \u001b[1;36m1\u001b[0m\u001b[1;33m:\u001b[0m\u001b[1;33m\u001b[0m\u001b[1;33m\u001b[0m\u001b[0m\n\u001b[1;32m---> 10\u001b[1;33m     \u001b[0ma\u001b[0m\u001b[1;33m,\u001b[0m \u001b[0mb\u001b[0m \u001b[1;33m=\u001b[0m \u001b[0mmap\u001b[0m\u001b[1;33m(\u001b[0m\u001b[0mint\u001b[0m\u001b[1;33m,\u001b[0m \u001b[0minput\u001b[0m\u001b[1;33m(\u001b[0m\u001b[1;34m\"숫자를 넣으세요 : \"\u001b[0m\u001b[1;33m)\u001b[0m\u001b[1;33m.\u001b[0m\u001b[0msplit\u001b[0m\u001b[1;33m(\u001b[0m\u001b[1;33m)\u001b[0m\u001b[1;33m)\u001b[0m\u001b[1;33m\u001b[0m\u001b[1;33m\u001b[0m\u001b[0m\n\u001b[0m\u001b[0;32m     11\u001b[0m     \u001b[0mc\u001b[0m \u001b[1;33m=\u001b[0m \u001b[0mten_div\u001b[0m\u001b[1;33m(\u001b[0m\u001b[0ma\u001b[0m\u001b[1;33m,\u001b[0m \u001b[0mb\u001b[0m\u001b[1;33m)\u001b[0m\u001b[1;33m\u001b[0m\u001b[1;33m\u001b[0m\u001b[0m\n\u001b[0;32m     12\u001b[0m     \u001b[0mprint\u001b[0m\u001b[1;33m(\u001b[0m\u001b[0mc\u001b[0m\u001b[1;33m)\u001b[0m\u001b[1;33m\u001b[0m\u001b[1;33m\u001b[0m\u001b[0m\n",
      "\u001b[1;31mValueError\u001b[0m: invalid literal for int() with base 10: 'd'"
     ]
    }
   ],
   "source": [
    "def ten_div(y, x):\n",
    "    try :\n",
    "        return y /x\n",
    "    except ZeroDivisionError as e :\n",
    "        print(\"숫자를 0으로 나눌수 없습니다.\",e)\n",
    "    except IndexError as e:\n",
    "        print(\"잘못된 인덱스입니다.\",e)\n",
    "\n",
    "while 1:\n",
    "    a, b = map(int, input(\"숫자를 넣으세요 : \").split())\n",
    "    c = ten_div(a, b)\n",
    "    print(c)  "
   ]
  },
  {
   "cell_type": "code",
   "execution_count": 8,
   "id": "f6b46593",
   "metadata": {},
   "outputs": [
    {
     "name": "stdout",
     "output_type": "stream",
     "text": [
      "숫자입력 : 0\n",
      "숫자를 0으로 나눌수 없습니다. division by zero\n",
      "코드가 끝났어요\n"
     ]
    }
   ],
   "source": [
    "try :\n",
    "    x = int(input('숫자입력 : '))\n",
    "    y = 10 / x\n",
    "except ZeroDivisionError as e :\n",
    "    print(\"숫자를 0으로 나눌수 없습니다.\",e)\n",
    "else :\n",
    "    print(y)\n",
    "finally :\n",
    "    print('코드가 끝났어요')"
   ]
  },
  {
   "cell_type": "code",
   "execution_count": 9,
   "id": "f55e764d",
   "metadata": {},
   "outputs": [
    {
     "name": "stdout",
     "output_type": "stream",
     "text": [
      "3의 배수를 입력 : 5\n",
      "예외가 발생했습니다. 3의 배수가 아닙니다.\n"
     ]
    }
   ],
   "source": [
    "try :\n",
    "    x = int(input('3의 배수를 입력 : '))\n",
    "    if x % 3 != 0:\n",
    "        raise Exception('3의 배수가 아닙니다.')\n",
    "    print(x)\n",
    "except Exception as e :\n",
    "    print(\"예외가 발생했습니다.\",e)"
   ]
  },
  {
   "cell_type": "code",
   "execution_count": 10,
   "id": "98ea6bc5",
   "metadata": {},
   "outputs": [
    {
     "name": "stdout",
     "output_type": "stream",
     "text": [
      "3의 배수를 입력 : 4\n",
      "예외가 발생했습니다. 3의 배수가 아닙니다.\n"
     ]
    }
   ],
   "source": [
    "def three_multiple():\n",
    "    x = int(input('3의 배수를 입력 : '))\n",
    "    if x % 3 != 0:\n",
    "        raise Exception('3의 배수가 아닙니다.')\n",
    "    print(x)\n",
    "    \n",
    "try :   \n",
    "    three_multiple()\n",
    "except Exception as e :\n",
    "    print(\"예외가 발생했습니다.\",e)"
   ]
  },
  {
   "cell_type": "code",
   "execution_count": 13,
   "id": "11979335",
   "metadata": {},
   "outputs": [
    {
     "name": "stdout",
     "output_type": "stream",
     "text": [
      "3의 배수를 입력 : 2\n",
      "three_multiple 예외가 발생했습니다. 3의 배수가 아닙니다.\n",
      "예외가 발생했습니다. three_multiple 예외가 발생했습니다\n"
     ]
    }
   ],
   "source": [
    "def three_multiple():\n",
    "    try :   \n",
    "        x = int(input('3의 배수를 입력 : '))\n",
    "        if x % 3 != 0:\n",
    "            raise Exception('3의 배수가 아닙니다.')\n",
    "        print(x)\n",
    "    except Exception as e :\n",
    "        print(\"three_multiple 예외가 발생했습니다.\",e)\n",
    "        raise RuntimeError(\"three_multiple 예외가 발생했습니다\") # raise로 현재 예외를 다시 발생시켜서 상위 코드 블록으로 넘김\n",
    "        \n",
    "try :   \n",
    "    three_multiple()\n",
    "except Exception as e :\n",
    "    print(\"예외가 발생했습니다.\",e)"
   ]
  },
  {
   "cell_type": "code",
   "execution_count": 14,
   "id": "873200fc",
   "metadata": {},
   "outputs": [
    {
     "name": "stdout",
     "output_type": "stream",
     "text": [
      "3의 배수를 입력 : 2\n",
      "three_multiple 예외가 발생했습니다. 3의 배수가 아닙니다\n"
     ]
    }
   ],
   "source": [
    "class NotThreeMultipleError(Exception):\n",
    "    def __init__(self):\n",
    "        super().__init__('3의 배수가 아닙니다')\n",
    "        \n",
    "def three_multiple():\n",
    "    try :   \n",
    "        x = int(input('3의 배수를 입력 : '))\n",
    "        if x % 3 != 0:\n",
    "            raise NotThreeMultipleError\n",
    "        print(x)\n",
    "    except Exception as e :\n",
    "        print(\"three_multiple 예외가 발생했습니다.\",e)\n",
    "\n",
    "three_multiple()\n"
   ]
  },
  {
   "cell_type": "code",
   "execution_count": null,
   "id": "3489ae7f",
   "metadata": {},
   "outputs": [],
   "source": []
  }
 ],
 "metadata": {
  "kernelspec": {
   "display_name": "Python 3",
   "language": "python",
   "name": "python3"
  },
  "language_info": {
   "codemirror_mode": {
    "name": "ipython",
    "version": 3
   },
   "file_extension": ".py",
   "mimetype": "text/x-python",
   "name": "python",
   "nbconvert_exporter": "python",
   "pygments_lexer": "ipython3",
   "version": "3.8.8"
  }
 },
 "nbformat": 4,
 "nbformat_minor": 5
}
