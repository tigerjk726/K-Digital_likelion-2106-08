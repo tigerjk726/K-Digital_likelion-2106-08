{
 "cells": [
  {
   "cell_type": "code",
   "execution_count": 5,
   "id": "94d81b2e",
   "metadata": {},
   "outputs": [],
   "source": [
    "from tensorflow.keras.preprocessing.text import text_to_word_sequence"
   ]
  },
  {
   "cell_type": "code",
   "execution_count": 6,
   "id": "0fbb2452",
   "metadata": {},
   "outputs": [
    {
     "name": "stdout",
     "output_type": "stream",
     "text": [
      "\n",
      "원문: \n",
      " 해보지 않으면 해낼 수 없다.\n",
      "\n",
      "토큰화: \n",
      " ['해보지', '않으면', '해낼', '수', '없다']\n"
     ]
    }
   ],
   "source": [
    "text = '해보지 않으면 해낼 수 없다.'\n",
    "\n",
    "result = text_to_word_sequence(text)\n",
    "print(\"\\n원문: \\n\", text)\n",
    "print(\"\\n토큰화: \\n\", result)"
   ]
  },
  {
   "cell_type": "code",
   "execution_count": 8,
   "id": "e876ed13",
   "metadata": {},
   "outputs": [],
   "source": [
    "import numpy\n",
    "import tensorflow as tf\n",
    "from numpy import array\n",
    "from tensorflow.keras.preprocessing.text import Tokenizer\n",
    "from tensorflow.keras.preprocessing.sequence import pad_sequences\n",
    "from tensorflow.keras.models import Sequential \n",
    "from tensorflow.keras.layers import Dense, Flatten, Embedding\n"
   ]
  },
  {
   "cell_type": "code",
   "execution_count": 9,
   "id": "4c8dbf3d",
   "metadata": {},
   "outputs": [
    {
     "name": "stdout",
     "output_type": "stream",
     "text": [
      "\n",
      "단어 카운트: \n",
      " 1\n",
      "\n",
      "각단어가 몇개의 문장에 포함되어 있는가 : \n",
      " defaultdict(<class 'int'>, {'토큰화': 1, '수': 1, '할': 1, '결과는': 1, '나누어': 1, '각': 1, '있습니다': 1, '한': 1, '먼저': 1, '해야': 1, '단어를': 1, '인식됩니다': 1, '텍스트의': 1, '합니다': 1, '딥러닝에서': 1, '단어로': 1, '사용': 1})\n",
      "\n",
      "각 단어에 매겨진 인덱스 값: \n",
      " {'토큰화': 1, '텍스트의': 2, '딥러닝에서': 3, '먼저': 4, '각': 5, '단어를': 6, '나누어': 7, '합니다': 8, '단어로': 9, '해야': 10, '인식됩니다': 11, '한': 12, '결과는': 13, '사용': 14, '할': 15, '수': 16, '있습니다': 17}\n"
     ]
    }
   ],
   "source": [
    "docs = ['먼저 텍스트의 각 단어를 나누어 토큰화 합니다.'\n",
    "       '텍스트의 단어로 토큰화 해야 딥러닝에서 인식됩니다.'\n",
    "       '토큰화 한 결과는 딥러닝에서 사용 할 수 있습니다.']\n",
    "\n",
    "token = Tokenizer()\n",
    "token.fit_on_texts(docs)\n",
    "\n",
    "print(\"\\n단어 카운트: \\n\", token.document_count)\n",
    "print(\"\\n각단어가 몇개의 문장에 포함되어 있는가 : \\n\", token.word_docs)\n",
    "print(\"\\n각 단어에 매겨진 인덱스 값: \\n\", token.word_index)\n"
   ]
  },
  {
   "cell_type": "code",
   "execution_count": 11,
   "id": "04caca94",
   "metadata": {},
   "outputs": [
    {
     "name": "stdout",
     "output_type": "stream",
     "text": [
      "{'오랫동안': 1, '꿈꾸는': 2, '이는': 3, '그': 4, '꿈을': 5, '닮아간다': 6}\n"
     ]
    }
   ],
   "source": [
    "text = \"오랫동안 꿈꾸는 이는 그 꿈을 닮아간다.\"\n",
    "\n",
    "#토큰화\n",
    "token = Tokenizer()\n",
    "token.fit_on_texts([text])\n",
    "print(token.word_index)"
   ]
  },
  {
   "cell_type": "code",
   "execution_count": 12,
   "id": "17ffcfcc",
   "metadata": {},
   "outputs": [
    {
     "name": "stdout",
     "output_type": "stream",
     "text": [
      "\\텍스트, 토큰화 결과: \n",
      " [[1, 2, 3, 4, 5, 6]]\n"
     ]
    }
   ],
   "source": [
    "x = token.texts_to_sequences([text])\n",
    "print(\"\\텍스트, 토큰화 결과: \\n\", x)"
   ]
  },
  {
   "cell_type": "code",
   "execution_count": 13,
   "id": "7e1e3c76",
   "metadata": {},
   "outputs": [
    {
     "name": "stdout",
     "output_type": "stream",
     "text": [
      "[[[0. 1. 0. 0. 0. 0. 0.]\n",
      "  [0. 0. 1. 0. 0. 0. 0.]\n",
      "  [0. 0. 0. 1. 0. 0. 0.]\n",
      "  [0. 0. 0. 0. 1. 0. 0.]\n",
      "  [0. 0. 0. 0. 0. 1. 0.]\n",
      "  [0. 0. 0. 0. 0. 0. 1.]]]\n"
     ]
    }
   ],
   "source": [
    "from tensorflow.keras.utils import to_categorical\n",
    "\n",
    "word_size = len(token.word_index)+1\n",
    "\n",
    "x= to_categorical(x, num_classes=word_size)\n",
    "\n",
    "print(x)"
   ]
  },
  {
   "cell_type": "code",
   "execution_count": 16,
   "id": "08059fa1",
   "metadata": {},
   "outputs": [
    {
     "name": "stdout",
     "output_type": "stream",
     "text": [
      "{'너무': 1, '재밌네요': 2, '최고예요': 3, '참': 4, '잘': 5, '만든영화에요': 6, '추천하고': 7, '싶은': 8, '영화입니다': 9, '한번': 10, '더': 11, '보고': 12, '싶네요': 13, '글쎄요': 14, '별로에요': 15, '생각보다': 16, '지루하네요': 17, '연기가': 18, '어색해요': 19, '재미없어요': 20}\n",
      "\\텍스트, 토큰화 결과: \n",
      " [[1, 2], [3], [4, 5, 6], [7, 8, 9], [10, 11, 12, 13], [14], [15], [16, 17], [18, 19], [20]]\n",
      "\\패딩 결과: \n",
      " [[ 0  0  1  2]\n",
      " [ 0  0  0  3]\n",
      " [ 0  4  5  6]\n",
      " [ 0  7  8  9]\n",
      " [10 11 12 13]\n",
      " [ 0  0  0 14]\n",
      " [ 0  0  0 15]\n",
      " [ 0  0 16 17]\n",
      " [ 0  0 18 19]\n",
      " [ 0  0  0 20]]\n",
      "\n",
      "딥러닝 모델 시작 :\n"
     ]
    }
   ],
   "source": [
    "from numpy import array\n",
    "\n",
    "docs = ['너무 재밌네요','최고예요','참 잘 만든영화에요','추천하고 싶은 영화입니다.','한번 더 보고 싶네요','글쎄요','별로에요',\n",
    "       '생각보다 지루하네요','연기가 어색해요','재미없어요']\n",
    "\n",
    "classes = array([1,1,1,1,1,0,0,0,0,0])\n",
    "\n",
    "from tensorflow.keras.preprocessing.text import Tokenizer\n",
    "\n",
    "token = Tokenizer()\n",
    "token.fit_on_texts(docs)\n",
    "print(token.word_index)\n",
    "x = token.texts_to_sequences(docs)\n",
    "print(\"\\텍스트, 토큰화 결과: \\n\", x)\n",
    "\n",
    "from tensorflow.keras.preprocessing.sequence import pad_sequences\n",
    "padded_x = pad_sequences(x, 4)\n",
    "print(\"\\패딩 결과: \\n\", padded_x)\n",
    "\n",
    "print(\"\\n딥러닝 모델 시작 :\")\n",
    "\n",
    "from tensorflow.keras.models import Sequential \n",
    "from tensorflow.keras.layers import Dense, Flatten, Embedding\n",
    "\n"
   ]
  },
  {
   "cell_type": "code",
   "execution_count": 19,
   "id": "247d49b4",
   "metadata": {},
   "outputs": [
    {
     "name": "stdout",
     "output_type": "stream",
     "text": [
      "{'I': 1, 'am': 2, 'a': 3, 'boy.': 4, 'My': 5, 'name': 6, 'is': 7, 'David': 8}\n"
     ]
    }
   ],
   "source": [
    "from tensorflow.keras.preprocessing.text import Tokenizer\n",
    "\n",
    "text = \" I am a boy. My name is David\"\n",
    "\n",
    "token = Tokenizer(\n",
    "    num_words=None,\n",
    "    filters='!\"#$%%()*+,-/:;<=>?@[\\\\]^_{|}~\\t\\n',\n",
    "    lower=False,\n",
    "    split=' ',\n",
    "    char_level=False,\n",
    "    oov_token=None,\n",
    "    document_count=0,)\n",
    "token.fit_on_texts([text])\n",
    "print(token.word_index)"
   ]
  },
  {
   "cell_type": "code",
   "execution_count": 44,
   "id": "53f786d6",
   "metadata": {},
   "outputs": [
    {
     "name": "stdout",
     "output_type": "stream",
     "text": [
      "{'The': 1, 'cat': 2, 'sat': 3, 'on': 4, 'the': 5, 'mat': 6, 'dog': 7, 'ate': 8, 'my': 9, 'homework': 10}\n"
     ]
    }
   ],
   "source": [
    "from tensorflow.keras.preprocessing.text import Tokenizer\n",
    "\n",
    "samples = ['The cat sat on the mat.','The dog ate my homework']\n",
    "\n",
    "token_index = {}\n",
    "for sample in samples:\n",
    "    for word in sample.replace('.',' ').split():\n",
    "        if word not in token_index:\n",
    "            token_index[word] = len(token_index) + 1\n",
    "\n",
    "print(token_index)\n"
   ]
  },
  {
   "cell_type": "code",
   "execution_count": 45,
   "id": "5a673a0a",
   "metadata": {},
   "outputs": [
    {
     "data": {
      "text/plain": [
       "array([[[0., 1., 0., 0., 0., 0., 0., 0., 0., 0., 0.],\n",
       "        [0., 0., 1., 0., 0., 0., 0., 0., 0., 0., 0.],\n",
       "        [0., 0., 0., 1., 0., 0., 0., 0., 0., 0., 0.],\n",
       "        [0., 0., 0., 0., 1., 0., 0., 0., 0., 0., 0.],\n",
       "        [0., 0., 0., 0., 0., 1., 0., 0., 0., 0., 0.],\n",
       "        [0., 0., 0., 0., 0., 0., 1., 0., 0., 0., 0.],\n",
       "        [0., 0., 0., 0., 0., 0., 0., 0., 0., 0., 0.],\n",
       "        [0., 0., 0., 0., 0., 0., 0., 0., 0., 0., 0.],\n",
       "        [0., 0., 0., 0., 0., 0., 0., 0., 0., 0., 0.],\n",
       "        [0., 0., 0., 0., 0., 0., 0., 0., 0., 0., 0.]],\n",
       "\n",
       "       [[0., 1., 0., 0., 0., 0., 0., 0., 0., 0., 0.],\n",
       "        [0., 0., 0., 0., 0., 0., 0., 1., 0., 0., 0.],\n",
       "        [0., 0., 0., 0., 0., 0., 0., 0., 1., 0., 0.],\n",
       "        [0., 0., 0., 0., 0., 0., 0., 0., 0., 1., 0.],\n",
       "        [0., 0., 0., 0., 0., 0., 0., 0., 0., 0., 1.],\n",
       "        [0., 0., 0., 0., 0., 0., 0., 0., 0., 0., 0.],\n",
       "        [0., 0., 0., 0., 0., 0., 0., 0., 0., 0., 0.],\n",
       "        [0., 0., 0., 0., 0., 0., 0., 0., 0., 0., 0.],\n",
       "        [0., 0., 0., 0., 0., 0., 0., 0., 0., 0., 0.],\n",
       "        [0., 0., 0., 0., 0., 0., 0., 0., 0., 0., 0.]]])"
      ]
     },
     "execution_count": 45,
     "metadata": {},
     "output_type": "execute_result"
    }
   ],
   "source": [
    "import numpy as np\n",
    "max_length = 10\n",
    "results = np.zeros((len(samples), max_length, max(token_index.values()) + 1))\n",
    "for i, sample in enumerate(samples):\n",
    "    for j, word in list(enumerate(sample.replace('.',' ').split()))[:max_length]:\n",
    "        index = token_index.get(word)\n",
    "        results[i,j,index] = 1\n",
    "\n",
    "results "
   ]
  },
  {
   "cell_type": "code",
   "execution_count": null,
   "id": "61754d82",
   "metadata": {},
   "outputs": [],
   "source": []
  }
 ],
 "metadata": {
  "kernelspec": {
   "display_name": "Python 3",
   "language": "python",
   "name": "python3"
  },
  "language_info": {
   "codemirror_mode": {
    "name": "ipython",
    "version": 3
   },
   "file_extension": ".py",
   "mimetype": "text/x-python",
   "name": "python",
   "nbconvert_exporter": "python",
   "pygments_lexer": "ipython3",
   "version": "3.8.8"
  }
 },
 "nbformat": 4,
 "nbformat_minor": 5
}
