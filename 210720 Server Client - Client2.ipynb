{
 "cells": [
  {
   "cell_type": "code",
   "execution_count": 1,
   "id": "cf10e220",
   "metadata": {},
   "outputs": [
    {
     "name": "stdout",
     "output_type": "stream",
     "text": [
      "Enter Messasge :안녕\n",
      "Received from the server '안녕'\n",
      "Enter Messasge :난가?\n",
      "Received from the server '난가?'\n",
      "Enter Messasge :quit\n"
     ]
    }
   ],
   "source": [
    "import socket\n",
    "HOST = '127.0.0.1'\n",
    "PORT = 9999\n",
    "\n",
    "client_socket = socket.socket(socket.AF_INET, socket.SOCK_STREAM)\n",
    "client_socket.connect((HOST, PORT))\n",
    "\n",
    "while True:\n",
    "    message = input('Enter Messasge :')\n",
    "    if message == 'quit':\n",
    "        break\n",
    "    client_socket.send(message.encode())\n",
    "    data = client_socket.recv(1024)\n",
    "\n",
    "    print('Received from the server', repr(data.decode()))\n",
    "\n",
    "client_socket.close()\n",
    "\n"
   ]
  },
  {
   "cell_type": "code",
   "execution_count": null,
   "id": "e2e179f3",
   "metadata": {},
   "outputs": [],
   "source": []
  }
 ],
 "metadata": {
  "kernelspec": {
   "display_name": "Python 3",
   "language": "python",
   "name": "python3"
  },
  "language_info": {
   "codemirror_mode": {
    "name": "ipython",
    "version": 3
   },
   "file_extension": ".py",
   "mimetype": "text/x-python",
   "name": "python",
   "nbconvert_exporter": "python",
   "pygments_lexer": "ipython3",
   "version": "3.8.8"
  }
 },
 "nbformat": 4,
 "nbformat_minor": 5
}
