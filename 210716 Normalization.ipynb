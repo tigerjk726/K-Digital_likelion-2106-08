{
 "cells": [
  {
   "cell_type": "code",
   "execution_count": null,
   "id": "52f90281",
   "metadata": {},
   "outputs": [],
   "source": [
    "def min_max_normalize(lst):  # 최소-최대 정규화는 데이터를 정규화\n",
    "    normalized = []\n",
    "    \n",
    "    for value in lst:\n",
    "        normalized_num = (value - min(lst)) / (max(lst) - min(lst))\n",
    "        normalized.append(normalized_num)\n",
    "    \n",
    "    return normalized\n",
    "\n",
    "def z_score_normalize(lst):  # Z-점수 정규화는 이상치(outlier) 문제를 피하는 데이터 정규화 전략\n",
    "    normalized = []\n",
    "    for value in lst:\n",
    "        normalized_num = (value - np.mean(lst)) / np.std(lst)\n",
    "        normalized.append(normalized_num)\n",
    "    return normalized\n",
    "\n"
   ]
  }
 ],
 "metadata": {
  "kernelspec": {
   "display_name": "Python 3",
   "language": "python",
   "name": "python3"
  },
  "language_info": {
   "codemirror_mode": {
    "name": "ipython",
    "version": 3
   },
   "file_extension": ".py",
   "mimetype": "text/x-python",
   "name": "python",
   "nbconvert_exporter": "python",
   "pygments_lexer": "ipython3",
   "version": "3.8.8"
  }
 },
 "nbformat": 4,
 "nbformat_minor": 5
}
