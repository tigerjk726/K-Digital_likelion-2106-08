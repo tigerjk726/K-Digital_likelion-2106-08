{
 "cells": [
  {
   "cell_type": "code",
   "execution_count": null,
   "id": "11afdcbf",
   "metadata": {},
   "outputs": [],
   "source": [
    "from tensorflow.keras.preprocessing.image import ImageDataGenerator, array_to_img, img_to_array, load_img "
   ]
  },
  {
   "cell_type": "code",
   "execution_count": null,
   "id": "7ec57fbf",
   "metadata": {},
   "outputs": [],
   "source": [
    "datagen = ImageDataGenerator(rotation_range=40,\n",
    "                             width_shift_range=0.2,\n",
    "                             height_shift_range=0.2,\n",
    "                             shear_range=0.2,\n",
    "                             zoom_range=0.2,\n",
    "                             horizontal_flip=True,\n",
    "                             fill_mode='nearest')\n",
    "\n",
    "img = load_img('C:\\\\Users\\\\tiger\\\\Deeplearning\\\\images\\\\dogs-vs-cats\\\\train\\\\cat\\\\cat.1.jpg')\n",
    "x = img_to_array(img)\n",
    "\n",
    "# x.reshape((1,))은 batch deension을 포함, fit input_shape는 배치차원(batch demension)을 포함되지 않음\n",
    "\n",
    "x = x.reshape((1,) + x.shape)"
   ]
  },
  {
   "cell_type": "code",
   "execution_count": null,
   "id": "d8459ad2",
   "metadata": {},
   "outputs": [],
   "source": [
    "i = 0\n",
    "for batch in datagen.flow(x, batch_size=1, \n",
    "                          save_to_dir='C:\\\\Users\\\\tiger\\\\Deeplearning\\\\images\\\\dogs-vs-cats\\\\training_set\\\\preview',\n",
    "                          save_prefix='cat', save_format='jpeg'):\n",
    "    i += 1\n",
    "    if i > 24:\n",
    "        break"
   ]
  },
  {
   "cell_type": "markdown",
   "id": "7ef9efea",
   "metadata": {},
   "source": []
  },
  {
   "cell_type": "markdown",
   "id": "398eee97",
   "metadata": {},
   "source": []
  },
  {
   "cell_type": "markdown",
   "id": "d297cf15",
   "metadata": {},
   "source": []
  },
  {
   "cell_type": "code",
   "execution_count": 1,
   "id": "bddb95d6",
   "metadata": {},
   "outputs": [],
   "source": [
    "import os\n",
    "import tensorflow as tf\n",
    "import matplotlib.pyplot as plt\n",
    "import numpy as np\n",
    "\n",
    "from tensorflow.keras.datasets import mnist\n",
    "from tensorflow.keras.preprocessing.image import ImageDataGenerator\n",
    "from tensorflow.keras.preprocessing import image\n",
    "from tensorflow.keras.callbacks import ModelCheckpoint, EarlyStopping\n",
    "\n",
    "np.random.seed(0)\n",
    "tf.random.set_seed(0)\n",
    "\n",
    "rootPath = \"C:\\\\Users\\\\tiger\\\\Deeplearning\\\\images\\\\dogs-vs-cats\"\n",
    "\n",
    "ImageDataGenerator = ImageDataGenerator(rescale=1./255,\n",
    "                                        rotation_range=20,\n",
    "                                        width_shift_range=0.1,\n",
    "                                        height_shift_range=0.1,\n",
    "                                        brightness_range=[.2, .2],\n",
    "                                        validation_split=0.2,\n",
    "                                        horizontal_flip=True,\n",
    "                                        fill_mode='nearest')"
   ]
  },
  {
   "cell_type": "code",
   "execution_count": 2,
   "id": "d2820c0e",
   "metadata": {},
   "outputs": [
    {
     "name": "stdout",
     "output_type": "stream",
     "text": [
      "12500\n",
      "12500\n"
     ]
    }
   ],
   "source": [
    "print(len(os.listdir('./images/dogs-vs-cats/train/cat')))\n",
    "print(len(os.listdir('./images/dogs-vs-cats/train/dog')))"
   ]
  },
  {
   "cell_type": "code",
   "execution_count": 3,
   "id": "48a2f793",
   "metadata": {},
   "outputs": [
    {
     "name": "stdout",
     "output_type": "stream",
     "text": [
      "Found 20000 images belonging to 2 classes.\n",
      "Found 5000 images belonging to 2 classes.\n"
     ]
    }
   ],
   "source": [
    "trainGen = ImageDataGenerator.flow_from_directory(\n",
    "    os.path.join(rootPath, 'train'),\n",
    "    target_size=(128,128),\n",
    "    class_mode='binary',\n",
    "    subset='training')\n",
    "\n",
    "validationGen = ImageDataGenerator.flow_from_directory(\n",
    "    os.path.join(rootPath, 'train'),\n",
    "    target_size=(128,128),\n",
    "    class_mode='binary',\n",
    "    subset='validation')"
   ]
  },
  {
   "cell_type": "code",
   "execution_count": 4,
   "id": "50cd86e1",
   "metadata": {},
   "outputs": [
    {
     "name": "stdout",
     "output_type": "stream",
     "text": [
      "Data 크기 :  (32, 128, 128, 3)\n",
      "Batch 크기 :  (32,)\n"
     ]
    }
   ],
   "source": [
    "for data_batch, labels_batch in trainGen:\n",
    "    print(\"Data 크기 : \", data_batch.shape)\n",
    "    print(\"Batch 크기 : \", labels_batch.shape)\n",
    "    break"
   ]
  },
  {
   "cell_type": "code",
   "execution_count": 13,
   "id": "cdd65d96",
   "metadata": {},
   "outputs": [
    {
     "name": "stdout",
     "output_type": "stream",
     "text": [
      "Model: \"sequential_3\"\n",
      "_________________________________________________________________\n",
      "Layer (type)                 Output Shape              Param #   \n",
      "=================================================================\n",
      "conv2d_6 (Conv2D)            (None, 126, 126, 32)      896       \n",
      "_________________________________________________________________\n",
      "max_pooling2d_6 (MaxPooling2 (None, 63, 63, 32)        0         \n",
      "_________________________________________________________________\n",
      "conv2d_7 (Conv2D)            (None, 61, 61, 64)        18496     \n",
      "_________________________________________________________________\n",
      "max_pooling2d_7 (MaxPooling2 (None, 30, 30, 64)        0         \n",
      "_________________________________________________________________\n",
      "conv2d_8 (Conv2D)            (None, 28, 28, 128)       73856     \n",
      "_________________________________________________________________\n",
      "max_pooling2d_8 (MaxPooling2 (None, 14, 14, 128)       0         \n",
      "_________________________________________________________________\n",
      "flatten_2 (Flatten)          (None, 25088)             0         \n",
      "_________________________________________________________________\n",
      "dense_4 (Dense)              (None, 512)               12845568  \n",
      "_________________________________________________________________\n",
      "dense_5 (Dense)              (None, 1)                 513       \n",
      "=================================================================\n",
      "Total params: 12,939,329\n",
      "Trainable params: 12,939,329\n",
      "Non-trainable params: 0\n",
      "_________________________________________________________________\n"
     ]
    }
   ],
   "source": [
    "from tensorflow.keras.models import Sequential \n",
    "from tensorflow.keras import layers\n",
    "import keras\n",
    "'''\n",
    "model = keras.Sequential([\n",
    "    layers.Conv2D(32, (3,3), activation='relu', input_shape=(128, 128, 3)),\n",
    "    layers.MaxPooling2D((2,2)),\n",
    "    layers.Conv2D(64, (3,3), activation='relu'),\n",
    "    layers.MaxPooling2D((2,2)),\n",
    "    layers.Conv2D(128, (3,3), activation='relu'),\n",
    "    layers.MaxPooling2D((2,2)),\n",
    "    layers.Flatten(),\n",
    "    layers.Dense(512, activation='relu'),\n",
    "    layers.Dense(1, activation='sigmoid')\n",
    "])\n",
    "'''\n",
    "model = Sequential()\n",
    "model.add(layers.Conv2D(32, (3,3), activation='relu', input_shape=(128, 128, 3)))\n",
    "model.add(layers.MaxPooling2D((2,2)))\n",
    "model.add(layers.Conv2D(64, (3,3), activation='relu'))\n",
    "model.add(layers.MaxPooling2D((2,2)))\n",
    "model.add(layers.Conv2D(128, (3,3), activation='relu'))\n",
    "model.add(layers.MaxPooling2D((2,2)))\n",
    "model.add(layers.Flatten())\n",
    "model.add(layers.Dense(512, activation='relu'))\n",
    "model.add(layers.Dense(1, activation='sigmoid'))\n",
    "model.summary()\n",
    "\n",
    "model.compile(optimizer=tf.keras.optimizers.RMSprop(learning_rate = 0.001), loss='binary_crossentropy', metrics=['accuracy'])\n",
    "\n",
    "MODEL_DIR = './model/'\n",
    "if not os.path.exists(MODEL_DIR):\n",
    "    os.mkdir(MODEL_DIR)\n",
    "    \n",
    "modelpath = \"./model/{epoch:02d}-{val_loss:.4f}-{val_accuracy:.4f}.hdf5\"\n",
    "\n",
    "checkpointer = ModelCheckpoint(filepath=modelpath, monitor='val_loss', verbose=1, save_best_only=True)\n",
    "\n",
    "early_stopping_callback = EarlyStopping(patience=5)"
   ]
  },
  {
   "cell_type": "code",
   "execution_count": 17,
   "id": "556388d3",
   "metadata": {},
   "outputs": [
    {
     "name": "stdout",
     "output_type": "stream",
     "text": [
      "Epoch 1/128\n",
      "625/625 [==============================] - ETA: 0s - loss: 0.5016 - accuracy: 0.7552\n",
      "Epoch 00001: val_loss did not improve from 0.50217\n",
      "625/625 [==============================] - 363s 582ms/step - loss: 0.5016 - accuracy: 0.7552 - val_loss: 0.5932 - val_accuracy: 0.7272\n",
      "Epoch 2/128\n",
      "625/625 [==============================] - ETA: 0s - loss: 0.4674 - accuracy: 0.7789\n",
      "Epoch 00002: val_loss did not improve from 0.50217\n",
      "625/625 [==============================] - 354s 566ms/step - loss: 0.4674 - accuracy: 0.7789 - val_loss: 0.5701 - val_accuracy: 0.7172\n",
      "Epoch 3/128\n",
      "625/625 [==============================] - ETA: 0s - loss: 0.4420 - accuracy: 0.7982\n",
      "Epoch 00003: val_loss improved from 0.50217 to 0.44399, saving model to ./model\\03-0.4440-0.8020.hdf5\n",
      "625/625 [==============================] - 353s 565ms/step - loss: 0.4420 - accuracy: 0.7982 - val_loss: 0.4440 - val_accuracy: 0.8020\n",
      "Epoch 4/128\n",
      "625/625 [==============================] - ETA: 0s - loss: 0.4253 - accuracy: 0.8100\n",
      "Epoch 00004: val_loss improved from 0.44399 to 0.39485, saving model to ./model\\04-0.3949-0.8282.hdf5\n",
      "625/625 [==============================] - 354s 567ms/step - loss: 0.4253 - accuracy: 0.8100 - val_loss: 0.3949 - val_accuracy: 0.8282\n",
      "Epoch 5/128\n",
      "625/625 [==============================] - ETA: 0s - loss: 0.4041 - accuracy: 0.8198\n",
      "Epoch 00005: val_loss improved from 0.39485 to 0.39393, saving model to ./model\\05-0.3939-0.8314.hdf5\n",
      "625/625 [==============================] - 353s 565ms/step - loss: 0.4041 - accuracy: 0.8198 - val_loss: 0.3939 - val_accuracy: 0.8314\n",
      "Epoch 6/128\n",
      "625/625 [==============================] - ETA: 0s - loss: 0.3924 - accuracy: 0.8270\n",
      "Epoch 00006: val_loss did not improve from 0.39393\n",
      "625/625 [==============================] - 357s 572ms/step - loss: 0.3924 - accuracy: 0.8270 - val_loss: 0.4964 - val_accuracy: 0.7834\n",
      "Epoch 7/128\n",
      "625/625 [==============================] - ETA: 0s - loss: 0.3786 - accuracy: 0.8343\n",
      "Epoch 00007: val_loss did not improve from 0.39393\n",
      "625/625 [==============================] - 351s 562ms/step - loss: 0.3786 - accuracy: 0.8343 - val_loss: 0.4139 - val_accuracy: 0.8242\n",
      "Epoch 8/128\n",
      "625/625 [==============================] - ETA: 0s - loss: 0.3650 - accuracy: 0.8441\n",
      "Epoch 00008: val_loss improved from 0.39393 to 0.37621, saving model to ./model\\08-0.3762-0.8334.hdf5\n",
      "625/625 [==============================] - 327s 523ms/step - loss: 0.3650 - accuracy: 0.8441 - val_loss: 0.3762 - val_accuracy: 0.8334\n",
      "Epoch 9/128\n",
      "625/625 [==============================] - ETA: 0s - loss: 0.3604 - accuracy: 0.8460\n",
      "Epoch 00009: val_loss did not improve from 0.37621\n",
      "625/625 [==============================] - 323s 517ms/step - loss: 0.3604 - accuracy: 0.8460 - val_loss: 0.4112 - val_accuracy: 0.8252\n",
      "Epoch 10/128\n",
      "625/625 [==============================] - ETA: 0s - loss: 0.3519 - accuracy: 0.8483\n",
      "Epoch 00010: val_loss improved from 0.37621 to 0.31665, saving model to ./model\\10-0.3167-0.8650.hdf5\n",
      "625/625 [==============================] - 322s 516ms/step - loss: 0.3519 - accuracy: 0.8483 - val_loss: 0.3167 - val_accuracy: 0.8650\n",
      "Epoch 11/128\n",
      "625/625 [==============================] - ETA: 0s - loss: 0.3433 - accuracy: 0.8537\n",
      "Epoch 00011: val_loss did not improve from 0.31665\n",
      "625/625 [==============================] - 324s 519ms/step - loss: 0.3433 - accuracy: 0.8537 - val_loss: 0.3596 - val_accuracy: 0.8488\n",
      "Epoch 12/128\n",
      "625/625 [==============================] - ETA: 0s - loss: 0.3404 - accuracy: 0.8555\n",
      "Epoch 00012: val_loss did not improve from 0.31665\n",
      "625/625 [==============================] - 323s 517ms/step - loss: 0.3404 - accuracy: 0.8555 - val_loss: 0.3243 - val_accuracy: 0.8598\n",
      "Epoch 13/128\n",
      "625/625 [==============================] - ETA: 0s - loss: 0.3330 - accuracy: 0.8595\n",
      "Epoch 00013: val_loss did not improve from 0.31665\n",
      "625/625 [==============================] - 322s 515ms/step - loss: 0.3330 - accuracy: 0.8595 - val_loss: 0.3321 - val_accuracy: 0.8608\n",
      "Epoch 14/128\n",
      "625/625 [==============================] - ETA: 0s - loss: 0.3400 - accuracy: 0.8563\n",
      "Epoch 00014: val_loss did not improve from 0.31665\n",
      "625/625 [==============================] - 325s 520ms/step - loss: 0.3400 - accuracy: 0.8563 - val_loss: 0.3509 - val_accuracy: 0.8396\n",
      "Epoch 15/128\n",
      "625/625 [==============================] - ETA: 0s - loss: 0.3291 - accuracy: 0.8609\n",
      "Epoch 00015: val_loss did not improve from 0.31665\n",
      "625/625 [==============================] - 322s 515ms/step - loss: 0.3291 - accuracy: 0.8609 - val_loss: 0.3584 - val_accuracy: 0.8460\n"
     ]
    }
   ],
   "source": [
    "epochs=128\n",
    "\n",
    "history = model.fit(trainGen, validation_data=validationGen, steps_per_epoch=(trainGen.samples*4) / epochs, \n",
    "                    validation_steps=(validationGen.samples*4) / epochs, epochs=epochs,\n",
    "                    callbacks=[early_stopping_callback, checkpointer])"
   ]
  },
  {
   "cell_type": "code",
   "execution_count": 27,
   "id": "298f5ba3",
   "metadata": {},
   "outputs": [
    {
     "data": {
      "image/png": "[encoded data removed]",
      "text/plain": [
       "<Figure size 1152x72 with 2 Axes>"
      ]
     },
     "metadata": {
      "needs_background": "light"
     },
     "output_type": "display_data"
    }
   ],
   "source": [
    "\n",
    "acc = history.history['accuracy']\n",
    "val_acc = history.history['val_accuracy']\n",
    "loss = history.history['loss']\n",
    "val_loss = history.history['val_loss']\n",
    "epochs = range(1, len(loss) + 1)\n",
    "\n",
    "plt.figure(figsize=(16, 1))\n",
    "plt.subplot(121)\n",
    "plt.subplots_adjust(top=2)\n",
    "plt.plot(epochs, acc, 'r.', label='Training Accuracy')\n",
    "plt.plot(epochs, val_acc, 'r', label='Validation Accuracy')\n",
    "plt.title('Training and Validation Accuracy')\n",
    "plt.xlabel('Epochs')\n",
    "plt.ylabel('Accuracy and loss')\n",
    "plt.legend(loc='upper center', bbox_to_anchor=(0.5, -0.1), fancybox=True, shadow=True, ncol=5)\n",
    "\n",
    "\n",
    "plt.subplot(122)\n",
    "plt.plot(epochs, loss, 'b.', label='Training Loss')\n",
    "plt.plot(epochs, val_loss, 'b', label='Validation Loss')\n",
    "plt.title('Training and Validation Loss')\n",
    "plt.xlabel('Epochs')\n",
    "plt.ylabel('loss')\n",
    "plt.legend(loc='upper center', bbox_to_anchor=(0.5, -0.1), fancybox=True, shadow=True, ncol=5)\n",
    "\n",
    "plt.show()"
   ]
  },
  {
   "cell_type": "code",
   "execution_count": 28,
   "id": "6b6cc6db",
   "metadata": {},
   "outputs": [
    {
     "name": "stdout",
     "output_type": "stream",
     "text": [
      "157/157 [==============================] - 14s 88ms/step - loss: 0.3513 - accuracy: 0.8422\n",
      "test loss : 0.3513 / test acc : 84.22 %\n"
     ]
    }
   ],
   "source": [
    "loss, acc = model.evaluate(validationGen, workers=4)\n",
    "\n",
    "print(f'test loss : {loss:.4f} / test acc : {acc*100:.2f} %')"
   ]
  },
  {
   "cell_type": "code",
   "execution_count": null,
   "id": "25af50cc",
   "metadata": {},
   "outputs": [],
   "source": []
  }
 ],
 "metadata": {
  "kernelspec": {
   "display_name": "Python 3",
   "language": "python",
   "name": "python3"
  },
  "language_info": {
   "codemirror_mode": {
    "name": "ipython",
    "version": 3
   },
   "file_extension": ".py",
   "mimetype": "text/x-python",
   "name": "python",
   "nbconvert_exporter": "python",
   "pygments_lexer": "ipython3",
   "version": "3.8.8"
  }
 },
 "nbformat": 4,
 "nbformat_minor": 5
}
