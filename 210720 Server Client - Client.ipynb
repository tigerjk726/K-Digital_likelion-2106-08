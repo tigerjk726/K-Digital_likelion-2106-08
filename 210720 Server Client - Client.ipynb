{
 "cells": [
  {
   "cell_type": "code",
   "execution_count": 1,
   "id": "8f236570",
   "metadata": {},
   "outputs": [
    {
     "name": "stdout",
     "output_type": "stream",
     "text": [
      "Enter Messasge :하이\n",
      "Received from the server '하이'\n",
      "Enter Messasge :?\n",
      "Received from the server '?'\n",
      "Enter Messasge :quit\n"
     ]
    }
   ],
   "source": [
    "import socket\n",
    "HOST = '127.0.0.1'\n",
    "PORT = 9999\n",
    "\n",
    "client_socket = socket.socket(socket.AF_INET, socket.SOCK_STREAM)\n",
    "client_socket.connect((HOST, PORT))\n",
    "\n",
    "while True:\n",
    "    message = input('Enter Messasge :')\n",
    "    if message == 'quit':\n",
    "        break\n",
    "    client_socket.send(message.encode())\n",
    "    data = client_socket.recv(1024)\n",
    "\n",
    "    print('Received from the server', repr(data.decode()))\n",
    "\n",
    "client_socket.close()\n",
    "\n"
   ]
  },
  {
   "cell_type": "code",
   "execution_count": null,
   "id": "fb5b659a",
   "metadata": {},
   "outputs": [],
   "source": []
  }
 ],
 "metadata": {
  "kernelspec": {
   "display_name": "Python 3",
   "language": "python",
   "name": "python3"
  },
  "language_info": {
   "codemirror_mode": {
    "name": "ipython",
    "version": 3
   },
   "file_extension": ".py",
   "mimetype": "text/x-python",
   "name": "python",
   "nbconvert_exporter": "python",
   "pygments_lexer": "ipython3",
   "version": "3.8.8"
  }
 },
 "nbformat": 4,
 "nbformat_minor": 5
}
