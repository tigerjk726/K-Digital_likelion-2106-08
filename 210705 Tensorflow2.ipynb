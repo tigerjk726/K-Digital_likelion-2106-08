{
 "cells": [
  {
   "cell_type": "code",
   "execution_count": null,
   "id": "41af8b80",
   "metadata": {},
   "outputs": [],
   "source": [
    "import tensorflow.compat.v1 as tf\n",
    "tf.disable_v2_behavior()\n",
    "\n",
    "a = tf.constant(3.0)\n",
    "b = tf.constant(4.0)\n",
    "c = tf.add(a, b)\n",
    "\n",
    "sess = tf.Session()\n",
    "\n",
    "print(sess.run([a,b]))\n",
    "print(sess.run(c))\n",
    "\n",
    "sess.close()"
   ]
  },
  {
   "cell_type": "code",
   "execution_count": null,
   "id": "0b0b8bf7",
   "metadata": {},
   "outputs": [],
   "source": [
    "import tensorflow as tf\n",
    "\n",
    "a = tf.constant(3.0)\n",
    "b = tf.constant(4.0)\n",
    "c = tf.add(a, b)\n",
    "print(a.numpy(), b.numpy())\n",
    "print(c.numpy())"
   ]
  },
  {
   "cell_type": "code",
   "execution_count": null,
   "id": "52a652de",
   "metadata": {},
   "outputs": [],
   "source": [
    "hello = tf.constant(\"hello world\")\n",
    "print(hello)\n",
    "print(hello.numpy())"
   ]
  },
  {
   "cell_type": "code",
   "execution_count": null,
   "id": "6939a639",
   "metadata": {},
   "outputs": [],
   "source": [
    "a = tf.constant(2)\n",
    "b = tf.constant(3)\n",
    "c = tf.constant(5)\n",
    "\n",
    "add = tf.add(a,b)\n",
    "sub = tf.subtract(a,b)\n",
    "mul = tf.multiply(a,b)\n",
    "div = tf.divide(a,b)\n",
    "\n",
    "print(\"add = \", add.numpy())\n",
    "print(\"sub = \", sub.numpy())\n",
    "print(\"mul = \", mul.numpy())\n",
    "print(\"div = \", div.numpy())\n",
    "\n",
    "mean = tf.reduce_mean([a,b,c])\n",
    "sum = tf.reduce_sum([a,b,c])\n",
    "\n",
    "print(\"mean = \", mean.numpy())\n",
    "print(\"sum = \", sum.numpy())\n",
    "\n",
    "matrix1 = tf.constant([[1,2], [3,4]])\n",
    "matrix2 = tf.constant([[5,6], [7,8]])\n",
    "product = tf.matmul(matrix1, matrix2)\n",
    "\n",
    "print(product)\n",
    "\n",
    "print(product.numpy())"
   ]
  },
  {
   "cell_type": "code",
   "execution_count": 3,
   "id": "80572395",
   "metadata": {},
   "outputs": [
    {
     "name": "stdout",
     "output_type": "stream",
     "text": [
      "Epoch:0, RMSE = 30.2139, 기울기a = 7.5235, y절편 = 80.5984\n",
      "Epoch:100, RMSE = 2.8860, 기울기a = 2.2299, y절편 = 79.4181\n",
      "Epoch:200, RMSE = 2.8826, 기울기a = 2.2601, y절편 = 79.2379\n",
      "Epoch:300, RMSE = 2.8815, 기울기a = 2.2773, y절편 = 79.1353\n",
      "Epoch:400, RMSE = 2.8811, 기울기a = 2.2871, y절편 = 79.0770\n",
      "Epoch:500, RMSE = 2.8810, 기울기a = 2.2927, y절편 = 79.0438\n",
      "Epoch:600, RMSE = 2.8810, 기울기a = 2.2958, y절편 = 79.0249\n",
      "Epoch:700, RMSE = 2.8810, 기울기a = 2.2976, y절편 = 79.0142\n",
      "Epoch:800, RMSE = 2.8810, 기울기a = 2.2987, y절편 = 79.0081\n",
      "Epoch:900, RMSE = 2.8810, 기울기a = 2.2992, y절편 = 79.0046\n",
      "Epoch:1000, RMSE = 2.8810, 기울기a = 2.2996, y절편 = 79.0026\n",
      "Epoch:1100, RMSE = 2.8810, 기울기a = 2.2998, y절편 = 79.0015\n",
      "Epoch:1200, RMSE = 2.8810, 기울기a = 2.2999, y절편 = 79.0008\n",
      "Epoch:1300, RMSE = 2.8810, 기울기a = 2.2999, y절편 = 79.0005\n",
      "Epoch:1400, RMSE = 2.8810, 기울기a = 2.3000, y절편 = 79.0003\n",
      "Epoch:1500, RMSE = 2.8810, 기울기a = 2.3000, y절편 = 79.0002\n",
      "Epoch:1600, RMSE = 2.8810, 기울기a = 2.3000, y절편 = 79.0001\n",
      "Epoch:1700, RMSE = 2.8810, 기울기a = 2.3000, y절편 = 79.0001\n",
      "Epoch:1800, RMSE = 2.8810, 기울기a = 2.3000, y절편 = 79.0000\n",
      "Epoch:1900, RMSE = 2.8810, 기울기a = 2.3000, y절편 = 79.0000\n",
      "Epoch:2000, RMSE = 2.8810, 기울기a = 2.3000, y절편 = 79.0000\n"
     ]
    }
   ],
   "source": [
    "import tensorflow.compat.v1 as tf\n",
    "tf.disable_v2_behavior()\n",
    "\n",
    "data = [[2,81], [4,93], [6,91], [8,97]]\n",
    "x_data = [i[0] for i in data]\n",
    "y_data = [i[1] for i in data]\n",
    "\n",
    "#기울기 a,b값을 임의로 정하고 기울기범위는 0~10, 절편은 0~100 사이로 변하게한다.\n",
    "a = tf.Variable(tf.random_uniform([1], 0, 10, dtype = tf.float64, seed = 0))\n",
    "b = tf.Variable(tf.random_uniform([1], 0, 100, dtype = tf.float64, seed = 0))\n",
    "\n",
    "y = a * x_data + b\n",
    "\n",
    "rmse = tf.sqrt(tf.reduce_mean(tf.square(y-y_data)))\n",
    "\n",
    "lr = 0.1\n",
    "\n",
    "gradient_decent = tf.train.GradientDescentOptimizer(lr).minimize(rmse)\n",
    "\n",
    "with tf.Session() as sess:\n",
    "    sess.run(tf.global_variables_initializer())\n",
    "    for step in range(2001):\n",
    "        sess.run(gradient_decent)\n",
    "        if step % 100 ==0:\n",
    "            print(\"Epoch:%.f, RMSE = %.04f, 기울기a = %.4f, y절편 = %.4f\"%(step, sess.run(rmse),sess.run(a),sess.run(b)))\n"
   ]
  },
  {
   "cell_type": "code",
   "execution_count": 5,
   "id": "f9335474",
   "metadata": {},
   "outputs": [
    {
     "data": {
      "image/png": "[encoded data removed]",
      "text/plain": [
       "<Figure size 432x288 with 1 Axes>"
      ]
     },
     "metadata": {
      "needs_background": "light"
     },
     "output_type": "display_data"
    }
   ],
   "source": [
    "import numpy as np\n",
    "import matplotlib.pyplot as plt\n",
    "\n",
    "a = np.random.rand(1000)\n",
    "b = np.random.rand(10000)\n",
    "c = np.random.rand(100000)\n",
    "\n",
    "plt.hist(a, bins=100, density=True, alpha=0.5, histtype ='step')\n",
    "plt.hist(b, bins=100, density=True, alpha=0.75, histtype ='step')\n",
    "plt.hist(c, bins=100, density=True, alpha=1.0, histtype ='step')\n",
    "plt.show()"
   ]
  },
  {
   "cell_type": "code",
   "execution_count": 7,
   "id": "07292af6",
   "metadata": {},
   "outputs": [
    {
     "data": {
      "image/png": "[encoded data removed]",
      "text/plain": [
       "<Figure size 432x288 with 4 Axes>"
      ]
     },
     "metadata": {
      "needs_background": "light"
     },
     "output_type": "display_data"
    }
   ],
   "source": [
    "a = np.random.randint(0, 10, 100)\n",
    "b = np.random.randint(0, 10, 1000)\n",
    "c = np.random.randint(0, 10, 10000)\n",
    "d = np.random.randint(0, 10, 100000)\n",
    "\n",
    "plt.subplot(221)\n",
    "plt.hist(a, bins=10)\n",
    "plt.title(\"axes 1\")\n",
    "\n",
    "plt.subplot(222)\n",
    "plt.hist(b, bins=10)\n",
    "plt.title(\"axes 2\")\n",
    "\n",
    "plt.subplot(223)\n",
    "plt.hist(c, bins=10)\n",
    "plt.title(\"axes 3\")\n",
    "\n",
    "plt.subplot(224)\n",
    "plt.hist(d, bins=10)\n",
    "plt.title(\"axes 4\")\n",
    "\n",
    "plt.tight_layout()\n",
    "plt.show()"
   ]
  },
  {
   "cell_type": "code",
   "execution_count": 18,
   "id": "417c2907",
   "metadata": {},
   "outputs": [
    {
     "data": {
      "image/png": "[encoded data removed]",
      "text/plain": [
       "<Figure size 600x300 with 1 Axes>"
      ]
     },
     "metadata": {},
     "output_type": "display_data"
    }
   ],
   "source": [
    "plt.style.use('default')\n",
    "plt.rcParams['figure.figsize'] = (6,3)\n",
    "plt.rcParams['font.size'] = 12\n",
    "             \n",
    "a = np.random.randn(1000)\n",
    "b = np.random.randn(10000)\n",
    "c = np.random.randn(100000)             \n",
    "\n",
    "plt.hist(a, bins =100, density=True, alpha=0.5, histtype='step', label='n=1000')\n",
    "plt.hist(b, bins =100, density=True, alpha=0.75, histtype='step', label='n=1000')\n",
    "plt.hist(c, bins =100, density=True, alpha=1.0, histtype='step', label='n=1000')\n",
    "\n",
    "plt.legend()\n",
    "plt.show()"
   ]
  },
  {
   "cell_type": "code",
   "execution_count": 50,
   "id": "52da7dec",
   "metadata": {
    "scrolled": true
   },
   "outputs": [
    {
     "name": "stdout",
     "output_type": "stream",
     "text": [
      "Epoch:0, RMSE = 10.9210, 기울기a = 0.7831, y절편 = 8.0641\n",
      "Epoch:1000, RMSE = 2.5552, 기울기a = -0.8255, y절편 = 5.5945\n",
      "Epoch:2000, RMSE = 1.5584, 기울기a = -0.4346, y절편 = 3.3965\n",
      "Epoch:3000, RMSE = 0.5663, 기울기a = -0.0445, y절편 = 1.2037\n",
      "Epoch:4000, RMSE = 0.0726, 기울기a = 0.1755, y절편 = -0.0337\n",
      "Epoch:5000, RMSE = 0.0726, 기울기a = 0.1756, y절편 = -0.0339\n",
      "Epoch:6000, RMSE = 0.0726, 기울기a = 0.1756, y절편 = -0.0339\n",
      "Epoch:7000, RMSE = 0.0726, 기울기a = 0.1756, y절편 = -0.0339\n",
      "Epoch:8000, RMSE = 0.0726, 기울기a = 0.1756, y절편 = -0.0339\n",
      "Epoch:9000, RMSE = 0.0726, 기울기a = 0.1756, y절편 = -0.0339\n"
     ]
    }
   ],
   "source": [
    "data = [[1,0.2], [2,0.3], [3,0.5], [4,0.6], [5,0.9], [6,0.95], [7,1.1], [8,1.5]]\n",
    "\n",
    "x_data = [i[0] for i in data]\n",
    "y_data = [i[1] for i in data]\n",
    "\n",
    "a = tf.Variable(tf.random_uniform([1], 0, 1, dtype = tf.float64, seed = 0))\n",
    "b = tf.Variable(tf.random_uniform([1], 0, 10, dtype = tf.float64, seed = 0))\n",
    "\n",
    "y = a * x_data + b\n",
    "\n",
    "rmse = tf.sqrt(tf.reduce_mean(tf.square(y-y_data)))\n",
    "\n",
    "lr = 0.005\n",
    "\n",
    "gradient_decent = tf.train.GradientDescentOptimizer(lr).minimize(rmse)\n",
    "\n",
    "with tf.Session() as sess:\n",
    "    sess.run(tf.global_variables_initializer())\n",
    "    for step in range(10000):\n",
    "        sess.run(gradient_decent)\n",
    "        if step % 1000 ==0:\n",
    "            print(\"Epoch:%.f, RMSE = %.04f, 기울기a = %.4f, y절편 = %.4f\"%(step, sess.run(rmse),sess.run(a),sess.run(b)))\n"
   ]
  },
  {
   "cell_type": "code",
   "execution_count": 103,
   "id": "ed8b6093",
   "metadata": {},
   "outputs": [
    {
     "name": "stdout",
     "output_type": "stream",
     "text": [
      "Epoch:0, RMSE = 26.7764, 기울기a = 0.0219, y절편 = 0.0001\n",
      "Epoch:100000, RMSE = 5.4649, 기울기a = 0.1267, y절편 = 2.8916\n",
      "Epoch:200000, RMSE = 4.8858, 기울기a = 0.1169, y절편 = 5.2931\n",
      "Epoch:300000, RMSE = 4.5388, 기울기a = 0.1093, y절편 = 7.1493\n",
      "Epoch:400000, RMSE = 4.3556, 기울기a = 0.1039, y절편 = 8.4958\n",
      "Epoch:500000, RMSE = 4.2671, 기울기a = 0.1000, y절편 = 9.4311\n",
      "Epoch:600000, RMSE = 4.2264, 기울기a = 0.0975, y절편 = 10.0652\n",
      "Epoch:700000, RMSE = 4.2081, 기울기a = 0.0957, y절편 = 10.4899\n",
      "Epoch:800000, RMSE = 4.2000, 기울기a = 0.0946, y절편 = 10.7726\n",
      "Epoch:900000, RMSE = 4.1964, 기울기a = 0.0938, y절편 = 10.9605\n",
      "Epoch:1000000, RMSE = 4.1948, 기울기a = 0.0933, y절편 = 11.0851\n",
      "Epoch:1100000, RMSE = 4.1941, 기울기a = 0.0930, y절편 = 11.1677\n",
      "Epoch:1200000, RMSE = 4.1938, 기울기a = 0.0927, y절편 = 11.2225\n",
      "Epoch:1300000, RMSE = 4.1937, 기울기a = 0.0926, y절편 = 11.2588\n",
      "Epoch:1400000, RMSE = 4.1936, 기울기a = 0.0925, y절편 = 11.2829\n"
     ]
    }
   ],
   "source": [
    "data = [[100,20],[150,24],[300,36],[400,47],[130,22],[240,32],[350,47],[200,42],[100,21],[110,21],[190,30],[120,25],[130,18],[270,38],[255,28]]\n",
    "x_data = [i[0] for i in data]\n",
    "y_data = [i[1] for i in data]\n",
    "\n",
    "a = tf.Variable(tf.random_uniform([1], 0, 0, dtype = tf.float64, seed = 0))\n",
    "b = tf.Variable(tf.random_uniform([1], 0, 0, dtype = tf.float64, seed = 0))\n",
    "\n",
    "y = a * x_data + b\n",
    "\n",
    "rmse = tf.sqrt(tf.reduce_mean(tf.square(y-y_data)))\n",
    "learning_rate = 0.0001\n",
    "\n",
    "gradient_decent = tf.train.GradientDescentOptimizer(learning_rate).minimize(rmse)\n",
    "\n",
    "with tf.Session() as sess:\n",
    "    sess.run(tf.global_variables_initializer())\n",
    "    for step in range(1500000):\n",
    "        sess.run(gradient_decent)\n",
    "        if step % 100000 ==0:\n",
    "            print(\"Epoch:%.f, RMSE = %.04f, 기울기a = %.4f, y절편 = %.4f\"%(step, sess.run(rmse),sess.run(a),sess.run(b)))\n",
    "    \n"
   ]
  },
  {
   "cell_type": "code",
   "execution_count": 115,
   "id": "899eb575",
   "metadata": {},
   "outputs": [
    {
     "data": {
      "image/png": "[encoded data removed]",
      "text/plain": [
       "<Figure size 432x288 with 1 Axes>"
      ]
     },
     "metadata": {
      "needs_background": "light"
     },
     "output_type": "display_data"
    }
   ],
   "source": [
    "y = a * x_data + b\n",
    "plt.grid()\n",
    "plt.scatter(x_data, y_data)\n",
    "plt.plot([min(x_data),max(x_data)], [min(y_data),max(y_data)])\n",
    "plt.show()\n"
   ]
  },
  {
   "cell_type": "code",
   "execution_count": 106,
   "id": "a39effbf",
   "metadata": {},
   "outputs": [],
   "source": [
    "import matplotlib.pyplot as plt\n",
    "import matplotlib as mpl\n",
    "%matplotlib inline"
   ]
  },
  {
   "cell_type": "code",
   "execution_count": 126,
   "id": "d9307d84",
   "metadata": {},
   "outputs": [
    {
     "data": {
      "image/png": "[encoded data removed]",
      "text/plain": [
       "<Figure size 432x288 with 1 Axes>"
      ]
     },
     "metadata": {
      "needs_background": "light"
     },
     "output_type": "display_data"
    }
   ],
   "source": [
    "plt.title(\"제목\")\n",
    "plt.plot([10,20,30,40],[1,4,9,16])\n",
    "plt.show()"
   ]
  },
  {
   "cell_type": "code",
   "execution_count": 122,
   "id": "5a9affb7",
   "metadata": {},
   "outputs": [
    {
     "data": {
      "text/plain": [
       "{'Agency FB',\n",
       " 'Algerian',\n",
       " 'Ami R',\n",
       " 'Arial',\n",
       " 'Arial Rounded MT Bold',\n",
       " 'Arial Unicode MS',\n",
       " 'Bahnschrift',\n",
       " 'Baskerville Old Face',\n",
       " 'Batang',\n",
       " 'Bauhaus 93',\n",
       " 'Bell MT',\n",
       " 'Berlin Sans FB',\n",
       " 'Berlin Sans FB Demi',\n",
       " 'Bernard MT Condensed',\n",
       " 'Blackadder ITC',\n",
       " 'Bodoni MT',\n",
       " 'Book Antiqua',\n",
       " 'Bookman Old Style',\n",
       " 'Bookshelf Symbol 7',\n",
       " 'Bradley Hand ITC',\n",
       " 'Britannic Bold',\n",
       " 'Broadway',\n",
       " 'Brush Script MT',\n",
       " 'Calibri',\n",
       " 'Californian FB',\n",
       " 'Calisto MT',\n",
       " 'Cambria',\n",
       " 'Candara',\n",
       " 'Castellar',\n",
       " 'Centaur',\n",
       " 'Century',\n",
       " 'Century Gothic',\n",
       " 'Century Schoolbook',\n",
       " 'Chiller',\n",
       " 'Colonna MT',\n",
       " 'Comic Sans MS',\n",
       " 'Consolas',\n",
       " 'Constantia',\n",
       " 'Cooper Black',\n",
       " 'Copperplate Gothic Bold',\n",
       " 'Copperplate Gothic Light',\n",
       " 'Corbel',\n",
       " 'Courier New',\n",
       " 'Curlz MT',\n",
       " 'D2Coding',\n",
       " 'DejaVu Sans',\n",
       " 'DejaVu Sans Display',\n",
       " 'DejaVu Sans Mono',\n",
       " 'DejaVu Serif',\n",
       " 'DejaVu Serif Display',\n",
       " 'Dubai',\n",
       " 'Ebrima',\n",
       " 'Edwardian Script ITC',\n",
       " 'Elephant',\n",
       " 'Engravers MT',\n",
       " 'Eras Bold ITC',\n",
       " 'Eras Demi ITC',\n",
       " 'Eras Light ITC',\n",
       " 'Eras Medium ITC',\n",
       " 'Felix Titling',\n",
       " 'Footlight MT Light',\n",
       " 'Forte',\n",
       " 'Franklin Gothic Book',\n",
       " 'Franklin Gothic Demi',\n",
       " 'Franklin Gothic Demi Cond',\n",
       " 'Franklin Gothic Heavy',\n",
       " 'Franklin Gothic Medium',\n",
       " 'Franklin Gothic Medium Cond',\n",
       " 'Freestyle Script',\n",
       " 'French Script MT',\n",
       " 'Gabia Solmee',\n",
       " 'Gabriola',\n",
       " 'Gadugi',\n",
       " 'Garamond',\n",
       " 'Georgia',\n",
       " 'Gigi',\n",
       " 'Gill Sans MT',\n",
       " 'Gill Sans MT Condensed',\n",
       " 'Gill Sans MT Ext Condensed Bold',\n",
       " 'Gill Sans Ultra Bold',\n",
       " 'Gill Sans Ultra Bold Condensed',\n",
       " 'Gloucester MT Extra Condensed',\n",
       " 'Goudy Old Style',\n",
       " 'Goudy Stout',\n",
       " 'Gulim',\n",
       " 'HYGothic-Extra',\n",
       " 'HYGothic-Medium',\n",
       " 'HYGraphic-Medium',\n",
       " 'HYGungSo-Bold',\n",
       " 'HYHeadLine-Medium',\n",
       " 'HYMyeongJo-Extra',\n",
       " 'HYPMokGak-Bold',\n",
       " 'HYPost-Light',\n",
       " 'HYPost-Medium',\n",
       " 'HYShortSamul-Medium',\n",
       " 'HYSinMyeongJo-Medium',\n",
       " 'Haettenschweiler',\n",
       " 'Harlow Solid Italic',\n",
       " 'Harrington',\n",
       " 'Headline R',\n",
       " 'High Tower Text',\n",
       " 'HoloLens MDL2 Assets',\n",
       " 'Impact',\n",
       " 'Imprint MT Shadow',\n",
       " 'Informal Roman',\n",
       " 'Ink Free',\n",
       " 'Javanese Text',\n",
       " 'Jokerman',\n",
       " 'Juice ITC',\n",
       " 'Kristen ITC',\n",
       " 'Kunstler Script',\n",
       " 'Leelawadee',\n",
       " 'Leelawadee UI',\n",
       " 'Lucida Bright',\n",
       " 'Lucida Calligraphy',\n",
       " 'Lucida Console',\n",
       " 'Lucida Fax',\n",
       " 'Lucida Handwriting',\n",
       " 'Lucida Sans',\n",
       " 'Lucida Sans Typewriter',\n",
       " 'Lucida Sans Unicode',\n",
       " 'MS Gothic',\n",
       " 'MS Outlook',\n",
       " 'MS Reference Sans Serif',\n",
       " 'MS Reference Specialty',\n",
       " 'MT Extra',\n",
       " 'MV Boli',\n",
       " 'Magic R',\n",
       " 'Magneto',\n",
       " 'Maiandra GD',\n",
       " 'Malgun Gothic',\n",
       " 'Maplestory',\n",
       " 'Marlett',\n",
       " 'Matura MT Script Capitals',\n",
       " 'Meiryo',\n",
       " 'Microsoft Himalaya',\n",
       " 'Microsoft JhengHei',\n",
       " 'Microsoft New Tai Lue',\n",
       " 'Microsoft PhagsPa',\n",
       " 'Microsoft Sans Serif',\n",
       " 'Microsoft Tai Le',\n",
       " 'Microsoft Uighur',\n",
       " 'Microsoft YaHei',\n",
       " 'Microsoft Yi Baiti',\n",
       " 'MingLiU-ExtB',\n",
       " 'Mistral',\n",
       " 'Modern No. 20',\n",
       " 'MoeumT R',\n",
       " 'Mongolian Baiti',\n",
       " 'Monotype Corsiva',\n",
       " 'Myanmar Text',\n",
       " 'NapjakBlock',\n",
       " 'New Gulim',\n",
       " 'Niagara Engraved',\n",
       " 'Niagara Solid',\n",
       " 'Nirmala UI',\n",
       " 'OCR A Extended',\n",
       " 'Old English Text MT',\n",
       " 'Onyx',\n",
       " 'Palace Script MT',\n",
       " 'Palatino Linotype',\n",
       " 'Papyrus',\n",
       " 'Parchment',\n",
       " 'Perpetua',\n",
       " 'Perpetua Titling MT',\n",
       " 'Playbill',\n",
       " 'Poor Richard',\n",
       " 'Pristina',\n",
       " 'Pyunji R',\n",
       " 'Rage Italic',\n",
       " 'Ravie',\n",
       " 'Rockwell',\n",
       " 'Rockwell Condensed',\n",
       " 'Rockwell Extra Bold',\n",
       " 'STIXGeneral',\n",
       " 'STIXNonUnicode',\n",
       " 'STIXSizeFiveSym',\n",
       " 'STIXSizeFourSym',\n",
       " 'STIXSizeOneSym',\n",
       " 'STIXSizeThreeSym',\n",
       " 'STIXSizeTwoSym',\n",
       " 'Script MT Bold',\n",
       " 'Segoe MDL2 Assets',\n",
       " 'Segoe Print',\n",
       " 'Segoe Script',\n",
       " 'Segoe UI',\n",
       " 'Segoe UI Emoji',\n",
       " 'Segoe UI Historic',\n",
       " 'Segoe UI Symbol',\n",
       " 'Showcard Gothic',\n",
       " 'SimSun',\n",
       " 'SimSun-ExtB',\n",
       " 'Sitka Small',\n",
       " 'Snap ITC',\n",
       " 'Stencil',\n",
       " 'Sylfaen',\n",
       " 'Symbol',\n",
       " 'Tahoma',\n",
       " 'Tempus Sans ITC',\n",
       " 'Times New Roman',\n",
       " 'Trebuchet MS',\n",
       " 'Tw Cen MT',\n",
       " 'Tw Cen MT Condensed',\n",
       " 'Tw Cen MT Condensed Extra Bold',\n",
       " 'Verdana',\n",
       " 'Viner Hand ITC',\n",
       " 'Vivaldi',\n",
       " 'Vladimir Script',\n",
       " 'Webdings',\n",
       " 'Wide Latin',\n",
       " 'Wingdings',\n",
       " 'Wingdings 2',\n",
       " 'Wingdings 3',\n",
       " 'Yet R',\n",
       " 'Yu Gothic',\n",
       " 'cmb10',\n",
       " 'cmex10',\n",
       " 'cmmi10',\n",
       " 'cmr10',\n",
       " 'cmss10',\n",
       " 'cmsy10',\n",
       " 'cmtt10'}"
      ]
     },
     "execution_count": 122,
     "metadata": {},
     "output_type": "execute_result"
    }
   ],
   "source": [
    "set(sorted([f.name for f in mpl.font_manager.fontManager.ttflist]))"
   ]
  },
  {
   "cell_type": "code",
   "execution_count": null,
   "id": "96e06122",
   "metadata": {},
   "outputs": [],
   "source": []
  }
 ],
 "metadata": {
  "kernelspec": {
   "display_name": "Python 3",
   "language": "python",
   "name": "python3"
  },
  "language_info": {
   "codemirror_mode": {
    "name": "ipython",
    "version": 3
   },
   "file_extension": ".py",
   "mimetype": "text/x-python",
   "name": "python",
   "nbconvert_exporter": "python",
   "pygments_lexer": "ipython3",
   "version": "3.8.8"
  }
 },
 "nbformat": 4,
 "nbformat_minor": 5
}
