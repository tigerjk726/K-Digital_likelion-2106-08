{
 "cells": [
  {
   "cell_type": "code",
   "execution_count": null,
   "id": "b8ed468f",
   "metadata": {},
   "outputs": [],
   "source": [
    "import requests\n",
    "from bs4 import BeautifulSoup"
   ]
  },
  {
   "cell_type": "code",
   "execution_count": null,
   "id": "3fc11161",
   "metadata": {},
   "outputs": [],
   "source": [
    "r = requests.get('http://wikidocs.net')\n",
    "html = r.text"
   ]
  },
  {
   "cell_type": "code",
   "execution_count": null,
   "id": "4f408133",
   "metadata": {},
   "outputs": [],
   "source": [
    "res = requests.get('http://v.media.daum.net/v/20170615203441266')\n",
    "soup = BeautifulSoup(res.content, 'html.parser')\n",
    "\n",
    "title = soup.find('title')\n",
    "\n",
    "print(title.get_text())"
   ]
  },
  {
   "cell_type": "code",
   "execution_count": null,
   "id": "835d6030",
   "metadata": {},
   "outputs": [],
   "source": [
    "res = requests.get('http://movie.naver.com/movie/sdb/rank/rmovie.nhn')\n",
    "\n",
    "html = res.text\n",
    "print(html)"
   ]
  },
  {
   "cell_type": "code",
   "execution_count": null,
   "id": "b2a54bf3",
   "metadata": {},
   "outputs": [],
   "source": [
    "soup = BeautifulSoup(res.content, 'html.parser')\n",
    "\n",
    "print(soup)"
   ]
  },
  {
   "cell_type": "code",
   "execution_count": null,
   "id": "f4476a2e",
   "metadata": {},
   "outputs": [],
   "source": [
    "title = soup.select('div[class=tit3]')\n",
    "print(title)"
   ]
  },
  {
   "cell_type": "code",
   "execution_count": null,
   "id": "9987bbf7",
   "metadata": {},
   "outputs": [],
   "source": [
    "for tag in soup.select('div[class=tit3]'):\n",
    "    print(tag.text.strip())"
   ]
  },
  {
   "cell_type": "code",
   "execution_count": null,
   "id": "a958c9c5",
   "metadata": {},
   "outputs": [],
   "source": [
    "import numpy as np\n",
    "import pandas as pd\n",
    "out = None\n",
    "outStr =\"\"\n",
    "out = open(\"movie.txt\", \"w\", encoding='utf-8')\n",
    "for tag in soup.select('div[class=tit3]'):\n",
    "    out.writelines(tag.text.strip()+'\\n')\n",
    "out.close()"
   ]
  },
  {
   "cell_type": "code",
   "execution_count": null,
   "id": "c5ba721d",
   "metadata": {},
   "outputs": [],
   "source": [
    "outfile = open(\"movie2.txt\", \"w\", encoding='utf-8')\n",
    "out2 = []\n",
    "for tag in soup.select('div[class=tit3]'):\n",
    "    out2.append(tag.text.strip()+'\\n')\n",
    "outfile.writelines(out2)\n",
    "outfile.close()"
   ]
  },
  {
   "cell_type": "code",
   "execution_count": 44,
   "id": "c8935e4a",
   "metadata": {},
   "outputs": [],
   "source": [
    "import requests\n",
    "from bs4 import BeautifulSoup\n",
    "import requests, json\n",
    "from datetime import datetime\n",
    "import timer\n",
    "import threading\n",
    "import copy\n",
    "\n",
    "def get_now():\n",
    "    global now\n",
    "    now = datetime.now().strftime('%Y%m%d%H%M')\n",
    "    r = requests.get('https://www.nate.com/js/data/jsonLiveKeywordDataV1.js?v='+now).content\n",
    "    keyword_list = json.loads(r.decode('euc-kr'))\n",
    "    result = []\n",
    "    for k in keyword_list:\n",
    "        result.append(k[1]+'\\n')\n",
    "    return result\n",
    "\n",
    "def readRTData():\n",
    "    global i\n",
    "    i += 1\n",
    "    return threading.Timer(1, readRTData).start()   \n",
    "\n",
    "while i <= 60 :\n",
    "    nate = open(\"Keyword_nate.txt\", \"w\", encoding='utf-8')\n",
    "    New = get_now()\n",
    "    nate.writelines(i)\n",
    "    nate.writelines(New)\n",
    "    nate.close()\n",
    "    readRTData()\n",
    "    \n",
    "inFP = open(\"data1.txt\",\"r\",encoding=\"utf-8\")\n",
    "inList = []\n",
    "inList = inFP.readlines()\n",
    "for i in range(len(inList)):\n",
    "    print(inList[i],end=\"\")\n",
    "inFP.close()"
   ]
  },
  {
   "cell_type": "code",
   "execution_count": 65,
   "id": "60e9b1fc",
   "metadata": {},
   "outputs": [
    {
     "name": "stdout",
     "output_type": "stream",
     "text": [
      "변경 1\n",
      "['행정관 코로나 확진\\n', '하준수\\n', '도쿄올림픽 정상 개최\\n', '박석민\\n', '2단계라도 제주 대구\\n', '나는 솔로 데프콘\\n', '방탄소년단 사진 공개에\\n', '배우 같은 날\\n', '안테나\\n', '20개월 딸 20대\\n']\n"
     ]
    }
   ],
   "source": [
    "import requests\n",
    "from bs4 import BeautifulSoup\n",
    "import requests, json\n",
    "from datetime import datetime\n",
    "import time\n",
    "import threading\n",
    "import copy\n",
    "\n",
    "nate = open(\"Keyword_nate.txt\", \"w\", encoding='utf-8')\n",
    "i = 0\n",
    "start_t = 0\n",
    "end_t = 0\n",
    "calc_t = 0\n",
    "old = [None]*20\n",
    "new = [None]*20\n",
    "\n",
    "def get_now():\n",
    "    now = datetime.now().strftime('%Y%m%d%H%M')\n",
    "    r = requests.get('https://www.nate.com/js/data/jsonLiveKeywordDataV1.js?v='+now).content\n",
    "    keyword_list = json.loads(r.decode('euc-kr'))\n",
    "    result = []\n",
    "    for k in keyword_list:\n",
    "        result.append(k[1]+'\\n')\n",
    "    return result\n",
    "\n",
    "def readRtData():\n",
    "    global i\n",
    "    global old\n",
    "    global new\n",
    "    \n",
    "    new = get_now()\n",
    "    i += 1\n",
    "\n",
    "    if new == old:\n",
    "        print('동일', i)\n",
    "    else:\n",
    "        print('변경', i)\n",
    "        print(new)\n",
    "        now_T = datetime.now()\n",
    "        nate.writelines(str(now_T.hour)+'/'+str(now_T.minute)+'/'+str(now_T.second)+'\\n')\n",
    "        \n",
    "        for j, w_string in enumerate(new):\n",
    "            nate.writelines(str(j+1) + '.' + w_string+'\\n')\n",
    "            \n",
    "    old = copy.deepcopy(new)\n",
    "    \n",
    "    if(i < 60):\n",
    "        timer = threading.Timer(10, readRtData).start()\n",
    "\n",
    "    else:\n",
    "        nate.close()\n",
    "        print(\"======================== Fin ==========================\")\n",
    "        \n",
    "readRtData()"
   ]
  },
  {
   "cell_type": "code",
   "execution_count": null,
   "id": "ab65fd2c",
   "metadata": {},
   "outputs": [],
   "source": []
  }
 ],
 "metadata": {
  "kernelspec": {
   "display_name": "Python 3",
   "language": "python",
   "name": "python3"
  },
  "language_info": {
   "codemirror_mode": {
    "name": "ipython",
    "version": 3
   },
   "file_extension": ".py",
   "mimetype": "text/x-python",
   "name": "python",
   "nbconvert_exporter": "python",
   "pygments_lexer": "ipython3",
   "version": "3.8.8"
  }
 },
 "nbformat": 4,
 "nbformat_minor": 5
}
