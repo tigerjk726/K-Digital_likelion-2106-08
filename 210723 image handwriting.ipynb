{
 "cells": [
  {
   "cell_type": "code",
   "execution_count": 4,
   "id": "0f5d235d",
   "metadata": {},
   "outputs": [],
   "source": [
    "from tensorflow.keras.datasets import mnist"
   ]
  },
  {
   "cell_type": "code",
   "execution_count": 17,
   "id": "08cb680e",
   "metadata": {},
   "outputs": [],
   "source": [
    "(X_train, Y_class_train),(X_test, Y_class_test) = mnist.load_data()"
   ]
  },
  {
   "cell_type": "code",
   "execution_count": 18,
   "id": "43ee56a5",
   "metadata": {},
   "outputs": [
    {
     "name": "stdout",
     "output_type": "stream",
     "text": [
      "학습셋 : 60000 개\n",
      "테스트셋 : 10000 개\n"
     ]
    }
   ],
   "source": [
    "print('학습셋 : %d 개'%(X_train.shape[0]))\n",
    "print('테스트셋 : %d 개'%(X_test.shape[0]))"
   ]
  },
  {
   "cell_type": "code",
   "execution_count": 19,
   "id": "8d923934",
   "metadata": {},
   "outputs": [
    {
     "data": {
      "image/png": "[encoded data removed]",
      "text/plain": [
       "<Figure size 432x288 with 1 Axes>"
      ]
     },
     "metadata": {
      "needs_background": "light"
     },
     "output_type": "display_data"
    }
   ],
   "source": [
    "import matplotlib.pyplot as plt\n",
    "plt.imshow(X_train[0], cmap='Greys')\n",
    "plt.show()"
   ]
  },
  {
   "cell_type": "code",
   "execution_count": 20,
   "id": "b09bbdaf",
   "metadata": {},
   "outputs": [
    {
     "name": "stdout",
     "output_type": "stream",
     "text": [
      "  0  0  0  0  0  0  0  0  0  0  0  0  0  0  0  0  0  0  0  0  0  0  0  0  0  0  0  0\n",
      "  0  0  0  0  0  0  0  0  0  0  0  0  0  0  0  0  0  0  0  0  0  0  0  0  0  0  0  0\n",
      "  0  0  0  0  0  0  0  0  0  0  0  0  0  0  0  0  0  0  0  0  0  0  0  0  0  0  0  0\n",
      "  0  0  0  0  0  0  0  0  0  0  0  0  0  0  0  0  0  0  0  0  0  0  0  0  0  0  0  0\n",
      "  0  0  0  0  0  0  0  0  0  0  0  0  0  0  0  0  0  0  0  0  0  0  0  0  0  0  0  0\n",
      "  0  0  0  0  0  0  0  0  0  0  0  0  3 18 18 18126136175 26166255247127  0  0  0  0\n",
      "  0  0  0  0  0  0  0  0 30 36 94154170253253253253253225172253242195 64  0  0  0  0\n",
      "  0  0  0  0  0  0  0 49238253253253253253253253253251 93 82 82 56 39  0  0  0  0  0\n",
      "  0  0  0  0  0  0  0 18219253253253253253198182247241  0  0  0  0  0  0  0  0  0  0\n",
      "  0  0  0  0  0  0  0  0 80156107253253205 11  0 43154  0  0  0  0  0  0  0  0  0  0\n",
      "  0  0  0  0  0  0  0  0  0 14  1154253 90  0  0  0  0  0  0  0  0  0  0  0  0  0  0\n",
      "  0  0  0  0  0  0  0  0  0  0  0139253190  2  0  0  0  0  0  0  0  0  0  0  0  0  0\n",
      "  0  0  0  0  0  0  0  0  0  0  0 11190253 70  0  0  0  0  0  0  0  0  0  0  0  0  0\n",
      "  0  0  0  0  0  0  0  0  0  0  0  0 35241225160108  1  0  0  0  0  0  0  0  0  0  0\n",
      "  0  0  0  0  0  0  0  0  0  0  0  0  0 81240253253119 25  0  0  0  0  0  0  0  0  0\n",
      "  0  0  0  0  0  0  0  0  0  0  0  0  0  0 45186253253150 27  0  0  0  0  0  0  0  0\n",
      "  0  0  0  0  0  0  0  0  0  0  0  0  0  0  0 16 93252253187  0  0  0  0  0  0  0  0\n",
      "  0  0  0  0  0  0  0  0  0  0  0  0  0  0  0  0  0249253249 64  0  0  0  0  0  0  0\n",
      "  0  0  0  0  0  0  0  0  0  0  0  0  0  0 46130183253253207  2  0  0  0  0  0  0  0\n",
      "  0  0  0  0  0  0  0  0  0  0  0  0 39148229253253253250182  0  0  0  0  0  0  0  0\n",
      "  0  0  0  0  0  0  0  0  0  0 24114221253253253253201 78  0  0  0  0  0  0  0  0  0\n",
      "  0  0  0  0  0  0  0  0 23 66213253253253253198 81  2  0  0  0  0  0  0  0  0  0  0\n",
      "  0  0  0  0  0  0 18171219253253253253195 80  9  0  0  0  0  0  0  0  0  0  0  0  0\n",
      "  0  0  0  0 55172226253253253253244133 11  0  0  0  0  0  0  0  0  0  0  0  0  0  0\n",
      "  0  0  0  0136253253253212135132 16  0  0  0  0  0  0  0  0  0  0  0  0  0  0  0  0\n",
      "  0  0  0  0  0  0  0  0  0  0  0  0  0  0  0  0  0  0  0  0  0  0  0  0  0  0  0  0\n",
      "  0  0  0  0  0  0  0  0  0  0  0  0  0  0  0  0  0  0  0  0  0  0  0  0  0  0  0  0\n",
      "  0  0  0  0  0  0  0  0  0  0  0  0  0  0  0  0  0  0  0  0  0  0  0  0  0  0  0  0\n"
     ]
    }
   ],
   "source": [
    "import sys\n",
    "for x in X_train[0]:\n",
    "    for i in x:\n",
    "        sys.stdout.write('%3d'%i) #'%3d' %i, '%d\\t' %i\n",
    "    sys.stdout.write('\\n')"
   ]
  },
  {
   "cell_type": "code",
   "execution_count": 21,
   "id": "ea61acc0",
   "metadata": {},
   "outputs": [],
   "source": [
    "X_train = X_train.reshape(X_train.shape[0], 784)"
   ]
  },
  {
   "cell_type": "code",
   "execution_count": 22,
   "id": "c18c9e50",
   "metadata": {},
   "outputs": [],
   "source": [
    "X_test = X_test.reshape(X_test.shape[0],784).astype('float64') / 255"
   ]
  },
  {
   "cell_type": "code",
   "execution_count": 23,
   "id": "0a67d9d8",
   "metadata": {},
   "outputs": [
    {
     "name": "stdout",
     "output_type": "stream",
     "text": [
      "class : 5\n"
     ]
    }
   ],
   "source": [
    "print(\"class : %d\"%(Y_class_train[0]))"
   ]
  },
  {
   "cell_type": "code",
   "execution_count": 36,
   "id": "1deb992b",
   "metadata": {},
   "outputs": [],
   "source": [
    "import tensorflow as tf\n",
    "\n",
    "Y_train = tf.keras.utils.to_categorical(Y_class_train, 10)\n",
    "Y_test = tf.keras.utils.to_categorical(Y_class_test, 10)"
   ]
  },
  {
   "cell_type": "code",
   "execution_count": 37,
   "id": "cb20ff70",
   "metadata": {},
   "outputs": [
    {
     "name": "stdout",
     "output_type": "stream",
     "text": [
      "[0. 0. 0. 0. 0. 1. 0. 0. 0. 0.]\n"
     ]
    }
   ],
   "source": [
    "print(Y_train[0])"
   ]
  },
  {
   "cell_type": "markdown",
   "id": "c2e1f051",
   "metadata": {},
   "source": [
    "딥러닝 기본 프레임 만들기"
   ]
  },
  {
   "cell_type": "code",
   "execution_count": 43,
   "id": "37cc0b4d",
   "metadata": {},
   "outputs": [
    {
     "name": "stdout",
     "output_type": "stream",
     "text": [
      "\n",
      "Epoch 00001: val_loss improved from inf to 0.15154, saving model to ./model\\01-0.1515.hdf5\n",
      "\n",
      "Epoch 00002: val_loss improved from 0.15154 to 0.10578, saving model to ./model\\02-0.1058.hdf5\n",
      "\n",
      "Epoch 00003: val_loss improved from 0.10578 to 0.08270, saving model to ./model\\03-0.0827.hdf5\n",
      "\n",
      "Epoch 00004: val_loss improved from 0.08270 to 0.07159, saving model to ./model\\04-0.0716.hdf5\n",
      "\n",
      "Epoch 00005: val_loss improved from 0.07159 to 0.06428, saving model to ./model\\05-0.0643.hdf5\n",
      "\n",
      "Epoch 00006: val_loss did not improve from 0.06428\n",
      "\n",
      "Epoch 00007: val_loss improved from 0.06428 to 0.06205, saving model to ./model\\07-0.0621.hdf5\n",
      "\n",
      "Epoch 00008: val_loss did not improve from 0.06205\n",
      "\n",
      "Epoch 00009: val_loss improved from 0.06205 to 0.06053, saving model to ./model\\09-0.0605.hdf5\n",
      "\n",
      "Epoch 00010: val_loss improved from 0.06053 to 0.05949, saving model to ./model\\10-0.0595.hdf5\n",
      "\n",
      "Epoch 00011: val_loss did not improve from 0.05949\n",
      "\n",
      "Epoch 00012: val_loss did not improve from 0.05949\n",
      "\n",
      "Epoch 00013: val_loss did not improve from 0.05949\n",
      "\n",
      "Epoch 00014: val_loss did not improve from 0.05949\n",
      "\n",
      "Epoch 00015: val_loss did not improve from 0.05949\n",
      "\n",
      "Epoch 00016: val_loss did not improve from 0.05949\n",
      "\n",
      "Epoch 00017: val_loss did not improve from 0.05949\n",
      "\n",
      "Epoch 00018: val_loss did not improve from 0.05949\n",
      "\n",
      "Epoch 00019: val_loss did not improve from 0.05949\n",
      "\n",
      "Epoch 00020: val_loss did not improve from 0.05949\n",
      "313/313 [==============================] - 0s 828us/step - loss: 0.0711 - accuracy: 0.9807\n",
      "\n",
      " Test Accuracy : 0.9807\n"
     ]
    }
   ],
   "source": [
    "from tensorflow.keras.datasets import mnist\n",
    "from tensorflow.keras.models import Sequential\n",
    "from tensorflow.keras.layers import Dense\n",
    "from tensorflow.keras.callbacks import ModelCheckpoint, EarlyStopping\n",
    "\n",
    "\n",
    "import matplotlib.pyplot as plt\n",
    "import numpy as np\n",
    "import cv2\n",
    "import tensorflow as tf\n",
    "import os\n",
    "\n",
    "# nmist로 데이터 불러오기\n",
    "(X_train, Y_train),(X_test, Y_test) = mnist.load_data()\n",
    "\n",
    "# x의 데이터셋을 784로 나누어서 리쉐이프하기 그리고 배열을 각각 255(색)으로 나누기\n",
    "X_train  = X_train.reshape(X_train.shape[0], 784).astype('float32') / 255\n",
    "X_test  = X_test.reshape(X_test.shape[0], 784).astype('float32') / 255\n",
    "\n",
    "# y의 데이터를 \n",
    "Y_train  = tf.keras.utils.to_categorical(Y_train, 10)\n",
    "Y_test  = tf.keras.utils.to_categorical(Y_test, 10)\n",
    "\n",
    "model = Sequential()\n",
    "model.add(Dense(512, input_dim=784, activation='relu'))\n",
    "model.add(Dense(10, activation='softmax'))\n",
    "\n",
    "model.compile(loss='categorical_crossentropy', optimizer='adam', metrics=['accuracy'])\n",
    "\n",
    "MODEL_DIR = './model/'\n",
    "if not os.path.exists(MODEL_DIR):\n",
    "    os.mkdir(MODEL_DIR)\n",
    "    \n",
    "modelpath = \"./model/{epoch:02d}-{val_loss:.4f}.hdf5\"\n",
    "checkpointer = ModelCheckpoint(filepath=modelpath, monitor='val_loss', verbose=1, save_best_only=True)\n",
    "early_stopping_callback = EarlyStopping(monitor='val_loss', patience=10)\n",
    "\n",
    "history = model.fit(X_train, Y_train, validation_data=(X_test, Y_test), epochs=30, batch_size=200, verbose=0, \n",
    "                    callbacks=[early_stopping_callback, checkpointer])\n",
    "\n",
    "print(\"\\n Test Accuracy : %.4f\" %(model.evaluate(X_test, Y_test) [1]))"
   ]
  },
  {
   "cell_type": "code",
   "execution_count": 44,
   "id": "58c9c819",
   "metadata": {},
   "outputs": [
    {
     "data": {
      "image/png": "[encoded data removed]",
      "text/plain": [
       "<Figure size 432x288 with 1 Axes>"
      ]
     },
     "metadata": {
      "needs_background": "light"
     },
     "output_type": "display_data"
    }
   ],
   "source": [
    "\n",
    "#테스트셋으로 실험 오차값 저장\n",
    "y_loss = history.history['loss']\n",
    "y_vloss = history.history['val_loss']\n",
    "\n",
    "#학습셋으로 정확도 값 저장\n",
    "y_acc = history.history['accuracy']\n",
    "y_vacc = history.history['val_accuracy']\n",
    "\n",
    "#x값을 지저앟고 정확도를 파란색, 오차를 빨간색\n",
    "x_len = np.arange(len(y_loss))\n",
    "plt.plot(x_len, y_vacc, marker='.', c=\"red\", markersize=3, label='val_accuracy')\n",
    "plt.plot(x_len, y_acc, \"o\", c=\"blue\", markersize=3, label='accuracy')\n",
    "plt.plot(x_len, y_vloss, marker='.', c=\"green\", markersize=3, label='val_loss')\n",
    "plt.plot(x_len, y_loss, \"o\", c=\"pink\", markersize=3, label='loss')\n",
    "plt.legend(loc='right')\n",
    "plt.xlabel('epochs')\n",
    "plt.ylabel('loss')\n",
    "\n",
    "\n",
    "plt.show()"
   ]
  },
  {
   "cell_type": "code",
   "execution_count": null,
   "id": "04cb5260",
   "metadata": {},
   "outputs": [],
   "source": []
  }
 ],
 "metadata": {
  "kernelspec": {
   "display_name": "Python 3",
   "language": "python",
   "name": "python3"
  },
  "language_info": {
   "codemirror_mode": {
    "name": "ipython",
    "version": 3
   },
   "file_extension": ".py",
   "mimetype": "text/x-python",
   "name": "python",
   "nbconvert_exporter": "python",
   "pygments_lexer": "ipython3",
   "version": "3.8.8"
  }
 },
 "nbformat": 4,
 "nbformat_minor": 5
}
