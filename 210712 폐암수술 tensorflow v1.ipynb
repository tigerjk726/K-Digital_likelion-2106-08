{
 "cells": [
  {
   "cell_type": "code",
   "execution_count": 81,
   "id": "91c406fd",
   "metadata": {},
   "outputs": [],
   "source": [
    "import tensorflow.compat.v1 as tf\n",
    "tf.disable_v2_behavior()\n",
    "import numpy as np\n",
    "import matplotlib.pyplot as plt\n",
    "import matplotlib as mpl\n",
    "import pandas as pd\n",
    "\n",
    "tf.set_random_seed(0)\n",
    "\n",
    "# data_set = np.loadtxt(\"ThoraricSurgery.csv\", delimiter=\",\")\n",
    "\n",
    "data = pd.read_csv(r\"ThoraricSurgery.csv\")\n",
    "data1 = np.array(data)\n",
    "\n",
    "x_data = data1[:, :-1]\n",
    "y_data = data1[:, [-1]]\n",
    "\n",
    "X = tf.placeholder(tf.float32, shape=[None, 17])\n",
    "Y = tf.placeholder(tf.float32, shape=[None, 1])\n",
    "\n",
    "w1 = tf.Variable(tf.random_normal([17,30]), name='weight1')\n",
    "b1 = tf.Variable(tf.random_normal([30]), name='bias1')\n",
    "layer1 = tf.nn.relu(tf.matmul(X,w1)+b1)\n",
    "w2 = tf.Variable(tf.random_normal([30,1]), name='weight2')\n",
    "b2 = tf.Variable(tf.random_normal([1]), name='bias2')\n",
    "hypothesis = tf.sigmoid(tf.matmul(layer1, w2)+b2)"
   ]
  },
  {
   "cell_type": "code",
   "execution_count": null,
   "id": "e18ddae5",
   "metadata": {},
   "outputs": [],
   "source": [
    "step_val = 10000\n",
    "learning_rate = 0.1\n",
    "\n",
    "cost = -tf.reduce_mean(tf.log(hypothesis) + (1-Y)*tf.log(1-hypothesis))\n",
    "train = tf.train.GradientDescentOptimizer(learning_rate).minimize(cost)\n",
    "\n",
    "predicted = tf.cast(hypothesis > 0.5, dtype=tf.float32)\n",
    "accuracy = tf.reduce_mean(tf.cast(tf.equal(predicted, Y), dtype=tf.float32))\n",
    "\n",
    "with tf.Session() as sess:\n",
    "    sess.run(tf.global_variables_initializer())\n",
    "    for i in range(step_val):\n",
    "        _, h, p, a, c = sess.run([train, hypothesis, predicted, accuracy, cost], feed_dict={X:x_data, Y:y_data})\n",
    "        if i % (step_val/5) == 0:\n",
    "            print(i, sess.run(w2), sess.run(b2))\n",
    "            \n",
    "    h, c, a = sess.run([hypothesis, predicted, accuracy], feed_dict={X:x_data, Y:y_data})\n",
    "    print(\"\\nHypotesis:\", h, \"\\nCorrect (Y):\", c, \"\\nAccuracy : \", a) "
   ]
  },
  {
   "cell_type": "code",
   "execution_count": 97,
   "id": "736dde57",
   "metadata": {},
   "outputs": [
    {
     "name": "stdout",
     "output_type": "stream",
     "text": [
      "0 1.780068\n",
      "2000 0.4078858\n",
      "4000 0.40310326\n",
      "6000 0.39889273\n",
      "8000 0.39493325\n",
      "\n",
      "Accuracy :  0.85714287\n"
     ]
    }
   ],
   "source": [
    "import tensorflow.compat.v1 as tf\n",
    "tf.disable_v2_behavior()\n",
    "import numpy as np\n",
    "import matplotlib.pyplot as plt\n",
    "import matplotlib as mpl\n",
    "import pandas as pd\n",
    "data = pd.read_csv(r\"ThoraricSurgery.csv\")\n",
    "data1 = np.array(data)\n",
    "x_data = data1[:, :-1]\n",
    "y_data = data1[:, [-1]]\n",
    "#print(len(x_data[0]))\n",
    "X = tf.placeholder(tf.float32, shape=[None, 17])\n",
    "Y = tf.placeholder(tf.float32, shape=[None, 1])\n",
    "w1 = tf.Variable(tf.random_normal([17,30]), name='weight1')\n",
    "b1 = tf.Variable(tf.random_normal([30]), name='bias1')\n",
    "#layer1 = tf.nn.relu(tf.matmul(X,w1)+b1)\n",
    "layer1 = tf.sigmoid(tf.matmul(X,w1)+b1)  # 레이어 하나일때 lelu를 쓰면 안됨\n",
    "w2 = tf.Variable(tf.random_normal([30,1]), name='weight2')\n",
    "b2 = tf.Variable(tf.random_normal([1]), name='bias2')\n",
    "hypothesis = tf.sigmoid(tf.matmul(layer1,w2)+b2)\n",
    "step_val = 10000\n",
    "learning_rate = 0.1\n",
    "cost = -tf.reduce_mean(Y*tf.log(hypothesis) + (1-Y)*tf.log(1-hypothesis))\n",
    "train = tf.train.GradientDescentOptimizer(learning_rate).minimize(cost)\n",
    "\n",
    "predicted = tf.cast(hypothesis > 0.5, dtype=tf.float32)\n",
    "accuracy = tf.reduce_mean(tf.cast(tf.equal(predicted, Y), dtype=tf.float32))\n",
    "\n",
    "with tf.Session() as sess:\n",
    "    sess.run(tf.global_variables_initializer())\n",
    "    for i in range(step_val):\n",
    "        _, h, p, a, c = sess.run([train, hypothesis, predicted, accuracy, cost], feed_dict={X:x_data, Y:y_data})\n",
    "        if i % (step_val/5) == 0:\n",
    "            \n",
    "            print(i, c)\n",
    "        h, c, a = sess.run([hypothesis, predicted, accuracy], feed_dict={X:x_data, Y:y_data})\n",
    "    print(\"\\nAccuracy : \", a)"
   ]
  },
  {
   "cell_type": "code",
   "execution_count": null,
   "id": "7ccc138b",
   "metadata": {},
   "outputs": [],
   "source": []
  }
 ],
 "metadata": {
  "kernelspec": {
   "display_name": "Python 3",
   "language": "python",
   "name": "python3"
  },
  "language_info": {
   "codemirror_mode": {
    "name": "ipython",
    "version": 3
   },
   "file_extension": ".py",
   "mimetype": "text/x-python",
   "name": "python",
   "nbconvert_exporter": "python",
   "pygments_lexer": "ipython3",
   "version": "3.8.8"
  }
 },
 "nbformat": 4,
 "nbformat_minor": 5
}
