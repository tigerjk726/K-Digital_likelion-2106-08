{
 "cells": [
  {
   "cell_type": "code",
   "execution_count": 9,
   "id": "9ab59a62",
   "metadata": {},
   "outputs": [
    {
     "data": {
      "text/plain": [
       "(2.3, 79.0)"
      ]
     },
     "execution_count": 9,
     "metadata": {},
     "output_type": "execute_result"
    }
   ],
   "source": [
    "import numpy as np\n",
    "x = [2, 4, 6, 8]\n",
    "y = [81, 93, 91, 97]\n",
    "x0_sum, x1_sum = 0, 0\n",
    "for i in range(4):\n",
    "    x0_sum += (x[i]-sum(x)/len(x))*(y[i]-sum(y)/len(y))\n",
    "    x1_sum += (x[i]-sum(x)/len(x))**2\n",
    "a = x0_sum / (x1_sum)\n",
    "b = sum(y)/len(y) - (sum(x)/len(x)*a)\n",
    "a ,b"
   ]
  },
  {
   "cell_type": "code",
   "execution_count": 35,
   "id": "ebcb5060",
   "metadata": {
    "scrolled": true
   },
   "outputs": [
    {
     "data": {
      "text/plain": [
       "(0.17559523809523808, -0.03392857142857131)"
      ]
     },
     "execution_count": 35,
     "metadata": {},
     "output_type": "execute_result"
    }
   ],
   "source": [
    "import numpy as np\n",
    "period = np.arange(1,9)\n",
    "volume = [0.2, 0.3, 0.5, 0.6, 0.9, 0.95, 1.1, 1.5]\n",
    "x_sum, x1_sum = 0, 0\n",
    "for i in range(len(period)):\n",
    "    x_sum += (period[i]-np.mean(period))*(volume[i]-np.mean(volume))\n",
    "    x1_sum += (period[i]-np.mean(period))**2\n",
    "\n",
    "a = x_sum / (x1_sum)\n",
    "b = np.mean(volume) - (np.mean(period)*a)\n",
    "a, b"
   ]
  },
  {
   "cell_type": "code",
   "execution_count": 40,
   "id": "73b7460e",
   "metadata": {},
   "outputs": [
    {
     "data": {
      "text/plain": [
       "[2.6, 3.829, 13.487, 30]"
      ]
     },
     "execution_count": 40,
     "metadata": {},
     "output_type": "execute_result"
    }
   ],
   "source": [
    "z = [15, 22, 77, 200]\n",
    "volumex = list(map(lambda i : round(i*a + b, 3) if round(i*a + b, 3)<=30 else 30, z))\n",
    "volumex"
   ]
  },
  {
   "cell_type": "code",
   "execution_count": 41,
   "id": "4f85a7d8",
   "metadata": {},
   "outputs": [
    {
     "data": {
      "text/plain": [
       "0.29500000000000004"
      ]
     },
     "execution_count": 41,
     "metadata": {},
     "output_type": "execute_result"
    }
   ],
   "source": [
    "difference5 = round(i*a + b, 3) - volume[4]\n",
    "difference5"
   ]
  },
  {
   "cell_type": "code",
   "execution_count": 46,
   "id": "3e4c0c06",
   "metadata": {},
   "outputs": [
    {
     "data": {
      "text/plain": [
       "88.60685639384798"
      ]
     },
     "execution_count": 46,
     "metadata": {},
     "output_type": "execute_result"
    }
   ],
   "source": [
    "defer = sum([(round(i*a + b, 3) - volume[4])**2 for i in period])/len(period)\n",
    "np.sqrt(defer)"
   ]
  },
  {
   "cell_type": "code",
   "execution_count": 60,
   "id": "364ecd98",
   "metadata": {},
   "outputs": [
    {
     "data": {
      "text/plain": [
       "3.3166247903554"
      ]
     },
     "execution_count": 60,
     "metadata": {},
     "output_type": "execute_result"
    }
   ],
   "source": [
    "defer = sum([(x[i]*3 + 76 - y[i])**2 for i in range(len(x))])/len(x)\n",
    "np.sqrt(defer)"
   ]
  },
  {
   "cell_type": "code",
   "execution_count": 68,
   "id": "c8b5718b",
   "metadata": {},
   "outputs": [
    {
     "name": "stdout",
     "output_type": "stream",
     "text": [
      "공부한시간 = 2, 실제점수 = 81, 예측점수 = 82\n",
      "공부한시간 = 4, 실제점수 = 93, 예측점수 = 88\n",
      "공부한시간 = 6, 실제점수 = 91, 예측점수 = 94\n",
      "공부한시간 = 8, 실제점수 = 97, 예측점수 = 100\n",
      "[82, 88, 94, 100]\n",
      "[81, 93, 91, 97]\n",
      "RMSE 최종값3.3166247903554\n"
     ]
    }
   ],
   "source": [
    "ab = [3,76]\n",
    "data = [[2,81], [4,93], [6,91], [8,97]]\n",
    "x = [i[0] for i in data]\n",
    "y = [i[1] for i in data]\n",
    "def predict(x): # y = ax + b에 a와 b의 값을 대입하여 결과를 출력하는 함수\n",
    "    return ab[0] * x + ab[1]\n",
    "\n",
    "def rmse(p, a): # RMSE함수는 평균제곱근 오차, # sqrt는 제곱근, mean은 평균값, p 는 실제값, a 는 예측값\n",
    "    return np.sqrt(((p-a)**2).mean()) \n",
    "\n",
    "def rmse_val(predict_result, y):\n",
    "    return rmse(np.array(predict_result), np.array(y))\n",
    "\n",
    "predict_result = []\n",
    "\n",
    "for i in range(len(x)):\n",
    "    predict_result.append(predict(x[i]))\n",
    "    print(\"공부한시간 = %.f, 실제점수 = %.f, 예측점수 = %.f\" %(x[i],y[i],predict(x[i])))\n",
    "    predict(x[i])\n",
    "\n",
    "print(predict_result)\n",
    "print(y)\n",
    "print(\"RMSE 최종값\"+str(rmse_val(predict_result, y)))"
   ]
  },
  {
   "cell_type": "code",
   "execution_count": 75,
   "id": "17c0de54",
   "metadata": {},
   "outputs": [
    {
     "name": "stdout",
     "output_type": "stream",
     "text": [
      "-0.03392\n",
      "기간 = 1, 실제점수 = 0.200, 예측점수 = 0.142\n",
      "기간 = 2, 실제점수 = 0.300, 예측점수 = 0.317\n",
      "기간 = 3, 실제점수 = 0.500, 예측점수 = 0.493\n",
      "기간 = 4, 실제점수 = 0.600, 예측점수 = 0.668\n",
      "기간 = 5, 실제점수 = 0.900, 예측점수 = 0.844\n",
      "기간 = 6, 실제점수 = 0.950, 예측점수 = 1.020\n",
      "기간 = 7, 실제점수 = 1.100, 예측점수 = 1.195\n",
      "기간 = 8, 실제점수 = 1.500, 예측점수 = 1.371\n",
      "[0.14168, 0.31728, 0.49288000000000004, 0.6684800000000001, 0.84408, 1.0196800000000001, 1.1952800000000001, 1.37088]\n",
      "[0.2, 0.3, 0.5, 0.6, 0.9, 0.95, 1.1, 1.5]\n",
      "RMSE 최종값0.07260563614486139\n"
     ]
    }
   ],
   "source": [
    "ab = [0.1756,-0.03392]\n",
    "data = [[1,0.2], [2,0.3], [3,0.5], [4,0.6], [5,0.9], [6,0.95], [7,1.1], [8,1.5]]\n",
    "\n",
    "x = [i[0] for i in data]\n",
    "y = [i[1] for i in data]\n",
    "\n",
    "def predict(x): # y = ax + b에 a와 b의 값을 대입하여 결과를 출력하는 함수\n",
    "    return ab[0] * x + ab[1]\n",
    "\n",
    "def rmse(p, a): # RMSE함수는 평균제곱근 오차함수, # sqrt는 제곱근, mean은 평균값, p 는 실제값, a 는 예측값\n",
    "    return np.sqrt(((p-a)**2).mean()) \n",
    "\n",
    "def rmse_val(predict_result, y):\n",
    "    return rmse(np.array(predict_result), np.array(y))\n",
    "\n",
    "predict_result = []\n",
    "\n",
    "for i in range(len(x)):\n",
    "    predict_result.append(predict(x[i]))\n",
    "    print(\"기간 = %.f, 실제점수 = %.3f, 예측점수 = %.3f\" %(x[i],y[i],predict(x[i])))\n",
    "    predict(x[i])\n",
    "\n",
    "print(predict_result)\n",
    "print(y)\n",
    "print(\"RMSE 최종값\"+str(rmse_val(predict_result, y)))"
   ]
  },
  {
   "cell_type": "code",
   "execution_count": null,
   "id": "498f2a55",
   "metadata": {},
   "outputs": [],
   "source": []
  }
 ],
 "metadata": {
  "kernelspec": {
   "display_name": "Python 3",
   "language": "python",
   "name": "python3"
  },
  "language_info": {
   "codemirror_mode": {
    "name": "ipython",
    "version": 3
   },
   "file_extension": ".py",
   "mimetype": "text/x-python",
   "name": "python",
   "nbconvert_exporter": "python",
   "pygments_lexer": "ipython3",
   "version": "3.8.8"
  }
 },
 "nbformat": 4,
 "nbformat_minor": 5
}
