{
 "cells": [
  {
   "cell_type": "code",
   "execution_count": 1,
   "id": "ffe2ce90",
   "metadata": {},
   "outputs": [],
   "source": [
    "from tensorflow.keras.models import Sequential\n",
    "from tensorflow.keras.layers import Dense\n",
    "from tensorflow.keras import optimizers # lr 조정할때 쓰임\n",
    "\n",
    "from sklearn.preprocessing import LabelEncoder\n",
    "from sklearn.model_selection import train_test_split\n",
    "from sklearn.model_selection import StratifiedKFold\n",
    "from sklearn.preprocessing import StandardScaler\n",
    "\n",
    "import numpy as np\n",
    "import tensorflow as tf\n",
    "import pandas as pd\n",
    "\n",
    "import matplotlib.pyplot as plt\n",
    "import seaborn as sns\n",
    "\n",
    "train = pd.read_csv('2.Kaggle/210722 titanic/train.csv', header=0)\n",
    "test = pd.read_csv('2.Kaggle/210722 titanic/test.csv', header=0)"
   ]
  },
  {
   "cell_type": "code",
   "execution_count": 2,
   "id": "f5bd8983",
   "metadata": {},
   "outputs": [
    {
     "data": {
      "text/html": [
       "<div>\n",
       "<style scoped>\n",
       "    .dataframe tbody tr th:only-of-type {\n",
       "        vertical-align: middle;\n",
       "    }\n",
       "\n",
       "    .dataframe tbody tr th {\n",
       "        vertical-align: top;\n",
       "    }\n",
       "\n",
       "    .dataframe thead th {\n",
       "        text-align: right;\n",
       "    }\n",
       "</style>\n",
       "<table border=\"1\" class=\"dataframe\">\n",
       "  <thead>\n",
       "    <tr style=\"text-align: right;\">\n",
       "      <th></th>\n",
       "      <th>PassengerId</th>\n",
       "      <th>Survived</th>\n",
       "      <th>Pclass</th>\n",
       "      <th>Name</th>\n",
       "      <th>Sex</th>\n",
       "      <th>Age</th>\n",
       "      <th>SibSp</th>\n",
       "      <th>Parch</th>\n",
       "      <th>Ticket</th>\n",
       "      <th>Fare</th>\n",
       "      <th>Cabin</th>\n",
       "      <th>Embarked</th>\n",
       "    </tr>\n",
       "  </thead>\n",
       "  <tbody>\n",
       "    <tr>\n",
       "      <th>0</th>\n",
       "      <td>1</td>\n",
       "      <td>0</td>\n",
       "      <td>3</td>\n",
       "      <td>Braund, Mr. Owen Harris</td>\n",
       "      <td>male</td>\n",
       "      <td>22.0</td>\n",
       "      <td>1</td>\n",
       "      <td>0</td>\n",
       "      <td>A/5 21171</td>\n",
       "      <td>7.2500</td>\n",
       "      <td>NaN</td>\n",
       "      <td>S</td>\n",
       "    </tr>\n",
       "    <tr>\n",
       "      <th>1</th>\n",
       "      <td>2</td>\n",
       "      <td>1</td>\n",
       "      <td>1</td>\n",
       "      <td>Cumings, Mrs. John Bradley (Florence Briggs Th...</td>\n",
       "      <td>female</td>\n",
       "      <td>38.0</td>\n",
       "      <td>1</td>\n",
       "      <td>0</td>\n",
       "      <td>PC 17599</td>\n",
       "      <td>71.2833</td>\n",
       "      <td>C85</td>\n",
       "      <td>C</td>\n",
       "    </tr>\n",
       "    <tr>\n",
       "      <th>2</th>\n",
       "      <td>3</td>\n",
       "      <td>1</td>\n",
       "      <td>3</td>\n",
       "      <td>Heikkinen, Miss. Laina</td>\n",
       "      <td>female</td>\n",
       "      <td>26.0</td>\n",
       "      <td>0</td>\n",
       "      <td>0</td>\n",
       "      <td>STON/O2. 3101282</td>\n",
       "      <td>7.9250</td>\n",
       "      <td>NaN</td>\n",
       "      <td>S</td>\n",
       "    </tr>\n",
       "    <tr>\n",
       "      <th>3</th>\n",
       "      <td>4</td>\n",
       "      <td>1</td>\n",
       "      <td>1</td>\n",
       "      <td>Futrelle, Mrs. Jacques Heath (Lily May Peel)</td>\n",
       "      <td>female</td>\n",
       "      <td>35.0</td>\n",
       "      <td>1</td>\n",
       "      <td>0</td>\n",
       "      <td>113803</td>\n",
       "      <td>53.1000</td>\n",
       "      <td>C123</td>\n",
       "      <td>S</td>\n",
       "    </tr>\n",
       "    <tr>\n",
       "      <th>4</th>\n",
       "      <td>5</td>\n",
       "      <td>0</td>\n",
       "      <td>3</td>\n",
       "      <td>Allen, Mr. William Henry</td>\n",
       "      <td>male</td>\n",
       "      <td>35.0</td>\n",
       "      <td>0</td>\n",
       "      <td>0</td>\n",
       "      <td>373450</td>\n",
       "      <td>8.0500</td>\n",
       "      <td>NaN</td>\n",
       "      <td>S</td>\n",
       "    </tr>\n",
       "  </tbody>\n",
       "</table>\n",
       "</div>"
      ],
      "text/plain": [
       "   PassengerId  Survived  Pclass  \\\n",
       "0            1         0       3   \n",
       "1            2         1       1   \n",
       "2            3         1       3   \n",
       "3            4         1       1   \n",
       "4            5         0       3   \n",
       "\n",
       "                                                Name     Sex   Age  SibSp  \\\n",
       "0                            Braund, Mr. Owen Harris    male  22.0      1   \n",
       "1  Cumings, Mrs. John Bradley (Florence Briggs Th...  female  38.0      1   \n",
       "2                             Heikkinen, Miss. Laina  female  26.0      0   \n",
       "3       Futrelle, Mrs. Jacques Heath (Lily May Peel)  female  35.0      1   \n",
       "4                           Allen, Mr. William Henry    male  35.0      0   \n",
       "\n",
       "   Parch            Ticket     Fare Cabin Embarked  \n",
       "0      0         A/5 21171   7.2500   NaN        S  \n",
       "1      0          PC 17599  71.2833   C85        C  \n",
       "2      0  STON/O2. 3101282   7.9250   NaN        S  \n",
       "3      0            113803  53.1000  C123        S  \n",
       "4      0            373450   8.0500   NaN        S  "
      ]
     },
     "execution_count": 2,
     "metadata": {},
     "output_type": "execute_result"
    }
   ],
   "source": [
    "train.head()"
   ]
  },
  {
   "cell_type": "markdown",
   "id": "ce2d2b16",
   "metadata": {},
   "source": [
    "PassengerId : 승객 ID\n",
    "\n",
    "Survived:  0은 죽었다는 의미, 1은 생존의 의미\n",
    "\n",
    "Pclass : 좌석 등급\n",
    "\n",
    "Name : 승객 이름\n",
    "\n",
    "Age : 승객 나이\n",
    "\n",
    "SibSp: 함께 탑승한 형제 자매 또는 배우자의 수\n",
    "\n",
    "Parch: 함께 탑승한 부모, 아이의 수\n",
    "\n",
    "Ticket : 티켓 번호\n",
    "\n",
    "Fare : 티켓 가격\n",
    "\n",
    "Cabin: 객실 번호\n",
    "\n",
    "Embarked : 탑승 항구"
   ]
  },
  {
   "cell_type": "markdown",
   "id": "2658b323",
   "metadata": {},
   "source": [
    "결측치(누락 데이터) 처리 : train N/A 확인"
   ]
  },
  {
   "cell_type": "code",
   "execution_count": 3,
   "id": "3312c93a",
   "metadata": {
    "scrolled": true
   },
   "outputs": [
    {
     "name": "stdout",
     "output_type": "stream",
     "text": [
      "<class 'pandas.core.frame.DataFrame'>\n",
      "RangeIndex: 891 entries, 0 to 890\n",
      "Data columns (total 12 columns):\n",
      " #   Column       Non-Null Count  Dtype  \n",
      "---  ------       --------------  -----  \n",
      " 0   PassengerId  891 non-null    int64  \n",
      " 1   Survived     891 non-null    int64  \n",
      " 2   Pclass       891 non-null    int64  \n",
      " 3   Name         891 non-null    object \n",
      " 4   Sex          891 non-null    object \n",
      " 5   Age          714 non-null    float64\n",
      " 6   SibSp        891 non-null    int64  \n",
      " 7   Parch        891 non-null    int64  \n",
      " 8   Ticket       891 non-null    object \n",
      " 9   Fare         891 non-null    float64\n",
      " 10  Cabin        204 non-null    object \n",
      " 11  Embarked     889 non-null    object \n",
      "dtypes: float64(2), int64(5), object(5)\n",
      "memory usage: 83.7+ KB\n"
     ]
    },
    {
     "data": {
      "text/plain": [
       "PassengerId      0\n",
       "Survived         0\n",
       "Pclass           0\n",
       "Name             0\n",
       "Sex              0\n",
       "Age            177\n",
       "SibSp            0\n",
       "Parch            0\n",
       "Ticket           0\n",
       "Fare             0\n",
       "Cabin          687\n",
       "Embarked         2\n",
       "dtype: int64"
      ]
     },
     "execution_count": 3,
     "metadata": {},
     "output_type": "execute_result"
    }
   ],
   "source": [
    "train.info()\n",
    "train.isna().sum()"
   ]
  },
  {
   "cell_type": "code",
   "execution_count": 4,
   "id": "d7a0c6cb",
   "metadata": {},
   "outputs": [
    {
     "name": "stdout",
     "output_type": "stream",
     "text": [
      "<class 'pandas.core.frame.DataFrame'>\n",
      "RangeIndex: 418 entries, 0 to 417\n",
      "Data columns (total 11 columns):\n",
      " #   Column       Non-Null Count  Dtype  \n",
      "---  ------       --------------  -----  \n",
      " 0   PassengerId  418 non-null    int64  \n",
      " 1   Pclass       418 non-null    int64  \n",
      " 2   Name         418 non-null    object \n",
      " 3   Sex          418 non-null    object \n",
      " 4   Age          332 non-null    float64\n",
      " 5   SibSp        418 non-null    int64  \n",
      " 6   Parch        418 non-null    int64  \n",
      " 7   Ticket       418 non-null    object \n",
      " 8   Fare         417 non-null    float64\n",
      " 9   Cabin        91 non-null     object \n",
      " 10  Embarked     418 non-null    object \n",
      "dtypes: float64(2), int64(4), object(5)\n",
      "memory usage: 36.0+ KB\n"
     ]
    },
    {
     "data": {
      "text/plain": [
       "PassengerId      0\n",
       "Pclass           0\n",
       "Name             0\n",
       "Sex              0\n",
       "Age             86\n",
       "SibSp            0\n",
       "Parch            0\n",
       "Ticket           0\n",
       "Fare             1\n",
       "Cabin          327\n",
       "Embarked         0\n",
       "dtype: int64"
      ]
     },
     "execution_count": 4,
     "metadata": {},
     "output_type": "execute_result"
    }
   ],
   "source": [
    "test.info()\n",
    "test.isna().sum()"
   ]
  },
  {
   "cell_type": "markdown",
   "id": "514182f8",
   "metadata": {},
   "source": [
    " '([A-Za-z]+)\\.' : 정규표현식\n",
    " \n",
    " 대문자 A-Z로 시작하면서 소문자 a-z가 여러개이면서 마침표 .로 끝나는 것을 추출한다는 의미\n",
    " \n",
    " 예로, Braund, Mr. Owen Harris 에서 Mr 를 추출한다는 말"
   ]
  },
  {
   "cell_type": "code",
   "execution_count": 5,
   "id": "5af68dcb",
   "metadata": {},
   "outputs": [
    {
     "data": {
      "text/plain": [
       "array(['Mr', 'Mrs', 'Miss', 'Master', 'Don', 'Rev', 'Dr', 'Mme', 'Ms',\n",
       "       'Major', 'Lady', 'Sir', 'Mlle', 'Col', 'Capt', 'Countess',\n",
       "       'Jonkheer'], dtype=object)"
      ]
     },
     "execution_count": 5,
     "metadata": {},
     "output_type": "execute_result"
    }
   ],
   "source": [
    "train['Name'] = train.Name.str.extract(' ([A-Za-z]+)\\.', expand = False)\n",
    "test['Name'] = test.Name.str.extract(' ([A-Za-z]+)\\.', expand = False)\n",
    "train.Name.unique()"
   ]
  },
  {
   "cell_type": "code",
   "execution_count": 6,
   "id": "036c59c6",
   "metadata": {
    "scrolled": true
   },
   "outputs": [
    {
     "data": {
      "text/plain": [
       "Mr          517\n",
       "Miss        182\n",
       "Mrs         125\n",
       "Master       40\n",
       "Dr            7\n",
       "Rev           6\n",
       "Col           2\n",
       "Mlle          2\n",
       "Major         2\n",
       "Countess      1\n",
       "Capt          1\n",
       "Sir           1\n",
       "Mme           1\n",
       "Don           1\n",
       "Lady          1\n",
       "Ms            1\n",
       "Jonkheer      1\n",
       "Name: Name, dtype: int64"
      ]
     },
     "execution_count": 6,
     "metadata": {},
     "output_type": "execute_result"
    }
   ],
   "source": [
    "train.Name.value_counts()"
   ]
  },
  {
   "cell_type": "markdown",
   "id": "8224b55f",
   "metadata": {},
   "source": [
    "Name 의 값을 정수로 만들기"
   ]
  },
  {
   "cell_type": "code",
   "execution_count": 7,
   "id": "d789d717",
   "metadata": {},
   "outputs": [],
   "source": [
    "train['Name'] = train['Name'].astype('category').cat.codes\n",
    "test['Name'] = test['Name'].astype('category').cat.codes"
   ]
  },
  {
   "attachments": {
    "image.png": {
     "image/png": "[encoded data removed]"
    }
   },
   "cell_type": "markdown",
   "id": "846870b7",
   "metadata": {},
   "source": [
    "![image.png](attachment:image.png)"
   ]
  },
  {
   "cell_type": "markdown",
   "id": "00bd2b23",
   "metadata": {},
   "source": [
    "Embarked의 결측치 2개에 대해 가장많은 S값을 결측치에 대입"
   ]
  },
  {
   "cell_type": "code",
   "execution_count": 8,
   "id": "21d16c97",
   "metadata": {},
   "outputs": [
    {
     "name": "stdout",
     "output_type": "stream",
     "text": [
      "S    644\n",
      "C    168\n",
      "Q     77\n",
      "Name: Embarked, dtype: int64\n",
      "S    270\n",
      "C    102\n",
      "Q     46\n",
      "Name: Embarked, dtype: int64\n"
     ]
    }
   ],
   "source": [
    "print(train.Embarked.value_counts())\n",
    "print(test.Embarked.value_counts())"
   ]
  },
  {
   "cell_type": "code",
   "execution_count": 9,
   "id": "877938fd",
   "metadata": {},
   "outputs": [],
   "source": [
    "train.loc[train.Embarked.isnull(), 'Embarked'] = train['Embarked'].fillna('S')\n",
    "test.loc[test.Embarked.isnull(), 'Embarked'] = test['Embarked'].fillna('S')"
   ]
  },
  {
   "cell_type": "markdown",
   "id": "4906ce41",
   "metadata": {},
   "source": [
    "Fare의 결측치 1개에 대해 Pclass의 그룹별 값의 평균치를 결측치에 대입"
   ]
  },
  {
   "cell_type": "code",
   "execution_count": 10,
   "id": "721dc4c3",
   "metadata": {},
   "outputs": [],
   "source": [
    "test.loc[test.Fare.isnull(), 'Fare']  = train.groupby(\"Pclass\").Fare.transform(np.mean)"
   ]
  },
  {
   "cell_type": "markdown",
   "id": "52aae617",
   "metadata": {},
   "source": [
    "Cabin의 첫글자 알파벳하나만 저장"
   ]
  },
  {
   "cell_type": "code",
   "execution_count": 11,
   "id": "ef160aed",
   "metadata": {
    "scrolled": true
   },
   "outputs": [],
   "source": [
    "for i in train:\n",
    "    train['Cabin'] = train['Cabin'].str[:1]"
   ]
  },
  {
   "cell_type": "code",
   "execution_count": 12,
   "id": "a300bc08",
   "metadata": {},
   "outputs": [],
   "source": [
    "for i in test:\n",
    "    test['Cabin'] = test['Cabin'].str[:1]"
   ]
  },
  {
   "cell_type": "code",
   "execution_count": 13,
   "id": "f7464c88",
   "metadata": {},
   "outputs": [
    {
     "data": {
      "text/plain": [
       "C    59\n",
       "B    47\n",
       "D    33\n",
       "E    32\n",
       "A    15\n",
       "F    13\n",
       "G     4\n",
       "T     1\n",
       "Name: Cabin, dtype: int64"
      ]
     },
     "execution_count": 13,
     "metadata": {},
     "output_type": "execute_result"
    }
   ],
   "source": [
    "train.Cabin.value_counts()"
   ]
  },
  {
   "cell_type": "code",
   "execution_count": 14,
   "id": "cd8690bf",
   "metadata": {},
   "outputs": [],
   "source": [
    "train['Cabin'] = train['Cabin'].fillna('Z')\n",
    "test['Cabin'] = test['Cabin'].fillna('Z')"
   ]
  },
  {
   "cell_type": "code",
   "execution_count": 15,
   "id": "ac1dcb63",
   "metadata": {},
   "outputs": [],
   "source": [
    "train['Cabin'] = train['Cabin'].astype('category').cat.codes\n",
    "test['Cabin'] = test['Cabin'].astype('category').cat.codes"
   ]
  },
  {
   "cell_type": "code",
   "execution_count": 16,
   "id": "8c5bfc3f",
   "metadata": {},
   "outputs": [
    {
     "data": {
      "text/plain": [
       "8    687\n",
       "2     59\n",
       "1     47\n",
       "3     33\n",
       "4     32\n",
       "0     15\n",
       "5     13\n",
       "6      4\n",
       "7      1\n",
       "Name: Cabin, dtype: int64"
      ]
     },
     "execution_count": 16,
     "metadata": {},
     "output_type": "execute_result"
    }
   ],
   "source": [
    "train.Cabin.value_counts()"
   ]
  },
  {
   "cell_type": "code",
   "execution_count": 17,
   "id": "aa00f4de",
   "metadata": {},
   "outputs": [
    {
     "data": {
      "text/plain": [
       "7    327\n",
       "2     35\n",
       "1     18\n",
       "3     13\n",
       "4      9\n",
       "5      8\n",
       "0      7\n",
       "6      1\n",
       "Name: Cabin, dtype: int64"
      ]
     },
     "execution_count": 17,
     "metadata": {},
     "output_type": "execute_result"
    }
   ],
   "source": [
    "test.Cabin.value_counts()"
   ]
  },
  {
   "cell_type": "markdown",
   "id": "8d4af0f7",
   "metadata": {},
   "source": [
    "Cabin 과 Pclass의 연관성이 있어서 Canin의 N/A값을 Pclass에서 가져오기로함"
   ]
  },
  {
   "cell_type": "code",
   "execution_count": 18,
   "id": "b05169b2",
   "metadata": {},
   "outputs": [],
   "source": [
    "train.loc[train.Cabin.isnull(), 'Cabin']  = train.groupby(\"Pclass\").Cabin.transform(np.mean)\n",
    "test.loc[test.Cabin.isnull(), 'Cabin']  = test.groupby(\"Pclass\").Cabin.transform(np.mean)"
   ]
  },
  {
   "cell_type": "markdown",
   "id": "4af58618",
   "metadata": {},
   "source": [
    "Age의 결측치에 대해 Name의 그룹별 나이의 평균값을 결측치에 대입\n",
    "\n",
    "groupby(\"Name\").Age.transform('median') 에서 groupby로 묶여진 인덱스에 Age의 np.mean(평균값)으로 transform된다."
   ]
  },
  {
   "cell_type": "code",
   "execution_count": 19,
   "id": "83528721",
   "metadata": {},
   "outputs": [
    {
     "data": {
      "text/plain": [
       "Text(0.5, 1.0, 'Age Distribution')"
      ]
     },
     "execution_count": 19,
     "metadata": {},
     "output_type": "execute_result"
    },
    {
     "data": {
      "image/png": "[encoded data removed]",
      "text/plain": [
       "<Figure size 1080x216 with 1 Axes>"
      ]
     },
     "metadata": {
      "needs_background": "light"
     },
     "output_type": "display_data"
    }
   ],
   "source": [
    "plt.figure(figsize=(15, 3))\n",
    "train['Age'].hist(bins=40)\n",
    "plt.title('Age Distribution')"
   ]
  },
  {
   "cell_type": "code",
   "execution_count": 20,
   "id": "e35bc33f",
   "metadata": {},
   "outputs": [],
   "source": [
    "train.loc[train.Age.isnull(), 'Age'] = train.groupby(\"Name\").Age.transform(np.mean)\n",
    "test.loc[test.Age.isnull(), 'Age'] = test.groupby(\"Name\").Age.transform(np.mean)"
   ]
  },
  {
   "cell_type": "code",
   "execution_count": 21,
   "id": "b8819bcf",
   "metadata": {},
   "outputs": [
    {
     "data": {
      "text/plain": [
       "PassengerId    0\n",
       "Pclass         0\n",
       "Name           0\n",
       "Sex            0\n",
       "Age            1\n",
       "SibSp          0\n",
       "Parch          0\n",
       "Ticket         0\n",
       "Fare           0\n",
       "Cabin          0\n",
       "Embarked       0\n",
       "dtype: int64"
      ]
     },
     "execution_count": 21,
     "metadata": {},
     "output_type": "execute_result"
    }
   ],
   "source": [
    "test.isna().sum()"
   ]
  },
  {
   "cell_type": "code",
   "execution_count": 22,
   "id": "b8d27954",
   "metadata": {
    "scrolled": true
   },
   "outputs": [
    {
     "data": {
      "text/plain": [
       "PassengerId    0\n",
       "Survived       0\n",
       "Pclass         0\n",
       "Name           0\n",
       "Sex            0\n",
       "Age            0\n",
       "SibSp          0\n",
       "Parch          0\n",
       "Ticket         0\n",
       "Fare           0\n",
       "Cabin          0\n",
       "Embarked       0\n",
       "dtype: int64"
      ]
     },
     "execution_count": 22,
     "metadata": {},
     "output_type": "execute_result"
    }
   ],
   "source": [
    "train.isna().sum()"
   ]
  },
  {
   "cell_type": "markdown",
   "id": "4a095a39",
   "metadata": {},
   "source": [
    "Test의 Age에 결측치 하나가 왜 발생하는지 모르지만 평균값 30을 넣어줌"
   ]
  },
  {
   "cell_type": "code",
   "execution_count": 23,
   "id": "209d8df0",
   "metadata": {},
   "outputs": [],
   "source": [
    "test[test['Age'].isnull()==True] = 30"
   ]
  },
  {
   "cell_type": "markdown",
   "id": "eebde402",
   "metadata": {},
   "source": [
    "Sex 와 Embarked 값을 category로 변환"
   ]
  },
  {
   "cell_type": "code",
   "execution_count": 24,
   "id": "20c2d894",
   "metadata": {},
   "outputs": [],
   "source": [
    "train['Sex'] = train['Sex'].astype('category').cat.codes\n",
    "train['Embarked'] = train['Embarked'].astype('category').cat.codes\n",
    "test['Sex'] = test['Sex'].astype('category').cat.codes\n",
    "test['Embarked'] = test['Embarked'].astype('category').cat.codes"
   ]
  },
  {
   "cell_type": "markdown",
   "id": "e79dd281",
   "metadata": {},
   "source": [
    "Ticket은 번호에 따른 나이나 fair에 상관관계가 없음을 확인하여 드랍시킴"
   ]
  },
  {
   "cell_type": "code",
   "execution_count": 25,
   "id": "135800d6",
   "metadata": {},
   "outputs": [],
   "source": [
    "train = train.drop(['Ticket'], axis = 1)\n",
    "test = test.drop(['Ticket'], axis = 1)"
   ]
  },
  {
   "cell_type": "code",
   "execution_count": 26,
   "id": "6e2ff9cd",
   "metadata": {},
   "outputs": [
    {
     "name": "stdout",
     "output_type": "stream",
     "text": [
      "<class 'pandas.core.frame.DataFrame'>\n",
      "RangeIndex: 891 entries, 0 to 890\n",
      "Data columns (total 11 columns):\n",
      " #   Column       Non-Null Count  Dtype  \n",
      "---  ------       --------------  -----  \n",
      " 0   PassengerId  891 non-null    int64  \n",
      " 1   Survived     891 non-null    int64  \n",
      " 2   Pclass       891 non-null    int64  \n",
      " 3   Name         891 non-null    int8   \n",
      " 4   Sex          891 non-null    int8   \n",
      " 5   Age          891 non-null    float64\n",
      " 6   SibSp        891 non-null    int64  \n",
      " 7   Parch        891 non-null    int64  \n",
      " 8   Fare         891 non-null    float64\n",
      " 9   Cabin        891 non-null    int8   \n",
      " 10  Embarked     891 non-null    int8   \n",
      "dtypes: float64(2), int64(5), int8(4)\n",
      "memory usage: 52.3 KB\n",
      "<class 'pandas.core.frame.DataFrame'>\n",
      "RangeIndex: 418 entries, 0 to 417\n",
      "Data columns (total 10 columns):\n",
      " #   Column       Non-Null Count  Dtype  \n",
      "---  ------       --------------  -----  \n",
      " 0   PassengerId  418 non-null    int64  \n",
      " 1   Pclass       418 non-null    int64  \n",
      " 2   Name         418 non-null    int8   \n",
      " 3   Sex          418 non-null    int8   \n",
      " 4   Age          418 non-null    float64\n",
      " 5   SibSp        418 non-null    int64  \n",
      " 6   Parch        418 non-null    int64  \n",
      " 7   Fare         418 non-null    float64\n",
      " 8   Cabin        418 non-null    int8   \n",
      " 9   Embarked     418 non-null    int8   \n",
      "dtypes: float64(2), int64(4), int8(4)\n",
      "memory usage: 21.4 KB\n"
     ]
    }
   ],
   "source": [
    "train.info()\n",
    "test.info()"
   ]
  },
  {
   "cell_type": "markdown",
   "id": "6b55495d",
   "metadata": {},
   "source": [
    "Modeling"
   ]
  },
  {
   "cell_type": "code",
   "execution_count": 28,
   "id": "be7a8201",
   "metadata": {},
   "outputs": [],
   "source": [
    "x = train[[\"PassengerId\", \"Pclass\", \"Name\", \"Sex\", \"Age\", \"SibSp\", \"Parch\", \"Fare\", \"Cabin\", \"Embarked\"]]\n",
    "y = train[[\"Survived\"]]\n",
    "\n",
    "x_final = test[[\"PassengerId\", \"Pclass\", \"Name\", \"Sex\", \"Age\", \"SibSp\", \"Parch\", \"Fare\", \"Cabin\", \"Embarked\"]]"
   ]
  },
  {
   "cell_type": "code",
   "execution_count": 62,
   "id": "eb094a13",
   "metadata": {
    "scrolled": true
   },
   "outputs": [
    {
     "data": {
      "text/plain": [
       "50    942\n",
       "51    943\n",
       "52    944\n",
       "53    945\n",
       "54    946\n",
       "55    947\n",
       "56    948\n",
       "57    949\n",
       "58    950\n",
       "59    951\n",
       "60    952\n",
       "61    953\n",
       "62    954\n",
       "63    955\n",
       "64    956\n",
       "65    957\n",
       "66    958\n",
       "67    959\n",
       "68    960\n",
       "69    961\n",
       "70    962\n",
       "71    963\n",
       "72    964\n",
       "73    965\n",
       "74    966\n",
       "75    967\n",
       "76    968\n",
       "77    969\n",
       "78    970\n",
       "79    971\n",
       "80    972\n",
       "81    973\n",
       "82    974\n",
       "83    975\n",
       "84    976\n",
       "85    977\n",
       "86    978\n",
       "87    979\n",
       "88     30\n",
       "89    981\n",
       "90    982\n",
       "91    983\n",
       "92    984\n",
       "93    985\n",
       "94    986\n",
       "95    987\n",
       "96    988\n",
       "97    989\n",
       "98    990\n",
       "99    991\n",
       "Name: PassengerId, dtype: int64"
      ]
     },
     "execution_count": 62,
     "metadata": {},
     "output_type": "execute_result"
    }
   ],
   "source": [
    "x_final[\"PassengerId\"][50:100]"
   ]
  },
  {
   "cell_type": "code",
   "execution_count": 55,
   "id": "f70a1c09",
   "metadata": {},
   "outputs": [
    {
     "name": "stdout",
     "output_type": "stream",
     "text": [
      "23/23 [==============================] - 0s 477us/step - loss: 0.4396 - accuracy: 0.8216\n",
      "6/6 [==============================] - 0s 499us/step - loss: 0.5302 - accuracy: 0.8101\n",
      "evaluate(train)0.8216 / evaluate(test)0.8101\n"
     ]
    },
    {
     "data": {
      "image/png": "[encoded data removed]",
      "text/plain": [
       "<Figure size 432x288 with 1 Axes>"
      ]
     },
     "metadata": {
      "needs_background": "light"
     },
     "output_type": "display_data"
    }
   ],
   "source": [
    "x_train, x_test, y_train, y_test = train_test_split(x, y, test_size = 0.2, random_state=0)\n",
    "\n",
    "model = Sequential()\n",
    "model.add(Dense(1000, input_dim=10, activation='relu'))\n",
    "model.add(Dense(100, activation='relu'))\n",
    "model.add(Dense(10, activation='relu'))\n",
    "model.add(Dense(1, activation='sigmoid'))\n",
    "\n",
    "# 모델 학습과정 설정\n",
    "model.compile(loss='binary_crossentropy', optimizer=optimizers.Adam(lr=0.001), metrics=['accuracy'])\n",
    "\n",
    "from tensorflow.keras.callbacks import ModelCheckpoint, EarlyStopping\n",
    "\n",
    "# 자동중단 설정\n",
    "early_stopping_callback = EarlyStopping(monitor='val_loss', patience=100)\n",
    "\n",
    "#모델실행\n",
    "history = model.fit(x_train, y_train, validation_split=0.33, epochs=3000, batch_size=50, verbose=0,\n",
    "                    callbacks=[early_stopping_callback])\n",
    "\n",
    "print(\"evaluate(train)%.4f / evaluate(test)%.4f\" %(model.evaluate(x_train,y_train)[1], model.evaluate(x_test,y_test)[1]))\n",
    "\n",
    "#테스트셋으로 실험 오차값 저장\n",
    "y_loss = history.history['loss']\n",
    "y_vloss = history.history['val_loss']\n",
    "\n",
    "#학습셋으로 정확도 값 저장\n",
    "y_acc = history.history['accuracy']\n",
    "y_vacc = history.history['val_accuracy']\n",
    "\n",
    "#x값을 지저앟고 정확도를 파란색, 오차를 빨간색\n",
    "x_len = np.arange(len(y_acc))\n",
    "plt.plot(x_len, y_vacc, \"o\", c=\"red\", markersize=3, label='val_accuracy')\n",
    "plt.plot(x_len, y_acc, \"o\", c=\"blue\", markersize=3, label='accuracy')\n",
    "plt.plot(x_len, y_vloss, \"o\", c=\"green\", markersize=3, label='val_loss')\n",
    "plt.plot(x_len, y_loss, \"o\", c=\"pink\", markersize=3, label='loss')\n",
    "plt.legend(loc='right')\n",
    "plt.xlabel('epochs')\n",
    "plt.ylabel('rate')\n",
    "\n",
    "\n",
    "plt.show()"
   ]
  },
  {
   "cell_type": "code",
   "execution_count": 56,
   "id": "dbc32acb",
   "metadata": {},
   "outputs": [],
   "source": [
    "predictions = model.predict(x_final)\n",
    "pred = []\n",
    "for i in predictions:\n",
    "    if i[0] < 0.5: i[0] = 0\n",
    "    else: i[0] = 1\n",
    "    pred.append(int(i[0]))\n",
    "submission = pd.DataFrame(data = zip(x_final[\"PassengerId\"], pred), columns = ['PassengerId', 'Survived'])\n",
    "submission.to_csv('./submission2.csv', index = False)"
   ]
  },
  {
   "cell_type": "code",
   "execution_count": 61,
   "id": "06b45454",
   "metadata": {},
   "outputs": [
    {
     "data": {
      "text/plain": [
       "50    942\n",
       "51    943\n",
       "52    944\n",
       "53    945\n",
       "54    946\n",
       "55    947\n",
       "56    948\n",
       "57    949\n",
       "58    950\n",
       "59    951\n",
       "60    952\n",
       "61    953\n",
       "62    954\n",
       "63    955\n",
       "64    956\n",
       "65    957\n",
       "66    958\n",
       "67    959\n",
       "68    960\n",
       "69    961\n",
       "70    962\n",
       "71    963\n",
       "72    964\n",
       "73    965\n",
       "74    966\n",
       "75    967\n",
       "76    968\n",
       "77    969\n",
       "78    970\n",
       "79    971\n",
       "80    972\n",
       "81    973\n",
       "82    974\n",
       "83    975\n",
       "84    976\n",
       "85    977\n",
       "86    978\n",
       "87    979\n",
       "88     30\n",
       "89    981\n",
       "90    982\n",
       "91    983\n",
       "92    984\n",
       "93    985\n",
       "94    986\n",
       "95    987\n",
       "96    988\n",
       "97    989\n",
       "98    990\n",
       "99    991\n",
       "Name: PassengerId, dtype: int64"
      ]
     },
     "execution_count": 61,
     "metadata": {},
     "output_type": "execute_result"
    }
   ],
   "source": [
    "x_final[\"PassengerId\"][50:100]"
   ]
  },
  {
   "cell_type": "code",
   "execution_count": null,
   "id": "5f202bd4",
   "metadata": {},
   "outputs": [],
   "source": []
  }
 ],
 "metadata": {
  "kernelspec": {
   "display_name": "Python 3",
   "language": "python",
   "name": "python3"
  },
  "language_info": {
   "codemirror_mode": {
    "name": "ipython",
    "version": 3
   },
   "file_extension": ".py",
   "mimetype": "text/x-python",
   "name": "python",
   "nbconvert_exporter": "python",
   "pygments_lexer": "ipython3",
   "version": "3.8.8"
  }
 },
 "nbformat": 4,
 "nbformat_minor": 5
}
